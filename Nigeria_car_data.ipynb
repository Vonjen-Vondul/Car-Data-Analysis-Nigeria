{
 "cells": [
  {
   "cell_type": "code",
   "execution_count": 86,
   "metadata": {},
   "outputs": [],
   "source": [
    "import numpy as np\n",
    "import pandas as pd\n",
    "import scipy.stats as stats\n",
    "\n",
    "#for data visualization\n",
    "\n",
    "import seaborn as sns\n",
    "import matplotlib.pyplot as plt\n",
    "import plotly\n",
    "import plotly.express as px\n",
    "from matplotlib.pyplot import figure\n",
    "from matplotlib.ticker import MaxNLocator\n",
    "import nbformat\n",
    "\n"
   ]
  },
  {
   "cell_type": "code",
   "execution_count": 87,
   "metadata": {},
   "outputs": [
    {
     "data": {
      "text/html": [
       "<div>\n",
       "<style scoped>\n",
       "    .dataframe tbody tr th:only-of-type {\n",
       "        vertical-align: middle;\n",
       "    }\n",
       "\n",
       "    .dataframe tbody tr th {\n",
       "        vertical-align: top;\n",
       "    }\n",
       "\n",
       "    .dataframe thead th {\n",
       "        text-align: right;\n",
       "    }\n",
       "</style>\n",
       "<table border=\"1\" class=\"dataframe\">\n",
       "  <thead>\n",
       "    <tr style=\"text-align: right;\">\n",
       "      <th></th>\n",
       "      <th>body_type</th>\n",
       "      <th>bought_condition</th>\n",
       "      <th>car_id</th>\n",
       "      <th>city</th>\n",
       "      <th>color</th>\n",
       "      <th>condition</th>\n",
       "      <th>engine_size</th>\n",
       "      <th>fuel_type</th>\n",
       "      <th>make</th>\n",
       "      <th>mileage</th>\n",
       "      <th>model</th>\n",
       "      <th>price</th>\n",
       "      <th>registered_city</th>\n",
       "      <th>selling_condition</th>\n",
       "      <th>transmission</th>\n",
       "      <th>year_of_manufacture</th>\n",
       "    </tr>\n",
       "  </thead>\n",
       "  <tbody>\n",
       "    <tr>\n",
       "      <th>0</th>\n",
       "      <td>NaN</td>\n",
       "      <td>Imported</td>\n",
       "      <td>jEY4wdZCrZRlz3VMMSP5ORrkVRUdhxP</td>\n",
       "      <td>Ajah</td>\n",
       "      <td>Red</td>\n",
       "      <td>Nigerian Used</td>\n",
       "      <td>2400.0</td>\n",
       "      <td>Petrol</td>\n",
       "      <td>Hyundai</td>\n",
       "      <td>101070</td>\n",
       "      <td>Sonata</td>\n",
       "      <td>15187500</td>\n",
       "      <td>Lagos</td>\n",
       "      <td>Registered</td>\n",
       "      <td>Automatic</td>\n",
       "      <td>2017</td>\n",
       "    </tr>\n",
       "    <tr>\n",
       "      <th>1</th>\n",
       "      <td>NaN</td>\n",
       "      <td>Registered</td>\n",
       "      <td>jEY4wdZIM55Yjiv7XraO7Z3lk15Z9Of</td>\n",
       "      <td>Ikeja</td>\n",
       "      <td>Silver</td>\n",
       "      <td>Nigerian Used</td>\n",
       "      <td>1800.0</td>\n",
       "      <td>Petrol</td>\n",
       "      <td>Toyota</td>\n",
       "      <td>332348</td>\n",
       "      <td>Corolla</td>\n",
       "      <td>5062500</td>\n",
       "      <td>NaN</td>\n",
       "      <td>Registered</td>\n",
       "      <td>Automatic</td>\n",
       "      <td>2004</td>\n",
       "    </tr>\n",
       "    <tr>\n",
       "      <th>2</th>\n",
       "      <td>SUV</td>\n",
       "      <td>Registered</td>\n",
       "      <td>jEY4wdZFuW8Ip9xU2rQcvTUHjNAuNtn</td>\n",
       "      <td>Yaba</td>\n",
       "      <td>Black</td>\n",
       "      <td>Nigerian Used</td>\n",
       "      <td>3500.0</td>\n",
       "      <td>Petrol</td>\n",
       "      <td>Acura</td>\n",
       "      <td>254710</td>\n",
       "      <td>MDX</td>\n",
       "      <td>3712500</td>\n",
       "      <td>LAGOS</td>\n",
       "      <td>Registered</td>\n",
       "      <td>Automatic</td>\n",
       "      <td>2003</td>\n",
       "    </tr>\n",
       "    <tr>\n",
       "      <th>3</th>\n",
       "      <td>Crossover</td>\n",
       "      <td>Registered</td>\n",
       "      <td>jEY4wdZBMUd8h0pfZdoO9iMHz59dpP4</td>\n",
       "      <td>Ojodu</td>\n",
       "      <td>Silver</td>\n",
       "      <td>Nigerian Used</td>\n",
       "      <td>3500.0</td>\n",
       "      <td>Petrol</td>\n",
       "      <td>Toyota</td>\n",
       "      <td>304934</td>\n",
       "      <td>Venza</td>\n",
       "      <td>13500000</td>\n",
       "      <td>LAGOS</td>\n",
       "      <td>Registered</td>\n",
       "      <td>Automatic</td>\n",
       "      <td>2011</td>\n",
       "    </tr>\n",
       "    <tr>\n",
       "      <th>4</th>\n",
       "      <td>NaN</td>\n",
       "      <td>Registered</td>\n",
       "      <td>jEY4wdZRUW39MgXqSzdqdxZPyNbvcLJ</td>\n",
       "      <td>Asokoro</td>\n",
       "      <td>Gray</td>\n",
       "      <td>Nigerian Used</td>\n",
       "      <td>3300.0</td>\n",
       "      <td>Petrol</td>\n",
       "      <td>Toyota</td>\n",
       "      <td>155439</td>\n",
       "      <td>Sienna</td>\n",
       "      <td>7312500</td>\n",
       "      <td>NaN</td>\n",
       "      <td>Registered</td>\n",
       "      <td>Automatic</td>\n",
       "      <td>2006</td>\n",
       "    </tr>\n",
       "  </tbody>\n",
       "</table>\n",
       "</div>"
      ],
      "text/plain": [
       "   body_type bought_condition                           car_id     city  \\\n",
       "0        NaN         Imported  jEY4wdZCrZRlz3VMMSP5ORrkVRUdhxP     Ajah   \n",
       "1        NaN       Registered  jEY4wdZIM55Yjiv7XraO7Z3lk15Z9Of    Ikeja   \n",
       "2        SUV       Registered  jEY4wdZFuW8Ip9xU2rQcvTUHjNAuNtn     Yaba   \n",
       "3  Crossover       Registered  jEY4wdZBMUd8h0pfZdoO9iMHz59dpP4    Ojodu   \n",
       "4        NaN       Registered  jEY4wdZRUW39MgXqSzdqdxZPyNbvcLJ  Asokoro   \n",
       "\n",
       "    color      condition  engine_size fuel_type     make  mileage    model  \\\n",
       "0     Red  Nigerian Used       2400.0    Petrol  Hyundai   101070   Sonata   \n",
       "1  Silver  Nigerian Used       1800.0    Petrol   Toyota   332348  Corolla   \n",
       "2   Black  Nigerian Used       3500.0    Petrol    Acura   254710      MDX   \n",
       "3  Silver  Nigerian Used       3500.0    Petrol   Toyota   304934    Venza   \n",
       "4    Gray  Nigerian Used       3300.0    Petrol   Toyota   155439   Sienna   \n",
       "\n",
       "      price registered_city selling_condition transmission  \\\n",
       "0  15187500           Lagos        Registered    Automatic   \n",
       "1   5062500             NaN        Registered    Automatic   \n",
       "2   3712500           LAGOS        Registered    Automatic   \n",
       "3  13500000           LAGOS        Registered    Automatic   \n",
       "4   7312500             NaN        Registered    Automatic   \n",
       "\n",
       "   year_of_manufacture  \n",
       "0                 2017  \n",
       "1                 2004  \n",
       "2                 2003  \n",
       "3                 2011  \n",
       "4                 2006  "
      ]
     },
     "execution_count": 87,
     "metadata": {},
     "output_type": "execute_result"
    }
   ],
   "source": [
    "df = pd.read_csv('C:\\\\Users\\\\12028\\\\Python\\\\CSV\\\\car_data.csv')\n",
    "df.head()"
   ]
  },
  {
   "cell_type": "code",
   "execution_count": 88,
   "metadata": {},
   "outputs": [],
   "source": [
    "df.drop(columns=['bought_condition'], inplace=True)"
   ]
  },
  {
   "cell_type": "code",
   "execution_count": 89,
   "metadata": {},
   "outputs": [
    {
     "data": {
      "text/html": [
       "<div>\n",
       "<style scoped>\n",
       "    .dataframe tbody tr th:only-of-type {\n",
       "        vertical-align: middle;\n",
       "    }\n",
       "\n",
       "    .dataframe tbody tr th {\n",
       "        vertical-align: top;\n",
       "    }\n",
       "\n",
       "    .dataframe thead th {\n",
       "        text-align: right;\n",
       "    }\n",
       "</style>\n",
       "<table border=\"1\" class=\"dataframe\">\n",
       "  <thead>\n",
       "    <tr style=\"text-align: right;\">\n",
       "      <th></th>\n",
       "      <th>engine_size</th>\n",
       "      <th>mileage</th>\n",
       "      <th>price</th>\n",
       "      <th>year_of_manufacture</th>\n",
       "    </tr>\n",
       "  </thead>\n",
       "  <tbody>\n",
       "    <tr>\n",
       "      <th>count</th>\n",
       "      <td>1762.000000</td>\n",
       "      <td>1.801000e+03</td>\n",
       "      <td>1.801000e+03</td>\n",
       "      <td>1801.000000</td>\n",
       "    </tr>\n",
       "    <tr>\n",
       "      <th>mean</th>\n",
       "      <td>2964.841657</td>\n",
       "      <td>2.911995e+05</td>\n",
       "      <td>1.072434e+07</td>\n",
       "      <td>2008.894503</td>\n",
       "    </tr>\n",
       "    <tr>\n",
       "      <th>std</th>\n",
       "      <td>2101.636908</td>\n",
       "      <td>3.791208e+06</td>\n",
       "      <td>1.746354e+07</td>\n",
       "      <td>4.928599</td>\n",
       "    </tr>\n",
       "    <tr>\n",
       "      <th>min</th>\n",
       "      <td>35.000000</td>\n",
       "      <td>1.000000e+00</td>\n",
       "      <td>1.125000e+06</td>\n",
       "      <td>1992.000000</td>\n",
       "    </tr>\n",
       "    <tr>\n",
       "      <th>25%</th>\n",
       "      <td>2000.000000</td>\n",
       "      <td>1.184480e+05</td>\n",
       "      <td>3.990000e+06</td>\n",
       "      <td>2005.000000</td>\n",
       "    </tr>\n",
       "    <tr>\n",
       "      <th>50%</th>\n",
       "      <td>3000.000000</td>\n",
       "      <td>1.814530e+05</td>\n",
       "      <td>6.195000e+06</td>\n",
       "      <td>2008.000000</td>\n",
       "    </tr>\n",
       "    <tr>\n",
       "      <th>75%</th>\n",
       "      <td>3500.000000</td>\n",
       "      <td>2.504860e+05</td>\n",
       "      <td>1.144000e+07</td>\n",
       "      <td>2012.000000</td>\n",
       "    </tr>\n",
       "    <tr>\n",
       "      <th>max</th>\n",
       "      <td>63000.000000</td>\n",
       "      <td>1.609340e+08</td>\n",
       "      <td>4.725000e+08</td>\n",
       "      <td>2024.000000</td>\n",
       "    </tr>\n",
       "  </tbody>\n",
       "</table>\n",
       "</div>"
      ],
      "text/plain": [
       "        engine_size       mileage         price  year_of_manufacture\n",
       "count   1762.000000  1.801000e+03  1.801000e+03          1801.000000\n",
       "mean    2964.841657  2.911995e+05  1.072434e+07          2008.894503\n",
       "std     2101.636908  3.791208e+06  1.746354e+07             4.928599\n",
       "min       35.000000  1.000000e+00  1.125000e+06          1992.000000\n",
       "25%     2000.000000  1.184480e+05  3.990000e+06          2005.000000\n",
       "50%     3000.000000  1.814530e+05  6.195000e+06          2008.000000\n",
       "75%     3500.000000  2.504860e+05  1.144000e+07          2012.000000\n",
       "max    63000.000000  1.609340e+08  4.725000e+08          2024.000000"
      ]
     },
     "execution_count": 89,
     "metadata": {},
     "output_type": "execute_result"
    }
   ],
   "source": [
    "df.describe()"
   ]
  },
  {
   "cell_type": "code",
   "execution_count": 90,
   "metadata": {},
   "outputs": [
    {
     "name": "stdout",
     "output_type": "stream",
     "text": [
      "<class 'pandas.core.frame.DataFrame'>\n",
      "RangeIndex: 1801 entries, 0 to 1800\n",
      "Data columns (total 15 columns):\n",
      " #   Column               Non-Null Count  Dtype  \n",
      "---  ------               --------------  -----  \n",
      " 0   body_type            838 non-null    object \n",
      " 1   car_id               1801 non-null   object \n",
      " 2   city                 1801 non-null   object \n",
      " 3   color                1801 non-null   object \n",
      " 4   condition            1801 non-null   object \n",
      " 5   engine_size          1762 non-null   float64\n",
      " 6   fuel_type            1801 non-null   object \n",
      " 7   make                 1801 non-null   object \n",
      " 8   mileage              1801 non-null   int64  \n",
      " 9   model                1801 non-null   object \n",
      " 10  price                1801 non-null   int64  \n",
      " 11  registered_city      1007 non-null   object \n",
      " 12  selling_condition    1800 non-null   object \n",
      " 13  transmission         1801 non-null   object \n",
      " 14  year_of_manufacture  1801 non-null   int64  \n",
      "dtypes: float64(1), int64(3), object(11)\n",
      "memory usage: 211.2+ KB\n"
     ]
    }
   ],
   "source": [
    "df.info()"
   ]
  },
  {
   "cell_type": "code",
   "execution_count": 91,
   "metadata": {},
   "outputs": [],
   "source": [
    "df['currency'] = 'NGN' "
   ]
  },
  {
   "cell_type": "code",
   "execution_count": 92,
   "metadata": {},
   "outputs": [
    {
     "data": {
      "text/plain": [
       "body_type              0\n",
       "car_id                 0\n",
       "city                   0\n",
       "color                  0\n",
       "condition              0\n",
       "engine_size            0\n",
       "fuel_type              0\n",
       "make                   0\n",
       "mileage                0\n",
       "model                  0\n",
       "price                  0\n",
       "registered_city        0\n",
       "selling_condition      0\n",
       "transmission           0\n",
       "year_of_manufacture    0\n",
       "currency               0\n",
       "dtype: int64"
      ]
     },
     "execution_count": 92,
     "metadata": {},
     "output_type": "execute_result"
    }
   ],
   "source": [
    "df[df.isnull()].count()"
   ]
  },
  {
   "cell_type": "code",
   "execution_count": 93,
   "metadata": {},
   "outputs": [
    {
     "data": {
      "text/plain": [
       "body_type              0\n",
       "car_id                 0\n",
       "city                   0\n",
       "color                  0\n",
       "condition              0\n",
       "engine_size            0\n",
       "fuel_type              0\n",
       "make                   0\n",
       "mileage                0\n",
       "model                  0\n",
       "price                  0\n",
       "registered_city        0\n",
       "selling_condition      0\n",
       "transmission           0\n",
       "year_of_manufacture    0\n",
       "currency               0\n",
       "dtype: int64"
      ]
     },
     "execution_count": 93,
     "metadata": {},
     "output_type": "execute_result"
    }
   ],
   "source": [
    "df[df.duplicated()].count()"
   ]
  },
  {
   "cell_type": "code",
   "execution_count": 94,
   "metadata": {},
   "outputs": [
    {
     "data": {
      "text/plain": [
       "body_type              0\n",
       "car_id                 0\n",
       "city                   0\n",
       "color                  0\n",
       "condition              0\n",
       "engine_size            0\n",
       "fuel_type              0\n",
       "make                   0\n",
       "mileage                0\n",
       "model                  0\n",
       "price                  0\n",
       "registered_city        0\n",
       "selling_condition      0\n",
       "transmission           0\n",
       "year_of_manufacture    0\n",
       "currency               0\n",
       "dtype: int64"
      ]
     },
     "execution_count": 94,
     "metadata": {},
     "output_type": "execute_result"
    }
   ],
   "source": [
    "df[df.isna()].count()"
   ]
  },
  {
   "cell_type": "code",
   "execution_count": 95,
   "metadata": {},
   "outputs": [
    {
     "name": "stdout",
     "output_type": "stream",
     "text": [
      "The most expensive car is:\n",
      "body_type                                          SUV\n",
      "car_id                 jEY4wdZxthv65oSSJIYlLWSiCQzmswD\n",
      "city                                             Ikoyi\n",
      "color                                            White\n",
      "condition                                 Foreign Used\n",
      "engine_size                                     4000.0\n",
      "fuel_type                                       Petrol\n",
      "make                                     Mercedes-Benz\n",
      "mileage                                            376\n",
      "model                                          G-Class\n",
      "price                                        472500000\n",
      "registered_city                                    NaN\n",
      "selling_condition                             Imported\n",
      "transmission                                 Automatic\n",
      "year_of_manufacture                               2021\n",
      "currency                                           NGN\n",
      "Name: 67, dtype: object\n"
     ]
    }
   ],
   "source": [
    "most_expensive_car = df.loc[df['price'].idxmax()]\n",
    "print(\"The most expensive car is:\")\n",
    "print(most_expensive_car)"
   ]
  },
  {
   "cell_type": "code",
   "execution_count": 96,
   "metadata": {},
   "outputs": [
    {
     "data": {
      "image/png": "[encoded data removed]",
      "text/plain": [
       "<Figure size 1000x600 with 1 Axes>"
      ]
     },
     "metadata": {},
     "output_type": "display_data"
    }
   ],
   "source": [
    "# Binning car prices into increments of 500,000 NGN\n",
    "bins = [0, 5000000, 10000000, 15000000, 20000000, 25000000]  # Adjust as needed\n",
    "labels = ['0-5M', '5-10M', '10-15M', '15-20M', '20-25M']  # Adjust labels accordingly\n",
    "df['price_range'] = pd.cut(df['price'], bins=bins, labels=labels, right=False)\n",
    "\n",
    "# Counting cars in each price range\n",
    "counts = df['price_range'].value_counts().sort_index()\n",
    "\n",
    "# Plotting the bar chart\n",
    "plt.figure(figsize=(10, 6))\n",
    "counts.plot(kind='bar', color='skyblue')\n",
    "plt.title('Distribution of Cars Bought by Price Range')\n",
    "plt.xlabel('Price Range (NGN)')\n",
    "plt.ylabel('Number of Cars')\n",
    "plt.xticks(rotation=0)\n",
    "plt.grid(axis='y')\n",
    "\n",
    "# Adding labels to the bars\n",
    "for i, v in enumerate(counts):\n",
    "    plt.text(i, v + 0.5, str(v), ha='center', va='bottom')\n",
    "\n",
    "plt.tight_layout()\n",
    "plt.show()"
   ]
  },
  {
   "cell_type": "code",
   "execution_count": 98,
   "metadata": {},
   "outputs": [
    {
     "data": {
      "image/png": "[encoded data removed]",
      "text/plain": [
       "<Figure size 1000x1000 with 1 Axes>"
      ]
     },
     "metadata": {},
     "output_type": "display_data"
    }
   ],
   "source": [
    "fig = plt.figure(figsize = (10,10))\n",
    "ax = fig.subplots()\n",
    "df.make.value_counts().plot(ax=ax, kind='pie',autopct='%1.1f%%')\n",
    "ax.set_ylabel(\"\")\n",
    "ax.set_title(\"Top Car Makes in NIgeria\")\n",
    "plt.show()"
   ]
  },
  {
   "cell_type": "code",
   "execution_count": 99,
   "metadata": {},
   "outputs": [
    {
     "data": {
      "image/png": "[encoded data removed]",
      "text/plain": [
       "<Figure size 1600x700 with 1 Axes>"
      ]
     },
     "metadata": {},
     "output_type": "display_data"
    }
   ],
   "source": [
    "plt.figure(figsize=(16,7))\n",
    "sns.countplot(data=df, y='body_type',alpha=.6,color='blue')\n",
    "plt.title('Cars by car body type',fontsize=20)\n",
    "plt.xticks(fontsize=14)\n",
    "plt.yticks(fontsize=14)\n",
    "plt.xlabel('')\n",
    "plt.ylabel('');"
   ]
  },
  {
   "cell_type": "code",
   "execution_count": 100,
   "metadata": {},
   "outputs": [
    {
     "data": {
      "image/png": "[encoded data removed]",
      "text/plain": [
       "<Figure size 1000x1000 with 1 Axes>"
      ]
     },
     "metadata": {},
     "output_type": "display_data"
    }
   ],
   "source": [
    "fig = plt.figure(figsize = (10,10))\n",
    "ax = fig.subplots()\n",
    "df.condition.value_counts().plot(ax=ax, kind='pie')\n",
    "ax.set_ylabel(\"\")\n",
    "ax.set_title(\"Cars Count by Conditon\")\n",
    "plt.show()"
   ]
  },
  {
   "cell_type": "code",
   "execution_count": 107,
   "metadata": {},
   "outputs": [
    {
     "data": {
      "application/vnd.plotly.v1+json": {
       "config": {
        "plotlyServerURL": "https://plot.ly"
       },
       "data": [
        {
         "customdata": [
          [
           15187500,
           "Sonata"
          ],
          [
           19125000,
           "Avalon"
          ],
          [
           16312500,
           "Corolla"
          ],
          [
           15750000,
           "Tucson"
          ],
          [
           18000000,
           "Corolla"
          ],
          [
           19125000,
           "Venza"
          ],
          [
           18225000,
           "Sonata"
          ],
          [
           15750000,
           "Venza"
          ],
          [
           18562500,
           "RAV4"
          ],
          [
           19125000,
           "RX 350"
          ],
          [
           19125000,
           "C300"
          ],
          [
           15225000,
           "Sonata"
          ],
          [
           19950000,
           "Rio"
          ],
          [
           16875000,
           "Terrain"
          ],
          [
           15975000,
           "RX 350"
          ],
          [
           18900000,
           "RX 350"
          ],
          [
           17640000,
           "RX"
          ],
          [
           15225000,
           "RX 350"
          ],
          [
           19902750,
           "CLA-Class"
          ],
          [
           15225000,
           "Forte"
          ],
          [
           17640000,
           "Hilux"
          ],
          [
           17680000,
           "GLK-Class"
          ],
          [
           17850000,
           "Highlander"
          ],
          [
           15750000,
           "Creta"
          ],
          [
           18720000,
           "RAV4"
          ],
          [
           17160000,
           "Sienna"
          ],
          [
           19425000,
           "RX 350"
          ],
          [
           15225000,
           "RX 350"
          ],
          [
           15172500,
           "Venza"
          ],
          [
           18900000,
           "535i"
          ],
          [
           15750000,
           "Creta"
          ],
          [
           15750000,
           "GL-Class"
          ],
          [
           16275000,
           "RX 350"
          ],
          [
           17680000,
           "Venza"
          ],
          [
           15600000,
           "Camry"
          ],
          [
           15750000,
           "Civic"
          ],
          [
           17160000,
           "Camry"
          ],
          [
           16275000,
           "Corolla"
          ],
          [
           16800000,
           "RX 350"
          ],
          [
           16275000,
           "XF"
          ],
          [
           19950000,
           "CLA-Class"
          ],
          [
           15697500,
           "Explorer"
          ],
          [
           15080000,
           "Highlander"
          ],
          [
           16120000,
           "Sonata"
          ],
          [
           17850000,
           "Sequoia"
          ],
          [
           15750000,
           "RAV4"
          ],
          [
           18375000,
           "C-Class"
          ],
          [
           16800000,
           "RX 350"
          ],
          [
           15600000,
           "Corolla"
          ],
          [
           19740000,
           "RX 350"
          ],
          [
           18900000,
           "Venue"
          ],
          [
           17160000,
           "GLK-Class"
          ],
          [
           15080000,
           "C300"
          ],
          [
           15435000,
           "RX 350"
          ],
          [
           16800000,
           "Corolla"
          ],
          [
           15750000,
           "Venza"
          ],
          [
           16640000,
           "Corolla"
          ],
          [
           18200000,
           "Venza"
          ],
          [
           15750000,
           "GL-Class"
          ],
          [
           15080000,
           "M Class"
          ],
          [
           19425000,
           "C-Class"
          ],
          [
           16800000,
           "Rio"
          ],
          [
           15750000,
           "Range Rover"
          ],
          [
           18375000,
           "Accord"
          ],
          [
           15750000,
           "RAV4"
          ],
          [
           19950000,
           "GX"
          ],
          [
           15600000,
           "F-150"
          ],
          [
           19425000,
           "CLA-Class"
          ],
          [
           17955000,
           "Avalon"
          ],
          [
           15750000,
           "GS"
          ],
          [
           15600000,
           "Camry"
          ],
          [
           19950000,
           "4-Runner"
          ],
          [
           16275000,
           "Sonata"
          ],
          [
           16800000,
           "Sequoia"
          ],
          [
           16120000,
           "Highlander"
          ],
          [
           16640000,
           "Camry"
          ],
          [
           18720000,
           "Corolla"
          ],
          [
           19425000,
           "GLK-Class"
          ],
          [
           17004000,
           "Camry"
          ],
          [
           17325000,
           "Sonata"
          ],
          [
           17325000,
           "X1"
          ],
          [
           15080000,
           "RAV4"
          ],
          [
           19950000,
           "RX 350"
          ],
          [
           15600000,
           "GLK-Class"
          ],
          [
           19240000,
           "Venza"
          ],
          [
           15750000,
           "Land Cruiser Prado"
          ],
          [
           15600000,
           "Highlander"
          ],
          [
           17160000,
           "Sienna"
          ],
          [
           15750000,
           "GS4"
          ],
          [
           19760000,
           "M Class"
          ],
          [
           16640000,
           "Venza"
          ],
          [
           17850000,
           "ES"
          ],
          [
           17680000,
           "Santa Fe"
          ],
          [
           16800000,
           "Edge"
          ],
          [
           16275000,
           "Focus"
          ],
          [
           19950000,
           "E350"
          ],
          [
           18900000,
           "Sequoia"
          ],
          [
           16640000,
           "Corolla"
          ],
          [
           19950000,
           "Highlander"
          ],
          [
           19110000,
           "RAV4"
          ],
          [
           16800000,
           "Hilux"
          ],
          [
           15600000,
           "Pathfinder"
          ],
          [
           16640000,
           "GLK-Class"
          ],
          [
           15600000,
           "RX 350"
          ],
          [
           17325000,
           "X5"
          ]
         ],
         "hovertemplate": "price_range=15-20M<br>Car Make=%{x}<br>Condition=%{y}<br>price=%{customdata[0]}<br>model=%{customdata[1]}<extra></extra>",
         "legendgroup": "15-20M",
         "marker": {
          "color": "#636efa",
          "opacity": 0.8,
          "size": 12,
          "symbol": "circle"
         },
         "mode": "markers",
         "name": "15-20M",
         "showlegend": true,
         "type": "scattergl",
         "x": [
          "Hyundai",
          "Toyota",
          "Toyota",
          "Hyundai",
          "Toyota",
          "Toyota",
          "Hyundai",
          "Toyota",
          "Toyota",
          "Lexus",
          "Mercedes-Benz",
          "Hyundai",
          "Kia",
          "GMC",
          "Lexus",
          "Lexus",
          "Lexus",
          "Lexus",
          "Mercedes-Benz",
          "Kia",
          "Toyota",
          "Mercedes-Benz",
          "Toyota",
          "Hyundai",
          "Toyota",
          "Toyota",
          "Lexus",
          "Lexus",
          "Toyota",
          "BMW",
          "Hyundai",
          "Mercedes-Benz",
          "Lexus",
          "Toyota",
          "Toyota",
          "Honda",
          "Toyota",
          "Toyota",
          "Lexus",
          "Jaguar",
          "Mercedes-Benz",
          "Ford",
          "Toyota",
          "Hyundai",
          "Toyota",
          "Toyota",
          "Mercedes-Benz",
          "Lexus",
          "Toyota",
          "Lexus",
          "Hyundai",
          "Mercedes-Benz",
          "Mercedes-Benz",
          "Lexus",
          "Toyota",
          "Toyota",
          "Toyota",
          "Toyota",
          "Mercedes-Benz",
          "Mercedes-Benz",
          "Mercedes-Benz",
          "Kia",
          "Land Rover",
          "Honda",
          "Toyota",
          "Lexus",
          "Ford",
          "Mercedes-Benz",
          "Toyota",
          "Lexus",
          "Toyota",
          "Toyota",
          "Hyundai",
          "Toyota",
          "Toyota",
          "Toyota",
          "Toyota",
          "Mercedes-Benz",
          "Toyota",
          "Hyundai",
          "BMW",
          "Toyota",
          "Lexus",
          "Mercedes-Benz",
          "Toyota",
          "Toyota",
          "Toyota",
          "Toyota",
          "GAC",
          "Mercedes-Benz",
          "Toyota",
          "Lexus",
          "Hyundai",
          "Ford",
          "Ford",
          "Mercedes-Benz",
          "Toyota",
          "Toyota",
          "Toyota",
          "Toyota",
          "Toyota",
          "Nissan",
          "Mercedes-Benz",
          "Lexus",
          "BMW"
         ],
         "xaxis": "x",
         "y": [
          "Nigerian Used",
          "Nigerian Used",
          "Foreign Used",
          "Foreign Used",
          "Foreign Used",
          "Foreign Used",
          "Nigerian Used",
          "Nigerian Used",
          "Nigerian Used",
          "Nigerian Used",
          "Nigerian Used",
          "Nigerian Used",
          "Nigerian Used",
          "Nigerian Used",
          "Nigerian Used",
          "Foreign Used",
          "Nigerian Used",
          "Nigerian Used",
          "Foreign Used",
          "Foreign Used",
          "Nigerian Used",
          "Foreign Used",
          "Nigerian Used",
          "Nigerian Used",
          "Foreign Used",
          "Foreign Used",
          "Nigerian Used",
          "Nigerian Used",
          "Foreign Used",
          "Nigerian Used",
          "Nigerian Used",
          "Nigerian Used",
          "Nigerian Used",
          "Foreign Used",
          "Foreign Used",
          "Nigerian Used",
          "Foreign Used",
          "Foreign Used",
          "Nigerian Used",
          "Nigerian Used",
          "Nigerian Used",
          "Nigerian Used",
          "Foreign Used",
          "Foreign Used",
          "Nigerian Used",
          "Nigerian Used",
          "Nigerian Used",
          "Nigerian Used",
          "Foreign Used",
          "Nigerian Used",
          "Foreign Used",
          "Foreign Used",
          "Foreign Used",
          "Nigerian Used",
          "Nigerian Used",
          "Foreign Used",
          "Foreign Used",
          "Foreign Used",
          "Nigerian Used",
          "Foreign Used",
          "Nigerian Used",
          "Brand New",
          "Nigerian Used",
          "Nigerian Used",
          "Nigerian Used",
          "Nigerian Used",
          "Foreign Used",
          "Foreign Used",
          "Foreign Used",
          "Nigerian Used",
          "Foreign Used",
          "Nigerian Used",
          "Foreign Used",
          "Nigerian Used",
          "Foreign Used",
          "Foreign Used",
          "Foreign Used",
          "Foreign Used",
          "Foreign Used",
          "Foreign Used",
          "Foreign Used",
          "Foreign Used",
          "Foreign Used",
          "Foreign Used",
          "Foreign Used",
          "Nigerian Used",
          "Foreign Used",
          "Foreign Used",
          "Nigerian Used",
          "Nigerian Used",
          "Foreign Used",
          "Foreign Used",
          "Foreign Used",
          "Foreign Used",
          "Foreign Used",
          "Foreign Used",
          "Local Used",
          "Foreign Used",
          "Local Used",
          "Foreign Used",
          "Local Used",
          "Foreign Used",
          "Local Used",
          "Local Used",
          "Foreign Used"
         ],
         "yaxis": "y"
        },
        {
         "customdata": [
          [
           5062500,
           "Corolla"
          ],
          [
           7312500,
           "Sienna"
          ],
          [
           5062500,
           "Edge"
          ],
          [
           6975000,
           "Highlander"
          ],
          [
           7312500,
           "Corolla"
          ],
          [
           6525000,
           "Camry"
          ],
          [
           5625000,
           "Yaris"
          ],
          [
           6750000,
           "Sienna"
          ],
          [
           6187500,
           "Liberty"
          ],
          [
           6412500,
           "Corolla"
          ],
          [
           5625000,
           "X-Trail"
          ],
          [
           5062500,
           "Corolla"
          ],
          [
           7200000,
           "ES"
          ],
          [
           7875000,
           "Elantra"
          ],
          [
           5625000,
           "Navigator"
          ],
          [
           5625000,
           "Avalon"
          ],
          [
           5062500,
           "Odyssey"
          ],
          [
           7875000,
           "Land Cruiser Prado"
          ],
          [
           5625000,
           "Passat"
          ],
          [
           7875000,
           "C300"
          ],
          [
           5625000,
           "Pilot"
          ],
          [
           5625000,
           "Accent"
          ],
          [
           9562500,
           "IS"
          ],
          [
           5062500,
           "SM7"
          ],
          [
           8437500,
           "C300"
          ],
          [
           9000000,
           "RAV4"
          ],
          [
           6187500,
           "Camry"
          ],
          [
           5625000,
           "Accord Crosstour"
          ],
          [
           6750000,
           "MDX"
          ],
          [
           5062500,
           "Accord"
          ],
          [
           6187500,
           "Corolla"
          ],
          [
           5062500,
           "Sienna"
          ],
          [
           7875000,
           "Sportage"
          ],
          [
           5062500,
           "Camry"
          ],
          [
           5625000,
           "CR-V"
          ],
          [
           7875000,
           "Edge"
          ],
          [
           6750000,
           "Accord"
          ],
          [
           6750000,
           "Highlander"
          ],
          [
           6975000,
           "Sienna"
          ],
          [
           8610000,
           "3008"
          ],
          [
           8925000,
           "Elantra"
          ],
          [
           7312500,
           "Corolla"
          ],
          [
           6750000,
           "ES"
          ],
          [
           5250000,
           "Accent"
          ],
          [
           5062500,
           "Ecosport"
          ],
          [
           9000000,
           "Corolla"
          ],
          [
           7087500,
           "RAV4"
          ],
          [
           8437500,
           "RAV4"
          ],
          [
           9450000,
           "Pilot"
          ],
          [
           9000000,
           "508"
          ],
          [
           5062500,
           "Accord"
          ],
          [
           7875000,
           "Camry"
          ],
          [
           5250000,
           "Camry"
          ],
          [
           9112500,
           "E550"
          ],
          [
           7350000,
           "Lr3"
          ],
          [
           7312500,
           "Range Rover"
          ],
          [
           5625000,
           "RX 300"
          ],
          [
           5625000,
           "Corolla"
          ],
          [
           5625000,
           "Accord"
          ],
          [
           7875000,
           "Corolla"
          ],
          [
           5200000,
           "Corolla"
          ],
          [
           9000000,
           "ES"
          ],
          [
           5062500,
           "Altima"
          ],
          [
           6525000,
           "Camry"
          ],
          [
           7280000,
           "Camry"
          ],
          [
           6187500,
           "4-Runner"
          ],
          [
           6750000,
           "Highlander"
          ],
          [
           7875000,
           "Accord"
          ],
          [
           6750000,
           "IS"
          ],
          [
           8212500,
           "Sonata"
          ],
          [
           6187500,
           "Edge"
          ],
          [
           7875000,
           "ES"
          ],
          [
           8437500,
           "Corolla"
          ],
          [
           7875000,
           "Accord Crosstour"
          ],
          [
           5250000,
           "Camry"
          ],
          [
           6240000,
           "Camry"
          ],
          [
           6195000,
           "X5"
          ],
          [
           8925000,
           "ES"
          ],
          [
           7350000,
           "CX-9"
          ],
          [
           6240000,
           "Sienna"
          ],
          [
           9562500,
           "Corolla"
          ],
          [
           8925000,
           "ES"
          ],
          [
           6187500,
           "Camry"
          ],
          [
           6510000,
           "Highlander"
          ],
          [
           6825000,
           "Range Rover Sport"
          ],
          [
           9000000,
           "ES"
          ],
          [
           6760000,
           "Corolla"
          ],
          [
           5355000,
           "Sienna"
          ],
          [
           5775000,
           "ES"
          ],
          [
           7800000,
           "Camry"
          ],
          [
           7350000,
           "Pilot"
          ],
          [
           7312500,
           "GL-Class"
          ],
          [
           7140000,
           "RX 330"
          ],
          [
           7312500,
           "Sienna"
          ],
          [
           6760000,
           "Corolla"
          ],
          [
           9360000,
           "Corolla"
          ],
          [
           7875000,
           "IS"
          ],
          [
           5250000,
           "Camry"
          ],
          [
           6760000,
           "Camry"
          ],
          [
           8190000,
           "Corolla"
          ],
          [
           9450000,
           "Cooper"
          ],
          [
           5040000,
           "Camry"
          ],
          [
           5985000,
           "X-Trail"
          ],
          [
           7875000,
           "Highlander"
          ],
          [
           6412500,
           "Sienna"
          ],
          [
           5200000,
           "Accord"
          ],
          [
           5250000,
           "Highlander"
          ],
          [
           7280000,
           "Corolla"
          ],
          [
           6760000,
           "Sonata"
          ],
          [
           5040000,
           "Corolla"
          ],
          [
           6195000,
           "Accord"
          ],
          [
           5775000,
           "CX-9"
          ],
          [
           9660000,
           "E350"
          ],
          [
           8400000,
           "Santa Fe"
          ],
          [
           5096000,
           "Corolla"
          ],
          [
           6930000,
           "Corolla"
          ],
          [
           8400000,
           "Cooper"
          ],
          [
           5040000,
           "Matrix"
          ],
          [
           9450000,
           "Corolla"
          ],
          [
           7665000,
           "Sportage"
          ],
          [
           6825000,
           "Sonata"
          ],
          [
           8400000,
           "Highlander"
          ],
          [
           5775000,
           "Highlander"
          ],
          [
           6825000,
           "Sonata"
          ],
          [
           9360000,
           "GS"
          ],
          [
           5775000,
           "Vitara"
          ],
          [
           5460000,
           "ES"
          ],
          [
           5145000,
           "Corolla"
          ],
          [
           9450000,
           "Venza"
          ],
          [
           6720000,
           "Optima"
          ],
          [
           8190000,
           "Pilot"
          ],
          [
           6032000,
           "Camry"
          ],
          [
           7875000,
           "Rogue"
          ],
          [
           8820000,
           "Venza"
          ],
          [
           8840000,
           "Corolla"
          ],
          [
           8400000,
           "ES"
          ],
          [
           5250000,
           "ES"
          ],
          [
           5775000,
           "X3"
          ],
          [
           5775000,
           "Highlander"
          ],
          [
           5720000,
           "Camry"
          ],
          [
           9975000,
           "RAV4"
          ],
          [
           9360000,
           "Highlander"
          ],
          [
           5250000,
           "Cerato"
          ],
          [
           5775000,
           "Camry"
          ],
          [
           7770000,
           "Edge"
          ],
          [
           7072000,
           "Corolla"
          ],
          [
           6300000,
           "RX 330"
          ],
          [
           6760000,
           "Corolla"
          ],
          [
           5355000,
           "Camry"
          ],
          [
           5397000,
           "Camry"
          ],
          [
           7350000,
           "Pilot"
          ],
          [
           7280000,
           "Corolla"
          ],
          [
           6968000,
           "Camry"
          ],
          [
           8190000,
           "G-Class"
          ],
          [
           9975000,
           "X3"
          ],
          [
           6300000,
           "Avensis Verso"
          ],
          [
           5250000,
           "ES"
          ],
          [
           5775000,
           "Camry"
          ],
          [
           6825000,
           "Sonata"
          ],
          [
           6825000,
           "Town&Country"
          ],
          [
           7652400,
           "Highlander"
          ],
          [
           5720000,
           "Camry"
          ],
          [
           5200000,
           "Highlander"
          ],
          [
           5250000,
           "Camry"
          ],
          [
           6300000,
           "Range Rover Sport"
          ],
          [
           8085000,
           "Camry"
          ],
          [
           5565000,
           "Edge"
          ],
          [
           6300000,
           "Civic"
          ],
          [
           9975000,
           "Corolla"
          ],
          [
           6300000,
           "X3"
          ],
          [
           7350000,
           "ES"
          ],
          [
           6656000,
           "Camry"
          ],
          [
           8085000,
           "Edge"
          ],
          [
           5887500,
           "Corolla"
          ],
          [
           5250000,
           "CR-V"
          ],
          [
           9371250,
           "Camry"
          ],
          [
           7245000,
           "Edge"
          ],
          [
           5042625,
           "Camry"
          ],
          [
           5250000,
           "Vibe"
          ],
          [
           5250000,
           "Fusion"
          ],
          [
           5040000,
           "Edge"
          ],
          [
           6825000,
           "Forte"
          ],
          [
           7350000,
           "Camry"
          ],
          [
           5250000,
           "ES"
          ],
          [
           6510000,
           "Camry"
          ],
          [
           6510000,
           "CX-9"
          ],
          [
           5720000,
           "Sienna"
          ],
          [
           7245000,
           "Camry"
          ],
          [
           6825000,
           "ES"
          ],
          [
           8320000,
           "ES"
          ],
          [
           8925000,
           "RX 330"
          ],
          [
           6240000,
           "Camry"
          ],
          [
           8400000,
           "Highlander"
          ],
          [
           6760000,
           "Sonata"
          ],
          [
           6825000,
           "X3"
          ],
          [
           9450000,
           "ZDX"
          ],
          [
           8528000,
           "Corolla"
          ],
          [
           5985000,
           "ES"
          ],
          [
           6300000,
           "Corolla"
          ],
          [
           9450000,
           "Camry"
          ],
          [
           7875000,
           "528i"
          ],
          [
           9450000,
           "Camry"
          ],
          [
           5775000,
           "B-Class"
          ],
          [
           8400000,
           "ES"
          ],
          [
           9450000,
           "Town&Country"
          ],
          [
           7350000,
           "FX"
          ],
          [
           7800000,
           "Camry"
          ],
          [
           6300000,
           "RDX"
          ],
          [
           7875000,
           "Accord"
          ],
          [
           5775000,
           "Edge"
          ],
          [
           6825000,
           "Sonata"
          ],
          [
           9450000,
           "FJ Cruiser"
          ],
          [
           7350000,
           "ES"
          ],
          [
           5040000,
           "Camry"
          ],
          [
           5040000,
           "Focus"
          ],
          [
           6615000,
           "Corolla"
          ],
          [
           5775000,
           "IS"
          ],
          [
           5250000,
           "ES"
          ],
          [
           6656000,
           "Camry"
          ],
          [
           5408000,
           "Corolla"
          ],
          [
           7875000,
           "RX 330"
          ],
          [
           8400000,
           "GX"
          ],
          [
           9345000,
           "Venza"
          ],
          [
           5460000,
           "ES"
          ],
          [
           8820000,
           "Odyssey"
          ],
          [
           6510000,
           "Crosstour"
          ],
          [
           9450000,
           "Range Rover Vogue"
          ],
          [
           6300000,
           "Elantra"
          ],
          [
           9975000,
           "Corolla"
          ],
          [
           7875000,
           "RX 350"
          ],
          [
           5250000,
           "4-Runner"
          ],
          [
           6240000,
           "Sienna"
          ],
          [
           5565000,
           "Corolla"
          ],
          [
           6300000,
           "GL-Class"
          ],
          [
           5040000,
           "Camry"
          ],
          [
           5145000,
           "Sienna"
          ],
          [
           6825000,
           "Avalon"
          ],
          [
           9975000,
           "Accord"
          ],
          [
           5250000,
           "CR-V"
          ],
          [
           7350000,
           "MDX"
          ],
          [
           9450000,
           "CLK"
          ],
          [
           9450000,
           "Highlander"
          ],
          [
           9975000,
           "Escape"
          ],
          [
           7140000,
           "Corolla"
          ],
          [
           7875000,
           "Corolla"
          ],
          [
           9450000,
           "L200"
          ],
          [
           6864000,
           "Camry"
          ],
          [
           6615000,
           "ES"
          ],
          [
           6240000,
           "Camry"
          ],
          [
           6825000,
           "Camry"
          ],
          [
           7140000,
           "Sonata"
          ],
          [
           8925000,
           "M Class"
          ],
          [
           5565000,
           "RX 330"
          ],
          [
           7350000,
           "Santa Fe"
          ],
          [
           6240000,
           "Sienna"
          ],
          [
           5775000,
           "Highlander"
          ],
          [
           7350000,
           "Lr4"
          ],
          [
           7875000,
           "Edge"
          ],
          [
           7350000,
           "M Class"
          ],
          [
           5533500,
           "Odyssey"
          ],
          [
           7072000,
           "Camry"
          ],
          [
           6300000,
           "Sienna"
          ],
          [
           7350000,
           "RX 350"
          ],
          [
           8925000,
           "Explorer"
          ],
          [
           8190000,
           "M Class"
          ],
          [
           5250000,
           "RAV4"
          ],
          [
           9450000,
           "Altima"
          ],
          [
           6300000,
           "Sonata"
          ],
          [
           7072000,
           "Camry"
          ],
          [
           5460000,
           "Sonata"
          ],
          [
           6240000,
           "Camry"
          ],
          [
           7072000,
           "Camry"
          ],
          [
           5250000,
           "C300"
          ],
          [
           8400000,
           "RX 350"
          ],
          [
           9712500,
           "Corolla"
          ],
          [
           5720000,
           "Corolla"
          ],
          [
           6510000,
           "X5"
          ],
          [
           5775000,
           "Sienna"
          ],
          [
           6760000,
           "Camry"
          ],
          [
           6090000,
           "Camry"
          ],
          [
           8840000,
           "Highlander"
          ],
          [
           5250000,
           "City"
          ],
          [
           7035000,
           "Tacoma"
          ],
          [
           6825000,
           "Sienna"
          ],
          [
           7280000,
           "Corolla"
          ],
          [
           8925000,
           "Camry"
          ],
          [
           6760000,
           "Camry"
          ],
          [
           6615000,
           "Camry"
          ],
          [
           5250000,
           "Cerato"
          ],
          [
           6825000,
           "Camry"
          ],
          [
           5250000,
           "Corolla"
          ],
          [
           5565000,
           "Accent"
          ],
          [
           6510000,
           "CX-9"
          ],
          [
           5460000,
           "LS"
          ],
          [
           9450000,
           "Sienna"
          ],
          [
           5200000,
           "Corolla"
          ],
          [
           6300000,
           "M Class"
          ],
          [
           8400000,
           "Almera"
          ],
          [
           8400000,
           "M Class"
          ],
          [
           9660000,
           "RX"
          ],
          [
           5355000,
           "FX35"
          ],
          [
           9975000,
           "Accord"
          ],
          [
           7350000,
           "Sienna"
          ],
          [
           6615000,
           "Sienna"
          ],
          [
           6240000,
           "Camry"
          ],
          [
           7140000,
           "GS"
          ],
          [
           7875000,
           "Vibe"
          ],
          [
           7875000,
           "Sienna"
          ],
          [
           5040000,
           "Corolla"
          ],
          [
           5292000,
           "Camry"
          ],
          [
           5985000,
           "Corolla"
          ],
          [
           6300000,
           "Elantra"
          ],
          [
           8400000,
           "X6"
          ],
          [
           5775000,
           "Sorento"
          ],
          [
           7350000,
           "Taurus"
          ],
          [
           6825000,
           "ZDX"
          ],
          [
           5775000,
           "Explorer"
          ],
          [
           9975000,
           "Camry"
          ],
          [
           5880000,
           "Camry"
          ],
          [
           5565000,
           "Highlander"
          ],
          [
           7350000,
           "Sorento"
          ],
          [
           5460000,
           "Rogue"
          ],
          [
           7560000,
           "C350"
          ],
          [
           6510000,
           "Camry"
          ],
          [
           9360000,
           "Camry"
          ],
          [
           7072000,
           "Camry"
          ],
          [
           5040000,
           "GL-Class"
          ],
          [
           7875000,
           "GLK-Class"
          ],
          [
           5720000,
           "Camry"
          ],
          [
           8400000,
           "F-250"
          ],
          [
           6510000,
           "Vaneo"
          ],
          [
           5775000,
           "Sonata"
          ],
          [
           5250000,
           "GS"
          ],
          [
           5720000,
           "Sienna"
          ],
          [
           8840000,
           "Camry"
          ],
          [
           7035000,
           "Matrix"
          ],
          [
           8400000,
           "RX 350"
          ],
          [
           6825000,
           "Camry"
          ],
          [
           7350000,
           "RX 330"
          ],
          [
           7850000,
           "Explorer"
          ],
          [
           6300000,
           "MDX"
          ],
          [
           8610000,
           "Accord"
          ],
          [
           5250000,
           "3"
          ],
          [
           5565000,
           "C300"
          ],
          [
           8190000,
           "Highlander"
          ],
          [
           7350000,
           "ES"
          ],
          [
           6300000,
           "Explorer"
          ],
          [
           5145000,
           "Sonata"
          ],
          [
           5250000,
           "A6"
          ],
          [
           5775000,
           "XC90"
          ],
          [
           6090000,
           "Pathfinder"
          ],
          [
           5824000,
           "Camry"
          ],
          [
           9880000,
           "Corolla"
          ],
          [
           7350000,
           "Corolla"
          ],
          [
           9135000,
           "LX"
          ],
          [
           8925000,
           "C350"
          ],
          [
           5355000,
           "Avalon"
          ],
          [
           9975000,
           "GLK-Class"
          ],
          [
           5040000,
           "Santa Fe"
          ],
          [
           6825000,
           "Escape"
          ],
          [
           6825000,
           "RX 330"
          ],
          [
           9450000,
           "RX 350"
          ],
          [
           8925000,
           "Accord Crosstour"
          ],
          [
           6300000,
           "530i"
          ],
          [
           5880000,
           "RAV4"
          ],
          [
           7455000,
           "Maxima"
          ],
          [
           6300000,
           "Avalon"
          ],
          [
           7875000,
           "Explorer"
          ],
          [
           7280000,
           "Corolla"
          ],
          [
           7350000,
           "Pilot"
          ],
          [
           7140000,
           "Camry"
          ],
          [
           8925000,
           "4-Runner"
          ],
          [
           5040000,
           "ES"
          ],
          [
           8400000,
           "Explorer"
          ],
          [
           8925000,
           "Sentra"
          ],
          [
           6468000,
           "Highlander"
          ],
          [
           5040000,
           "ES"
          ],
          [
           7350000,
           "IS"
          ],
          [
           6825000,
           "C300"
          ],
          [
           7350000,
           "ES"
          ],
          [
           5880000,
           "C350"
          ],
          [
           7350000,
           "Sequoia"
          ],
          [
           9135000,
           "Range Rover Sport"
          ],
          [
           9360000,
           "Camry"
          ],
          [
           8505000,
           "Beetle"
          ],
          [
           7140000,
           "C300"
          ],
          [
           7980000,
           "Camry"
          ],
          [
           6615000,
           "Avalon"
          ],
          [
           7245000,
           "Discovery"
          ],
          [
           7072000,
           "Corolla"
          ],
          [
           7350000,
           "E350"
          ],
          [
           9240000,
           "Sienna"
          ],
          [
           8400000,
           "GX"
          ],
          [
           6300000,
           "Range Rover Sport"
          ],
          [
           6825000,
           "RX 330"
          ],
          [
           7245000,
           "ES"
          ],
          [
           6300000,
           "Zafira"
          ],
          [
           6300000,
           "IS"
          ],
          [
           5250000,
           "C230"
          ],
          [
           9880000,
           "Camry"
          ],
          [
           5824000,
           "Camry"
          ],
          [
           6552000,
           "Corolla"
          ],
          [
           6195000,
           "RAV4"
          ],
          [
           6300000,
           "Camry"
          ],
          [
           5625000,
           "Corolla"
          ],
          [
           5512000,
           "Camry"
          ],
          [
           5775000,
           "Corolla"
          ],
          [
           5250000,
           "ES"
          ],
          [
           8400000,
           "GX"
          ],
          [
           8400000,
           "RX 350"
          ],
          [
           5935125,
           "Camry"
          ],
          [
           9880000,
           "Sienna"
          ],
          [
           8840000,
           "Sienna"
          ],
          [
           5250000,
           "M Class"
          ],
          [
           8925000,
           "RX 350"
          ],
          [
           5355000,
           "307"
          ],
          [
           9450000,
           "Venza"
          ],
          [
           7875000,
           "Escape"
          ],
          [
           5616000,
           "Camry"
          ],
          [
           5460000,
           "Sienna"
          ],
          [
           7350000,
           "Optima"
          ],
          [
           5250000,
           "IS"
          ],
          [
           5775000,
           "Solara"
          ],
          [
           8925000,
           "X5"
          ],
          [
           5250000,
           "Tundra"
          ],
          [
           7488000,
           "Camry"
          ],
          [
           5985000,
           "H2"
          ],
          [
           5250000,
           "Accord"
          ],
          [
           9975000,
           "Accord"
          ],
          [
           5250000,
           "Camry"
          ],
          [
           5061000,
           "328i"
          ],
          [
           9975000,
           "CLS"
          ],
          [
           5775000,
           "Camry"
          ],
          [
           7875000,
           "Accord"
          ],
          [
           8400000,
           "Pathfinder"
          ],
          [
           7350000,
           "Qashqai"
          ],
          [
           9450000,
           "Accord"
          ],
          [
           6300000,
           "Corolla"
          ],
          [
           5775000,
           "Odyssey"
          ],
          [
           5722500,
           "528i"
          ],
          [
           7280000,
           "Corolla"
          ],
          [
           5928000,
           "Camry"
          ],
          [
           6825000,
           "GS"
          ],
          [
           7350000,
           "MDX"
          ],
          [
           7943250,
           "Accord"
          ],
          [
           8610000,
           "R-Class"
          ],
          [
           7875000,
           "Range Rover Sport"
          ],
          [
           6300000,
           "Corolla"
          ],
          [
           5775000,
           "Avensis"
          ],
          [
           6720000,
           "Corolla"
          ],
          [
           6448000,
           "Sienna"
          ],
          [
           5250000,
           "B-Class"
          ],
          [
           7350000,
           "X3"
          ],
          [
           7560000,
           "RX 330"
          ],
          [
           5040000,
           "Edge"
          ],
          [
           7875000,
           "F-150"
          ],
          [
           8400000,
           "Charger"
          ],
          [
           6090000,
           "Corolla"
          ],
          [
           5824000,
           "Sienna"
          ],
          [
           8925000,
           "Tacoma"
          ],
          [
           9975000,
           "Land Cruiser"
          ],
          [
           5565000,
           "GX"
          ],
          [
           6090000,
           "MDX"
          ],
          [
           7280000,
           "C300"
          ],
          [
           5824000,
           "Accord"
          ],
          [
           8925000,
           "RX 350"
          ],
          [
           9450000,
           "GX"
          ],
          [
           6615000,
           "Sentra"
          ],
          [
           6032000,
           "Corolla"
          ],
          [
           7176000,
           "GL-Class"
          ],
          [
           8319998,
           "RX 330"
          ],
          [
           8925000,
           "Hilux"
          ],
          [
           8925000,
           "RX 350"
          ],
          [
           7770000,
           "C250"
          ],
          [
           5040000,
           "Avalon"
          ],
          [
           6240000,
           "Corolla"
          ],
          [
           7140000,
           "F-150"
          ],
          [
           6615000,
           "Corolla"
          ],
          [
           9870000,
           "Armada"
          ],
          [
           5310375,
           "Range Rover Sport"
          ],
          [
           5775000,
           "Range Rover"
          ],
          [
           5565000,
           "Tucson"
          ],
          [
           5775000,
           "Focus"
          ],
          [
           5250000,
           "X5"
          ],
          [
           5775000,
           "Focus"
          ],
          [
           6825000,
           "ES"
          ],
          [
           9360000,
           "M Class"
          ],
          [
           8925000,
           "E350"
          ],
          [
           6656000,
           "Corolla"
          ],
          [
           6667500,
           "RAV4"
          ],
          [
           5928000,
           "Camry"
          ],
          [
           5040000,
           "Frontier"
          ],
          [
           6760000,
           "RAV4"
          ],
          [
           9975000,
           "tC"
          ],
          [
           5355000,
           "Sportage"
          ],
          [
           6300000,
           "GX"
          ],
          [
           9360000,
           "ES"
          ],
          [
           9975000,
           "MKZ"
          ],
          [
           5806500,
           "F-150"
          ],
          [
           5250000,
           "Cooper"
          ],
          [
           5565000,
           "Sienna"
          ],
          [
           5775000,
           "Corolla"
          ],
          [
           7035000,
           "Armada"
          ],
          [
           7035000,
           "Crosstour"
          ],
          [
           9152000,
           "Accord"
          ],
          [
           5250000,
           "307"
          ],
          [
           6300000,
           "M Class"
          ],
          [
           6300000,
           "GS"
          ],
          [
           5460000,
           "Avalon"
          ],
          [
           5355000,
           "XC60"
          ],
          [
           5355000,
           "Camry"
          ],
          [
           5620000,
           "Camry"
          ],
          [
           6510000,
           "ES"
          ],
          [
           5460000,
           "Elantra"
          ],
          [
           5040000,
           "Edge"
          ],
          [
           5250000,
           "Santa Fe"
          ],
          [
           6048000,
           "Focus"
          ],
          [
           5250000,
           "Corolla"
          ],
          [
           7980000,
           "Camry"
          ],
          [
           8060000,
           "RX"
          ],
          [
           5775000,
           "Camry"
          ],
          [
           7875000,
           "XC90"
          ],
          [
           5208000,
           "Camry"
          ],
          [
           6760000,
           "Camry"
          ],
          [
           6720000,
           "X3"
          ],
          [
           8840000,
           "Sienna"
          ],
          [
           8632000,
           "RX"
          ],
          [
           8400000,
           "Compass"
          ],
          [
           7140000,
           "Fusion"
          ],
          [
           9030000,
           "X5"
          ],
          [
           7072000,
           "Sportage"
          ],
          [
           8944000,
           "ES"
          ],
          [
           5145000,
           "Mustang"
          ],
          [
           6760000,
           "Highlander"
          ],
          [
           5250000,
           "Lr3"
          ],
          [
           5775000,
           "Corolla"
          ],
          [
           7072000,
           "GS"
          ],
          [
           5565000,
           "GS"
          ],
          [
           7455000,
           "ES"
          ],
          [
           7350000,
           "Escape"
          ],
          [
           6090000,
           "Navigator"
          ],
          [
           7350000,
           "RX 330"
          ],
          [
           9975000,
           "Corolla"
          ],
          [
           5775000,
           "L200"
          ],
          [
           6195000,
           "Xterra"
          ],
          [
           8925000,
           "Venza"
          ],
          [
           8085000,
           "GS"
          ],
          [
           8400000,
           "A4"
          ],
          [
           6466162,
           "Corolla"
          ],
          [
           8190000,
           "GL-Class"
          ],
          [
           6300000,
           "Almera"
          ],
          [
           7665000,
           "Optima"
          ],
          [
           9360000,
           "Camry"
          ],
          [
           9450000,
           "Camry"
          ],
          [
           8325000,
           "GLK-Class"
          ],
          [
           5775000,
           "Altima"
          ],
          [
           6615000,
           "Avalon"
          ],
          [
           6405000,
           "Ridgeline"
          ],
          [
           7350000,
           "TL"
          ],
          [
           5512000,
           "Highlander"
          ],
          [
           8840000,
           "Sienna"
          ],
          [
           9975000,
           "Pathfinder"
          ],
          [
           5565000,
           "Rogue"
          ],
          [
           8400000,
           "Highlander"
          ],
          [
           9516000,
           "Camry"
          ],
          [
           7980000,
           "Camry"
          ],
          [
           5800000,
           "SRX"
          ],
          [
           5720000,
           "FX35"
          ],
          [
           6240000,
           "Corolla"
          ],
          [
           5720000,
           "Edge"
          ],
          [
           9450000,
           "Passat"
          ],
          [
           9765000,
           "Quest"
          ],
          [
           6195000,
           "RX 330"
          ],
          [
           5250000,
           "350"
          ],
          [
           9360000,
           "Explorer"
          ],
          [
           9450000,
           "C250"
          ],
          [
           6615000,
           "XC90"
          ],
          [
           5775000,
           "RX 300"
          ],
          [
           5712000,
           "Titan"
          ],
          [
           7350000,
           "Range Rover Sport"
          ],
          [
           7800000,
           "Highlander"
          ],
          [
           6090000,
           "Lr4"
          ],
          [
           5250000,
           "Camry"
          ]
         ],
         "hovertemplate": "price_range=5-10M<br>Car Make=%{x}<br>Condition=%{y}<br>price=%{customdata[0]}<br>model=%{customdata[1]}<extra></extra>",
         "legendgroup": "5-10M",
         "marker": {
          "color": "#EF553B",
          "opacity": 0.8,
          "size": 12,
          "symbol": "circle"
         },
         "mode": "markers",
         "name": "5-10M",
         "showlegend": true,
         "type": "scattergl",
         "x": [
          "Toyota",
          "Toyota",
          "Ford",
          "Toyota",
          "Toyota",
          "Toyota",
          "Toyota",
          "Toyota",
          "Jeep",
          "Toyota",
          "Nissan",
          "Toyota",
          "Lexus",
          "Hyundai",
          "Lincoln",
          "Toyota",
          "Honda",
          "Toyota",
          "Volkswagen",
          "Mercedes-Benz",
          "Honda",
          "Hyundai",
          "Lexus",
          "Samsung",
          "Mercedes-Benz",
          "Toyota",
          "Toyota",
          "Honda",
          "Acura",
          "Honda",
          "Toyota",
          "Toyota",
          "Kia",
          "Toyota",
          "Honda",
          "Ford",
          "Honda",
          "Toyota",
          "Toyota",
          "Peugeot",
          "Hyundai",
          "Toyota",
          "Lexus",
          "Hyundai",
          "Ford",
          "Toyota",
          "Toyota",
          "Toyota",
          "Honda",
          "Peugeot",
          "Honda",
          "Toyota",
          "Toyota",
          "Mercedes-Benz",
          "Land Rover",
          "Land Rover",
          "Lexus",
          "Toyota",
          "Honda",
          "Toyota",
          "Toyota",
          "Lexus",
          "Nissan",
          "Toyota",
          "Toyota",
          "Toyota",
          "Toyota",
          "Honda",
          "Lexus",
          "Hyundai",
          "Ford",
          "Lexus",
          "Toyota",
          "Honda",
          "Toyota",
          "Toyota",
          "BMW",
          "Lexus",
          "Mazda",
          "Toyota",
          "Toyota",
          "Lexus",
          "Toyota",
          "Toyota",
          "Land Rover",
          "Lexus",
          "Toyota",
          "Toyota",
          "Lexus",
          "Toyota",
          "Honda",
          "Mercedes-Benz",
          "Lexus",
          "Toyota",
          "Toyota",
          "Toyota",
          "Lexus",
          "Toyota",
          "Toyota",
          "Toyota",
          "Mini",
          "Toyota",
          "Nissan",
          "Toyota",
          "Toyota",
          "Honda",
          "Toyota",
          "Toyota",
          "Hyundai",
          "Toyota",
          "Honda",
          "Mazda",
          "Mercedes-Benz",
          "Hyundai",
          "Toyota",
          "Toyota",
          "Mini",
          "Toyota",
          "Toyota",
          "Kia",
          "Hyundai",
          "Toyota",
          "Toyota",
          "Hyundai",
          "Lexus",
          "Suzuki",
          "Lexus",
          "Toyota",
          "Toyota",
          "Kia",
          "Honda",
          "Toyota",
          "Nissan",
          "Toyota",
          "Toyota",
          "Lexus",
          "Lexus",
          "BMW",
          "Toyota",
          "Toyota",
          "Toyota",
          "Toyota",
          "Kia",
          "Toyota",
          "Ford",
          "Toyota",
          "Lexus",
          "Toyota",
          "Toyota",
          "Toyota",
          "Honda",
          "Toyota",
          "Toyota",
          "Mercedes-Benz",
          "BMW",
          "Toyota",
          "Lexus",
          "Toyota",
          "Hyundai",
          "Chrysler",
          "Toyota",
          "Toyota",
          "Toyota",
          "Toyota",
          "Land Rover",
          "Toyota",
          "Ford",
          "Honda",
          "Toyota",
          "BMW",
          "Lexus",
          "Toyota",
          "Ford",
          "Toyota",
          "Honda",
          "Toyota",
          "Ford",
          "Toyota",
          "Pontiac",
          "Ford",
          "Ford",
          "Kia",
          "Toyota",
          "Lexus",
          "Toyota",
          "Mazda",
          "Toyota",
          "Toyota",
          "Lexus",
          "Lexus",
          "Lexus",
          "Toyota",
          "Toyota",
          "Hyundai",
          "BMW",
          "Acura",
          "Toyota",
          "Lexus",
          "Toyota",
          "Toyota",
          "BMW",
          "Toyota",
          "Mercedes-Benz",
          "Lexus",
          "Chrysler",
          "Infiniti",
          "Toyota",
          "Acura",
          "Honda",
          "Ford",
          "Hyundai",
          "Toyota",
          "Lexus",
          "Toyota",
          "Ford",
          "Toyota",
          "Lexus",
          "Lexus",
          "Toyota",
          "Toyota",
          "Lexus",
          "Lexus",
          "Toyota",
          "Lexus",
          "Honda",
          "Honda",
          "Land Rover",
          "Hyundai",
          "Toyota",
          "Lexus",
          "Toyota",
          "Toyota",
          "Toyota",
          "Mercedes-Benz",
          "Toyota",
          "Toyota",
          "Toyota",
          "Honda",
          "Honda",
          "Acura",
          "Mercedes-Benz",
          "Toyota",
          "Ford",
          "Toyota",
          "Toyota",
          "Mitsubishi",
          "Toyota",
          "Lexus",
          "Toyota",
          "Toyota",
          "Hyundai",
          "Mercedes-Benz",
          "Lexus",
          "Hyundai",
          "Toyota",
          "Toyota",
          "Land Rover",
          "Ford",
          "Mercedes-Benz",
          "Honda",
          "Toyota",
          "Toyota",
          "Lexus",
          "Ford",
          "Mercedes-Benz",
          "Toyota",
          "Nissan",
          "Hyundai",
          "Toyota",
          "Hyundai",
          "Toyota",
          "Toyota",
          "Mercedes-Benz",
          "Lexus",
          "Toyota",
          "Toyota",
          "BMW",
          "Toyota",
          "Toyota",
          "Toyota",
          "Toyota",
          "Honda",
          "Toyota",
          "Toyota",
          "Toyota",
          "Toyota",
          "Toyota",
          "Toyota",
          "Kia",
          "Toyota",
          "Toyota",
          "Hyundai",
          "Mazda",
          "Lexus",
          "Toyota",
          "Toyota",
          "Mercedes-Benz",
          "Nissan",
          "Mercedes-Benz",
          "Lexus",
          "Infiniti",
          "Honda",
          "Toyota",
          "Toyota",
          "Toyota",
          "Lexus",
          "Pontiac",
          "Toyota",
          "Toyota",
          "Toyota",
          "Toyota",
          "Hyundai",
          "BMW",
          "Kia",
          "Ford",
          "Acura",
          "Ford",
          "Toyota",
          "Toyota",
          "Toyota",
          "Kia",
          "Nissan",
          "Mercedes-Benz",
          "Toyota",
          "Toyota",
          "Toyota",
          "Mercedes-Benz",
          "Mercedes-Benz",
          "Toyota",
          "Ford",
          "Mercedes-Benz",
          "Hyundai",
          "Lexus",
          "Toyota",
          "Toyota",
          "Toyota",
          "Lexus",
          "Toyota",
          "Lexus",
          "Ford",
          "Acura",
          "Honda",
          "Mazda",
          "Mercedes-Benz",
          "Toyota",
          "Lexus",
          "Ford",
          "Hyundai",
          "Audi",
          "Volvo",
          "Nissan",
          "Toyota",
          "Toyota",
          "Toyota",
          "Lexus",
          "Mercedes-Benz",
          "Toyota",
          "Mercedes-Benz",
          "Hyundai",
          "Ford",
          "Lexus",
          "Lexus",
          "Honda",
          "BMW",
          "Toyota",
          "Nissan",
          "Toyota",
          "Ford",
          "Toyota",
          "Honda",
          "Toyota",
          "Toyota",
          "Lexus",
          "Ford",
          "Nissan",
          "Toyota",
          "Lexus",
          "Lexus",
          "Mercedes-Benz",
          "Lexus",
          "Mercedes-Benz",
          "Toyota",
          "Land Rover",
          "Toyota",
          "Volkswagen",
          "Mercedes-Benz",
          "Toyota",
          "Toyota",
          "Land Rover",
          "Toyota",
          "Mercedes-Benz",
          "Toyota",
          "Lexus",
          "Land Rover",
          "Lexus",
          "Lexus",
          "Opel",
          "Lexus",
          "Mercedes-Benz",
          "Toyota",
          "Toyota",
          "Toyota",
          "Toyota",
          "Toyota",
          "Toyota",
          "Toyota",
          "Toyota",
          "Lexus",
          "Lexus",
          "Lexus",
          "Toyota",
          "Toyota",
          "Toyota",
          "Mercedes-Benz",
          "Lexus",
          "Peugeot",
          "Toyota",
          "Ford",
          "Toyota",
          "Toyota",
          "Kia",
          "Lexus",
          "Toyota",
          "BMW",
          "Toyota",
          "Toyota",
          "Hummer",
          "Honda",
          "Honda",
          "Toyota",
          "BMW",
          "Mercedes-Benz",
          "Toyota",
          "Honda",
          "Nissan",
          "Nissan",
          "Honda",
          "Toyota",
          "Honda",
          "BMW",
          "Toyota",
          "Toyota",
          "Lexus",
          "Acura",
          "Honda",
          "Mercedes-Benz",
          "Land Rover",
          "Toyota",
          "Toyota",
          "Toyota",
          "Toyota",
          "Mercedes-Benz",
          "BMW",
          "Lexus",
          "Ford",
          "Ford",
          "Dodge",
          "Toyota",
          "Toyota",
          "Toyota",
          "Toyota",
          "Lexus",
          "Acura",
          "Mercedes-Benz",
          "Honda",
          "Lexus",
          "Lexus",
          "Nissan",
          "Toyota",
          "Mercedes-Benz",
          "Lexus",
          "Toyota",
          "Lexus",
          "Mercedes-Benz",
          "Toyota",
          "Toyota",
          "Ford",
          "Toyota",
          "Nissan",
          "Land Rover",
          "Land Rover",
          "Hyundai",
          "Ford",
          "BMW",
          "Ford",
          "Lexus",
          "Mercedes-Benz",
          "Mercedes-Benz",
          "Toyota",
          "Toyota",
          "Toyota",
          "Nissan",
          "Toyota",
          "Scion",
          "Kia",
          "Lexus",
          "Lexus",
          "Lincoln",
          "Ford",
          "Mini",
          "Toyota",
          "Toyota",
          "Nissan",
          "Honda",
          "Honda",
          "Peugeot",
          "Mercedes-Benz",
          "Lexus",
          "Toyota",
          "Volvo",
          "Toyota",
          "Toyota",
          "Lexus",
          "Hyundai",
          "Ford",
          "Hyundai",
          "Ford",
          "Toyota",
          "Toyota",
          "Lexus",
          "Toyota",
          "Volvo",
          "Toyota",
          "Toyota",
          "BMW",
          "Toyota",
          "Lexus",
          "Jeep",
          "Ford",
          "BMW",
          "Kia",
          "Lexus",
          "Ford",
          "Toyota",
          "Land Rover",
          "Toyota",
          "Lexus",
          "Lexus",
          "Lexus",
          "Ford",
          "Lincoln",
          "Lexus",
          "Toyota",
          "Mitsubishi",
          "Nissan",
          "Toyota",
          "Lexus",
          "Audi",
          "Toyota",
          "Mercedes-Benz",
          "Nissan",
          "Kia",
          "Toyota",
          "Toyota",
          "Mercedes-Benz",
          "Nissan",
          "Toyota",
          "Honda",
          "Acura",
          "Toyota",
          "Toyota",
          "Nissan",
          "Nissan",
          "Toyota",
          "Toyota",
          "Toyota",
          "Cadillac",
          "Infiniti",
          "Toyota",
          "Ford",
          "Volkswagen",
          "Nissan",
          "Lexus",
          "MG",
          "Ford",
          "Mercedes-Benz",
          "Volvo",
          "Lexus",
          "Nissan",
          "Land Rover",
          "Toyota",
          "Land Rover",
          "Toyota"
         ],
         "xaxis": "x",
         "y": [
          "Nigerian Used",
          "Nigerian Used",
          "Nigerian Used",
          "Nigerian Used",
          "Nigerian Used",
          "Nigerian Used",
          "Nigerian Used",
          "Nigerian Used",
          "Nigerian Used",
          "Nigerian Used",
          "Nigerian Used",
          "Nigerian Used",
          "Nigerian Used",
          "Nigerian Used",
          "Foreign Used",
          "Nigerian Used",
          "Nigerian Used",
          "Nigerian Used",
          "Nigerian Used",
          "Nigerian Used",
          "Foreign Used",
          "Nigerian Used",
          "Nigerian Used",
          "Nigerian Used",
          "Nigerian Used",
          "Nigerian Used",
          "Nigerian Used",
          "Nigerian Used",
          "Nigerian Used",
          "Nigerian Used",
          "Nigerian Used",
          "Nigerian Used",
          "Nigerian Used",
          "Nigerian Used",
          "Nigerian Used",
          "Nigerian Used",
          "Nigerian Used",
          "Nigerian Used",
          "Nigerian Used",
          "Nigerian Used",
          "Nigerian Used",
          "Nigerian Used",
          "Nigerian Used",
          "Nigerian Used",
          "Nigerian Used",
          "Nigerian Used",
          "Nigerian Used",
          "Nigerian Used",
          "Nigerian Used",
          "Nigerian Used",
          "Nigerian Used",
          "Nigerian Used",
          "Nigerian Used",
          "Nigerian Used",
          "Nigerian Used",
          "Nigerian Used",
          "Nigerian Used",
          "Nigerian Used",
          "Foreign Used",
          "Nigerian Used",
          "Nigerian Used",
          "Nigerian Used",
          "Nigerian Used",
          "Nigerian Used",
          "Nigerian Used",
          "Nigerian Used",
          "Nigerian Used",
          "Nigerian Used",
          "Nigerian Used",
          "Nigerian Used",
          "Nigerian Used",
          "Nigerian Used",
          "Nigerian Used",
          "Nigerian Used",
          "Foreign Used",
          "Nigerian Used",
          "Nigerian Used",
          "Nigerian Used",
          "Nigerian Used",
          "Nigerian Used",
          "Nigerian Used",
          "Nigerian Used",
          "Nigerian Used",
          "Nigerian Used",
          "Nigerian Used",
          "Nigerian Used",
          "Nigerian Used",
          "Nigerian Used",
          "Nigerian Used",
          "Nigerian Used",
          "Nigerian Used",
          "Nigerian Used",
          "Nigerian Used",
          "Nigerian Used",
          "Nigerian Used",
          "Nigerian Used",
          "Nigerian Used",
          "Nigerian Used",
          "Nigerian Used",
          "Nigerian Used",
          "Nigerian Used",
          "Nigerian Used",
          "Nigerian Used",
          "Nigerian Used",
          "Nigerian Used",
          "Nigerian Used",
          "Nigerian Used",
          "Nigerian Used",
          "Nigerian Used",
          "Nigerian Used",
          "Foreign Used",
          "Nigerian Used",
          "Nigerian Used",
          "Nigerian Used",
          "Nigerian Used",
          "Nigerian Used",
          "Nigerian Used",
          "Nigerian Used",
          "Nigerian Used",
          "Nigerian Used",
          "Nigerian Used",
          "Nigerian Used",
          "Nigerian Used",
          "Nigerian Used",
          "Foreign Used",
          "Nigerian Used",
          "Nigerian Used",
          "Nigerian Used",
          "Nigerian Used",
          "Nigerian Used",
          "Nigerian Used",
          "Nigerian Used",
          "Nigerian Used",
          "Nigerian Used",
          "Nigerian Used",
          "Nigerian Used",
          "Nigerian Used",
          "Nigerian Used",
          "Nigerian Used",
          "Nigerian Used",
          "Nigerian Used",
          "Foreign Used",
          "Nigerian Used",
          "Nigerian Used",
          "Nigerian Used",
          "Nigerian Used",
          "Nigerian Used",
          "Nigerian Used",
          "Nigerian Used",
          "Nigerian Used",
          "Nigerian Used",
          "Nigerian Used",
          "Nigerian Used",
          "Nigerian Used",
          "Nigerian Used",
          "Nigerian Used",
          "Nigerian Used",
          "Nigerian Used",
          "Nigerian Used",
          "Foreign Used",
          "Nigerian Used",
          "Nigerian Used",
          "Nigerian Used",
          "Nigerian Used",
          "Nigerian Used",
          "Foreign Used",
          "Nigerian Used",
          "Nigerian Used",
          "Nigerian Used",
          "Nigerian Used",
          "Nigerian Used",
          "Nigerian Used",
          "Nigerian Used",
          "Nigerian Used",
          "Nigerian Used",
          "Foreign Used",
          "Nigerian Used",
          "Nigerian Used",
          "Nigerian Used",
          "Nigerian Used",
          "Nigerian Used",
          "Nigerian Used",
          "Foreign Used",
          "Nigerian Used",
          "Nigerian Used",
          "Nigerian Used",
          "Nigerian Used",
          "Nigerian Used",
          "Nigerian Used",
          "Nigerian Used",
          "Nigerian Used",
          "Nigerian Used",
          "Nigerian Used",
          "Nigerian Used",
          "Nigerian Used",
          "Nigerian Used",
          "Nigerian Used",
          "Nigerian Used",
          "Nigerian Used",
          "Nigerian Used",
          "Nigerian Used",
          "Foreign Used",
          "Nigerian Used",
          "Nigerian Used",
          "Nigerian Used",
          "Nigerian Used",
          "Nigerian Used",
          "Nigerian Used",
          "Nigerian Used",
          "Nigerian Used",
          "Nigerian Used",
          "Nigerian Used",
          "Nigerian Used",
          "Nigerian Used",
          "Nigerian Used",
          "Nigerian Used",
          "Nigerian Used",
          "Nigerian Used",
          "Nigerian Used",
          "Nigerian Used",
          "Nigerian Used",
          "Nigerian Used",
          "Nigerian Used",
          "Nigerian Used",
          "Foreign Used",
          "Nigerian Used",
          "Nigerian Used",
          "Nigerian Used",
          "Nigerian Used",
          "Nigerian Used",
          "Nigerian Used",
          "Nigerian Used",
          "Nigerian Used",
          "Nigerian Used",
          "Nigerian Used",
          "Nigerian Used",
          "Nigerian Used",
          "Nigerian Used",
          "Nigerian Used",
          "Nigerian Used",
          "Foreign Used",
          "Nigerian Used",
          "Nigerian Used",
          "Nigerian Used",
          "Nigerian Used",
          "Nigerian Used",
          "Nigerian Used",
          "Nigerian Used",
          "Nigerian Used",
          "Nigerian Used",
          "Nigerian Used",
          "Nigerian Used",
          "Nigerian Used",
          "Nigerian Used",
          "Nigerian Used",
          "Nigerian Used",
          "Nigerian Used",
          "Foreign Used",
          "Nigerian Used",
          "Foreign Used",
          "Nigerian Used",
          "Nigerian Used",
          "Nigerian Used",
          "Nigerian Used",
          "Nigerian Used",
          "Nigerian Used",
          "Foreign Used",
          "Nigerian Used",
          "Nigerian Used",
          "Nigerian Used",
          "Nigerian Used",
          "Nigerian Used",
          "Nigerian Used",
          "Nigerian Used",
          "Foreign Used",
          "Nigerian Used",
          "Nigerian Used",
          "Nigerian Used",
          "Nigerian Used",
          "Nigerian Used",
          "Nigerian Used",
          "Nigerian Used",
          "Nigerian Used",
          "Nigerian Used",
          "Nigerian Used",
          "Nigerian Used",
          "Nigerian Used",
          "Nigerian Used",
          "Nigerian Used",
          "Nigerian Used",
          "Nigerian Used",
          "Nigerian Used",
          "Nigerian Used",
          "Nigerian Used",
          "Nigerian Used",
          "Nigerian Used",
          "Nigerian Used",
          "Nigerian Used",
          "Nigerian Used",
          "Nigerian Used",
          "Nigerian Used",
          "Nigerian Used",
          "Nigerian Used",
          "Nigerian Used",
          "Nigerian Used",
          "Nigerian Used",
          "Nigerian Used",
          "Nigerian Used",
          "Nigerian Used",
          "Nigerian Used",
          "Nigerian Used",
          "Nigerian Used",
          "Nigerian Used",
          "Nigerian Used",
          "Nigerian Used",
          "Nigerian Used",
          "Nigerian Used",
          "Nigerian Used",
          "Nigerian Used",
          "Nigerian Used",
          "Nigerian Used",
          "Nigerian Used",
          "Nigerian Used",
          "Nigerian Used",
          "Foreign Used",
          "Nigerian Used",
          "Nigerian Used",
          "Foreign Used",
          "Nigerian Used",
          "Nigerian Used",
          "Foreign Used",
          "Nigerian Used",
          "Nigerian Used",
          "Nigerian Used",
          "Nigerian Used",
          "Foreign Used",
          "Nigerian Used",
          "Nigerian Used",
          "Nigerian Used",
          "Nigerian Used",
          "Nigerian Used",
          "Nigerian Used",
          "Nigerian Used",
          "Nigerian Used",
          "Nigerian Used",
          "Nigerian Used",
          "Nigerian Used",
          "Foreign Used",
          "Nigerian Used",
          "Nigerian Used",
          "Nigerian Used",
          "Nigerian Used",
          "Foreign Used",
          "Foreign Used",
          "Nigerian Used",
          "Foreign Used",
          "Nigerian Used",
          "Nigerian Used",
          "Nigerian Used",
          "Nigerian Used",
          "Nigerian Used",
          "Nigerian Used",
          "Nigerian Used",
          "Nigerian Used",
          "Nigerian Used",
          "Nigerian Used",
          "Nigerian Used",
          "Nigerian Used",
          "Nigerian Used",
          "Nigerian Used",
          "Nigerian Used",
          "Nigerian Used",
          "Nigerian Used",
          "Nigerian Used",
          "Nigerian Used",
          "Foreign Used",
          "Nigerian Used",
          "Nigerian Used",
          "Nigerian Used",
          "Nigerian Used",
          "Nigerian Used",
          "Foreign Used",
          "Nigerian Used",
          "Nigerian Used",
          "Nigerian Used",
          "Nigerian Used",
          "Nigerian Used",
          "Foreign Used",
          "Nigerian Used",
          "Nigerian Used",
          "Nigerian Used",
          "Nigerian Used",
          "Nigerian Used",
          "Nigerian Used",
          "Nigerian Used",
          "Nigerian Used",
          "Foreign Used",
          "Nigerian Used",
          "Nigerian Used",
          "Foreign Used",
          "Nigerian Used",
          "Nigerian Used",
          "Nigerian Used",
          "Nigerian Used",
          "Nigerian Used",
          "Nigerian Used",
          "Nigerian Used",
          "Nigerian Used",
          "Nigerian Used",
          "Nigerian Used",
          "Nigerian Used",
          "Foreign Used",
          "Foreign Used",
          "Nigerian Used",
          "Nigerian Used",
          "Foreign Used",
          "Nigerian Used",
          "Nigerian Used",
          "Nigerian Used",
          "Nigerian Used",
          "Nigerian Used",
          "Nigerian Used",
          "Foreign Used",
          "Foreign Used",
          "Nigerian Used",
          "Nigerian Used",
          "Nigerian Used",
          "Nigerian Used",
          "Nigerian Used",
          "Nigerian Used",
          "Nigerian Used",
          "Nigerian Used",
          "Nigerian Used",
          "Nigerian Used",
          "Nigerian Used",
          "Nigerian Used",
          "Nigerian Used",
          "Nigerian Used",
          "Foreign Used",
          "Nigerian Used",
          "Nigerian Used",
          "Nigerian Used",
          "Nigerian Used",
          "Nigerian Used",
          "Nigerian Used",
          "Foreign Used",
          "Nigerian Used",
          "Nigerian Used",
          "Nigerian Used",
          "Nigerian Used",
          "Nigerian Used",
          "Nigerian Used",
          "Foreign Used",
          "Nigerian Used",
          "Nigerian Used",
          "Nigerian Used",
          "Nigerian Used",
          "Nigerian Used",
          "Nigerian Used",
          "Nigerian Used",
          "Nigerian Used",
          "Nigerian Used",
          "Nigerian Used",
          "Nigerian Used",
          "Local Used",
          "Nigerian Used",
          "Nigerian Used",
          "Foreign Used",
          "Nigerian Used",
          "Local Used",
          "Local Used",
          "Nigerian Used",
          "Nigerian Used",
          "Nigerian Used",
          "Nigerian Used",
          "Local Used",
          "Nigerian Used",
          "Foreign Used",
          "Foreign Used",
          "Local Used",
          "Nigerian Used",
          "Foreign Used",
          "Nigerian Used",
          "Local Used",
          "Nigerian Used",
          "Nigerian Used",
          "Local Used",
          "Nigerian Used",
          "Local Used",
          "Local Used",
          "Nigerian Used",
          "Nigerian Used",
          "Nigerian Used",
          "Foreign Used",
          "Local Used",
          "Local Used",
          "Nigerian Used",
          "Nigerian Used",
          "Foreign Used",
          "Nigerian Used",
          "Nigerian Used",
          "Local Used",
          "Nigerian Used",
          "Nigerian Used",
          "Nigerian Used",
          "Foreign Used",
          "Local Used",
          "Nigerian Used",
          "Nigerian Used",
          "Local Used",
          "Nigerian Used",
          "Nigerian Used",
          "Nigerian Used",
          "Local Used",
          "Local Used",
          "Nigerian Used",
          "Foreign Used",
          "Nigerian Used",
          "Nigerian Used",
          "Nigerian Used",
          "Nigerian Used",
          "Nigerian Used",
          "Local Used",
          "Local Used",
          "Nigerian Used",
          "Foreign Used",
          "Local Used",
          "Foreign Used",
          "Nigerian Used",
          "Nigerian Used",
          "Local Used",
          "Nigerian Used",
          "Foreign Used",
          "Nigerian Used",
          "Nigerian Used",
          "Nigerian Used",
          "Local Used",
          "Nigerian Used",
          "Nigerian Used",
          "Nigerian Used",
          "Local Used",
          "Local Used",
          "Nigerian Used",
          "Nigerian Used",
          "Foreign Used",
          "Nigerian Used",
          "Nigerian Used",
          "Nigerian Used",
          "Nigerian Used",
          "Nigerian Used",
          "Local Used",
          "Local Used",
          "Foreign Used",
          "Foreign Used",
          "Nigerian Used",
          "Nigerian Used",
          "Local Used",
          "Local Used",
          "Local Used",
          "Local Used",
          "Foreign Used",
          "Foreign Used",
          "Foreign Used",
          "Local Used",
          "Local Used",
          "Foreign Used",
          "Local Used",
          "Local Used",
          "Local Used",
          "Local Used",
          "Local Used",
          "Foreign Used",
          "Local Used",
          "Local Used",
          "Local Used",
          "Local Used",
          "Foreign Used",
          "Foreign Used",
          "Foreign Used",
          "Local Used",
          "Local Used",
          "Local Used",
          "Local Used"
         ],
         "yaxis": "y"
        },
        {
         "customdata": [
          [
           3712500,
           "MDX"
          ],
          [
           4500000,
           "Camry"
          ],
          [
           1800000,
           "CR-V"
          ],
          [
           2812500,
           "Camry"
          ],
          [
           1125000,
           "Sirion"
          ],
          [
           3937500,
           "G35"
          ],
          [
           4275000,
           "Civic"
          ],
          [
           2700000,
           "C200"
          ],
          [
           4635000,
           "Camry"
          ],
          [
           1687500,
           "CL"
          ],
          [
           2475000,
           "Jetta"
          ],
          [
           4500000,
           "Corolla"
          ],
          [
           3375000,
           "Accord"
          ],
          [
           4500000,
           "Edge"
          ],
          [
           2812500,
           "Sonata"
          ],
          [
           2250000,
           "406"
          ],
          [
           3375000,
           "City"
          ],
          [
           4500000,
           "Jetta"
          ],
          [
           3937500,
           "Pilot"
          ],
          [
           4275000,
           "Camry"
          ],
          [
           3487500,
           "Rio"
          ],
          [
           3375000,
           "Civic"
          ],
          [
           2812500,
           "CR-V"
          ],
          [
           3937500,
           "Civic"
          ],
          [
           4500000,
           "Camry"
          ],
          [
           3937500,
           "308"
          ],
          [
           3386250,
           "Corolla"
          ],
          [
           4500000,
           "Highlander"
          ],
          [
           3937500,
           "Camry"
          ],
          [
           4387500,
           "Odyssey"
          ],
          [
           1800000,
           "Micra"
          ],
          [
           4500000,
           "Camry"
          ],
          [
           4500000,
           "Accord"
          ],
          [
           3375000,
           "RAV4"
          ],
          [
           2250000,
           "206"
          ],
          [
           4095000,
           "Corolla"
          ],
          [
           4500000,
           "Pacifica"
          ],
          [
           3375000,
           "Corolla"
          ],
          [
           2812500,
           "Sienna"
          ],
          [
           4200000,
           "Yaris"
          ],
          [
           3465000,
           "Yaris"
          ],
          [
           3375000,
           "City"
          ],
          [
           3937500,
           "Elantra"
          ],
          [
           3150000,
           "Town&Country"
          ],
          [
           3600000,
           "L200"
          ],
          [
           3465000,
           "B-series"
          ],
          [
           3937500,
           "MDX"
          ],
          [
           3825000,
           "5 Series"
          ],
          [
           4837500,
           "City"
          ],
          [
           2250000,
           "Almera"
          ],
          [
           3675000,
           "MDX"
          ],
          [
           4725000,
           "Accord"
          ],
          [
           2730000,
           "Maxima"
          ],
          [
           3712500,
           "Camry"
          ],
          [
           4443750,
           "Camry"
          ],
          [
           4950000,
           "Accord"
          ],
          [
           4500000,
           "Camry"
          ],
          [
           4200000,
           "Corolla"
          ],
          [
           3375000,
           "Avalon"
          ],
          [
           1575000,
           "Altima"
          ],
          [
           2025000,
           "Altima"
          ],
          [
           4500000,
           "Sienna"
          ],
          [
           3937500,
           "Pilot"
          ],
          [
           3150000,
           "Passat"
          ],
          [
           3150000,
           "Santa Fe"
          ],
          [
           2250000,
           "Accord"
          ],
          [
           1995000,
           "Golf"
          ],
          [
           3150000,
           "Camry"
          ],
          [
           4500000,
           "Sonata"
          ],
          [
           3600000,
           "Accord"
          ],
          [
           2250000,
           "307"
          ],
          [
           3937500,
           "Matrix"
          ],
          [
           4162500,
           "Corolla"
          ],
          [
           3757500,
           "Sienna"
          ],
          [
           3360000,
           "Edge"
          ],
          [
           3375000,
           "Avalon"
          ],
          [
           3600000,
           "Camry"
          ],
          [
           3675000,
           "Matrix"
          ],
          [
           2992500,
           "Civic"
          ],
          [
           3675000,
           "Maxima"
          ],
          [
           2137500,
           "Camry"
          ],
          [
           3927000,
           "Sienna"
          ],
          [
           3990000,
           "Corolla"
          ],
          [
           3675000,
           "Sienna"
          ],
          [
           3885000,
           "Compass"
          ],
          [
           2812500,
           "Alsvin"
          ],
          [
           1785000,
           "Corolla Altis"
          ],
          [
           4200000,
           "Sienna"
          ],
          [
           3097500,
           "Pathfinder"
          ],
          [
           4680000,
           "Accord"
          ],
          [
           3570000,
           "RX 300"
          ],
          [
           3937500,
           "Camry"
          ],
          [
           3675000,
           "C180"
          ],
          [
           2100000,
           "C230"
          ],
          [
           4200000,
           "ES"
          ],
          [
           3675000,
           "RX 300"
          ],
          [
           4620000,
           "Highlander"
          ],
          [
           4160000,
           "Camry"
          ],
          [
           4500000,
           "CX-7"
          ],
          [
           4200000,
           "Matrix"
          ],
          [
           3675000,
           "Pilot"
          ],
          [
           4830000,
           "Camry"
          ],
          [
           3037500,
           "City"
          ],
          [
           4200000,
           "Corolla"
          ],
          [
           3150000,
           "MDX"
          ],
          [
           4725000,
           "Civic"
          ],
          [
           4784000,
           "Corolla"
          ],
          [
           2137500,
           "Almera"
          ],
          [
           3712500,
           "Sandero"
          ],
          [
           4935000,
           "M Class"
          ],
          [
           4992000,
           "Corolla"
          ],
          [
           4620000,
           "Matrix"
          ],
          [
           4410000,
           "Prius"
          ],
          [
           2100000,
           "CR-V"
          ],
          [
           4992000,
           "Corolla"
          ],
          [
           3675000,
           "RL"
          ],
          [
           2625000,
           "Pilot"
          ],
          [
           4200000,
           "Accord"
          ],
          [
           2625000,
           "Sunny"
          ],
          [
           1837500,
           "Sienna"
          ],
          [
           4200000,
           "206"
          ],
          [
           4200000,
           "Matrix"
          ],
          [
           3780000,
           "Avalon"
          ],
          [
           4306312,
           "Corolla"
          ],
          [
           2625000,
           "Matrix"
          ],
          [
           3150000,
           "Pathfinder"
          ],
          [
           4992000,
           "Corolla"
          ],
          [
           4725000,
           "Tiguan"
          ],
          [
           3465000,
           "Corolla"
          ],
          [
           3255000,
           "Sienna"
          ],
          [
           3675000,
           "A4"
          ],
          [
           4620000,
           "Camry"
          ],
          [
           1155000,
           "Corolla"
          ],
          [
           4680000,
           "Camry"
          ],
          [
           4410000,
           "Corolla"
          ],
          [
           2940000,
           "Camry"
          ],
          [
           4680000,
           "Accord"
          ],
          [
           2047500,
           "307"
          ],
          [
           1627500,
           "Camry"
          ],
          [
           4200000,
           "Pilot"
          ],
          [
           3150000,
           "S60"
          ],
          [
           4200000,
           "Sharan"
          ],
          [
           1785000,
           "Sienna"
          ],
          [
           4200000,
           "Pathfinder"
          ],
          [
           3675000,
           "Corolla Verso"
          ],
          [
           3150000,
           "Celica"
          ],
          [
           2100000,
           "RAV4"
          ],
          [
           3675000,
           "Accord"
          ],
          [
           4620000,
           "Camry"
          ],
          [
           3675000,
           "Mariner"
          ],
          [
           2205000,
           "Camry"
          ],
          [
           2940000,
           "Odyssey"
          ],
          [
           3675000,
           "Highlander"
          ],
          [
           3990000,
           "ES"
          ],
          [
           2625000,
           "C240"
          ],
          [
           4725000,
           "Impala"
          ],
          [
           1260000,
           "Corolla"
          ],
          [
           2730000,
           "Prius"
          ],
          [
           2940000,
           "Micra"
          ],
          [
           3675000,
           "Pilot"
          ],
          [
           2677500,
           "Accord"
          ],
          [
           3150000,
           "Camry"
          ],
          [
           2625000,
           "Fusion"
          ],
          [
           3885000,
           "E320"
          ],
          [
           3465000,
           "Jetta"
          ],
          [
           3601500,
           "Corolla"
          ],
          [
           4200000,
           "CR-V"
          ],
          [
           2520000,
           "MDX"
          ],
          [
           2625000,
           "Rio"
          ],
          [
           2730000,
           "Accent"
          ],
          [
           3360000,
           "Corolla"
          ],
          [
           2415000,
           "Accord"
          ],
          [
           3465000,
           "Civic"
          ],
          [
           4515000,
           "Highlander"
          ],
          [
           3675000,
           "Accord"
          ],
          [
           3150000,
           "Camry"
          ],
          [
           2940000,
           "Rio"
          ],
          [
           4200000,
           "Corolla"
          ],
          [
           4888000,
           "Sienna"
          ],
          [
           2625000,
           "Passat"
          ],
          [
           3570000,
           "Pilot"
          ],
          [
           2835000,
           "Camry"
          ],
          [
           3360000,
           "Civic"
          ],
          [
           4462500,
           "Pilot"
          ],
          [
           4095000,
           "Accord"
          ],
          [
           2625000,
           "Corolla"
          ],
          [
           4680000,
           "Accord"
          ],
          [
           4725000,
           "MDX"
          ],
          [
           4725000,
           "ES"
          ],
          [
           4200000,
           "RDX"
          ],
          [
           3780000,
           "Xterra"
          ],
          [
           4725000,
           "E350"
          ],
          [
           1890000,
           "H1"
          ],
          [
           4200000,
           "FX35"
          ],
          [
           4725000,
           "Sienna"
          ],
          [
           3360000,
           "Corolla"
          ],
          [
           4200000,
           "CR-V"
          ],
          [
           3150000,
           "Civic"
          ],
          [
           2887500,
           "Sequoia"
          ],
          [
           4725000,
           "Rogue"
          ],
          [
           3360000,
           "Camry"
          ],
          [
           2625000,
           "Forester"
          ],
          [
           2625000,
           "Civic"
          ],
          [
           3465000,
           "Corolla Altis"
          ],
          [
           2835000,
           "Pilot"
          ],
          [
           4914000,
           "RAV4"
          ],
          [
           4160000,
           "Camry"
          ],
          [
           4725000,
           "GX"
          ],
          [
           2100000,
           "Elantra"
          ],
          [
           2310000,
           "323"
          ],
          [
           4200000,
           "Accord"
          ],
          [
           3150000,
           "626"
          ],
          [
           4200000,
           "Highlander"
          ],
          [
           1732500,
           "Optra"
          ],
          [
           3675000,
           "MDX"
          ],
          [
           3675000,
           "C230"
          ],
          [
           2205000,
           "Accord"
          ],
          [
           3675000,
           "Avensis"
          ],
          [
           3780000,
           "Pilot"
          ],
          [
           4305000,
           "Corolla"
          ],
          [
           4200000,
           "Camry"
          ],
          [
           4725000,
           "4-Runner"
          ],
          [
           2100000,
           "Accord"
          ],
          [
           3150000,
           "Camry"
          ],
          [
           2100000,
           "HIJET"
          ],
          [
           3150000,
           "Corolla Verso"
          ],
          [
           2835000,
           "Camry"
          ],
          [
           4095000,
           "Corolla"
          ],
          [
           3150000,
           "RAV4"
          ],
          [
           4935000,
           "F-150"
          ],
          [
           3045000,
           "Camry"
          ],
          [
           3885000,
           "Pilot"
          ],
          [
           1575000,
           "Sentra"
          ],
          [
           3675000,
           "Avalon"
          ],
          [
           4725000,
           "Camry"
          ],
          [
           1995000,
           "RL"
          ],
          [
           2625000,
           "Rogue"
          ],
          [
           3465000,
           "Camry"
          ],
          [
           3150000,
           "Camry"
          ],
          [
           4725000,
           "Sienna"
          ],
          [
           3150000,
           "Camry"
          ],
          [
           4200000,
           "Accord"
          ],
          [
           4410000,
           "CX-9"
          ],
          [
           3675000,
           "Rio"
          ],
          [
           4373250,
           "Zafira"
          ],
          [
           1890000,
           "Almera"
          ],
          [
           4472000,
           "Corolla"
          ],
          [
           2205000,
           "307"
          ],
          [
           4784000,
           "Corolla"
          ],
          [
           3150000,
           "Odyssey"
          ],
          [
           3675000,
           "Accent"
          ],
          [
           2625000,
           "Sonata"
          ],
          [
           4725000,
           "Outlander"
          ],
          [
           3150000,
           "CR-V"
          ],
          [
           4200000,
           "Vibe"
          ],
          [
           3990000,
           "Accord"
          ],
          [
           4992000,
           "Corolla"
          ],
          [
           4680000,
           "Corolla"
          ],
          [
           2520000,
           "Previa"
          ],
          [
           3150000,
           "Edge"
          ],
          [
           3780000,
           "Cerato"
          ],
          [
           2625000,
           "Tribute"
          ],
          [
           4200000,
           "408"
          ],
          [
           3675000,
           "Zafira"
          ],
          [
           3675000,
           "Sienna"
          ],
          [
           2625000,
           "Accord"
          ],
          [
           2205000,
           "Premacy"
          ],
          [
           3675000,
           "Xterra"
          ],
          [
           3675000,
           "Sienna"
          ],
          [
           3990000,
           "Almera"
          ],
          [
           4200000,
           "Corolla"
          ],
          [
           3675000,
           "RX 300"
          ],
          [
           4725000,
           "Highlander"
          ],
          [
           2310000,
           "Corsa"
          ],
          [
           1890000,
           "Camry"
          ],
          [
           3990000,
           "Accord"
          ],
          [
           2152500,
           "Civic"
          ],
          [
           4200000,
           "Civic"
          ],
          [
           4725000,
           "Grandeur"
          ],
          [
           3120000,
           "Accord"
          ],
          [
           3360000,
           "Camry"
          ],
          [
           2310000,
           "Sunny"
          ],
          [
           2835000,
           "A6"
          ],
          [
           2205000,
           "406"
          ],
          [
           3120000,
           "Accord"
          ],
          [
           3150000,
           "Sienna"
          ],
          [
           4680000,
           "Corolla"
          ],
          [
           3465000,
           "Edge"
          ],
          [
           4725000,
           "Explorer"
          ],
          [
           3570000,
           "Accord"
          ],
          [
           2520000,
           "Zafira"
          ],
          [
           1575000,
           "Golf"
          ],
          [
           3675000,
           "Pilot"
          ],
          [
           4680000,
           "Accord"
          ],
          [
           3150000,
           "Explorer"
          ],
          [
           4725000,
           "Altima"
          ],
          [
           3360000,
           "Avalon"
          ],
          [
           4410000,
           "CR-V"
          ],
          [
           4305000,
           "Sienna"
          ],
          [
           2940000,
           "Matrix"
          ],
          [
           3952000,
           "Corolla"
          ],
          [
           3675000,
           "307"
          ],
          [
           2730000,
           "Corolla"
          ],
          [
           3843000,
           "Corolla"
          ],
          [
           3360000,
           "Rio"
          ],
          [
           3675000,
           "QX4"
          ],
          [
           4725000,
           "Pilot"
          ],
          [
           1575000,
           "Stream"
          ],
          [
           1785000,
           "Accord"
          ],
          [
           2940000,
           "E320"
          ],
          [
           3150000,
           "Avensis"
          ],
          [
           4830000,
           "Camry"
          ],
          [
           2940000,
           "Avalon"
          ],
          [
           1995000,
           "Accord"
          ],
          [
           4725000,
           "Sonata"
          ],
          [
           4725000,
           "Matrix"
          ],
          [
           2677500,
           "C280"
          ],
          [
           3675000,
           "C230"
          ],
          [
           4410000,
           "Outlook"
          ],
          [
           3675000,
           "Civic"
          ],
          [
           2100000,
           "Rio"
          ],
          [
           4410000,
           "Corolla"
          ],
          [
           2257500,
           "Accent"
          ],
          [
           2310000,
           "Sharan"
          ],
          [
           3360000,
           "E350"
          ],
          [
           2625000,
           "Accord"
          ],
          [
           3465000,
           "Corolla"
          ],
          [
           2310000,
           "Civic"
          ],
          [
           3465000,
           "Rogue"
          ],
          [
           1680000,
           "626"
          ],
          [
           3780000,
           "Corolla"
          ],
          [
           1785000,
           "Sonata"
          ],
          [
           3150000,
           "Vibe"
          ],
          [
           2730000,
           "SpaceWagon"
          ],
          [
           4725000,
           "Highlander"
          ],
          [
           4264000,
           "Corolla"
          ],
          [
           1575000,
           "YRV"
          ],
          [
           4200000,
           "Matrix"
          ],
          [
           3360000,
           "FX"
          ],
          [
           2793000,
           "Corolla"
          ],
          [
           4200000,
           "Edge"
          ],
          [
           4200000,
           "Camry"
          ],
          [
           2940000,
           "RX 300"
          ],
          [
           4200000,
           "328i"
          ],
          [
           4725000,
           "Highlander"
          ],
          [
           3690000,
           "Solara"
          ],
          [
           2940000,
           "CR-V"
          ],
          [
           3796000,
           "Camry"
          ],
          [
           2677500,
           "Sienna"
          ],
          [
           3675000,
           "Taurus"
          ],
          [
           3675000,
           "Altima"
          ],
          [
           4567500,
           "Avensis"
          ],
          [
           3675000,
           "Tundra"
          ],
          [
           3150000,
           "Picnic"
          ],
          [
           2047500,
           "307"
          ],
          [
           4680000,
           "Highlander"
          ],
          [
           2625000,
           "3"
          ],
          [
           3990000,
           "Accent"
          ],
          [
           3120000,
           "Camry"
          ],
          [
           3990000,
           "Corolla"
          ],
          [
           4200000,
           "Pilot"
          ],
          [
           2625000,
           "Camry"
          ],
          [
           4935000,
           "ES"
          ],
          [
           1680000,
           "Accord"
          ],
          [
           2415000,
           "Rio"
          ],
          [
           4160000,
           "Camry"
          ],
          [
           4725000,
           "Camry"
          ],
          [
           4725000,
           "Edge"
          ],
          [
           2205000,
           "Sienna"
          ],
          [
           1890000,
           "Camry"
          ],
          [
           4200000,
           "Sienna"
          ],
          [
           2912000,
           "Accord"
          ],
          [
           2600000,
           "Accord"
          ],
          [
           4200000,
           "Passat"
          ],
          [
           3150000,
           "Optima"
          ],
          [
           2625000,
           "Rio"
          ],
          [
           3780000,
           "Solara"
          ],
          [
           2940000,
           "MDX"
          ],
          [
           4410000,
           "Highlander"
          ],
          [
           4095000,
           "Santa Fe"
          ],
          [
           4725000,
           "Corolla"
          ],
          [
           3600000,
           "Pilot"
          ],
          [
           1680000,
           "Camry"
          ],
          [
           2205000,
           "Sentra"
          ],
          [
           4446750,
           "Camry"
          ],
          [
           4200000,
           "Sienna"
          ],
          [
           3360000,
           "307"
          ],
          [
           4620000,
           "CR-V"
          ],
          [
           3297000,
           "Accord"
          ],
          [
           2677500,
           "Sienna"
          ],
          [
           2310000,
           "Pilot"
          ],
          [
           4200000,
           "Avensis"
          ],
          [
           3885000,
           "Corolla"
          ],
          [
           4515000,
           "Sportage"
          ],
          [
           2835000,
           "TL"
          ],
          [
           4725000,
           "Camry"
          ],
          [
           4725000,
           "Avalon"
          ],
          [
           2625000,
           "Edge"
          ],
          [
           2940000,
           "535i"
          ],
          [
           4672500,
           "Sienna"
          ],
          [
           4784000,
           "Accord"
          ],
          [
           4472000,
           "Sienna"
          ],
          [
           3675000,
           "Cayenne"
          ],
          [
           4200000,
           "CX-7"
          ],
          [
           4725000,
           "Pilot"
          ],
          [
           3675000,
           "206"
          ],
          [
           3675000,
           "Cerato"
          ],
          [
           2835000,
           "Pilot"
          ],
          [
           3150000,
           "Camry"
          ],
          [
           3885000,
           "Accent"
          ],
          [
           3255000,
           "Sienna"
          ],
          [
           2310000,
           "Camry"
          ],
          [
           4940000,
           "Sienna"
          ],
          [
           4200000,
           "Sportage"
          ],
          [
           3675000,
           "Avalon"
          ],
          [
           4200000,
           "Accord"
          ],
          [
           2625000,
           "Passat"
          ],
          [
           4725000,
           "Sienna"
          ],
          [
           4200000,
           "407"
          ],
          [
           2100000,
           "FX35"
          ],
          [
           2925000,
           "Rogue"
          ],
          [
           1890000,
           "Almera"
          ],
          [
           3675000,
           "MDX"
          ],
          [
           4725000,
           "S-Type"
          ],
          [
           3675000,
           "MPV"
          ],
          [
           3990000,
           "Cerato"
          ],
          [
           3123750,
           "Corolla"
          ],
          [
           2835000,
           "Journey"
          ],
          [
           3570000,
           "Xterra"
          ],
          [
           3465000,
           "SpaceWagon"
          ],
          [
           3570000,
           "Accord"
          ],
          [
           3990000,
           "3 Series"
          ],
          [
           4305000,
           "Cerato"
          ],
          [
           2730000,
           "Pilot"
          ],
          [
           2100000,
           "Golf"
          ],
          [
           3640000,
           "Camry"
          ],
          [
           4200000,
           "Edge"
          ],
          [
           3675000,
           "Santa Fe"
          ],
          [
           3484000,
           "Camry"
          ],
          [
           2520000,
           "Montero"
          ],
          [
           2100000,
           "RAV4"
          ],
          [
           4725000,
           "Matrix"
          ],
          [
           3952000,
           "Corolla"
          ],
          [
           2362500,
           "Accord"
          ],
          [
           4515000,
           "Highlander"
          ],
          [
           4725000,
           "RX 300"
          ],
          [
           4200000,
           "RX 300"
          ],
          [
           2940000,
           "Camry"
          ],
          [
           3675000,
           "M Class"
          ],
          [
           2100000,
           "Odyssey"
          ],
          [
           2625000,
           "Pathfinder"
          ],
          [
           4200000,
           "Santa Fe"
          ],
          [
           3360000,
           "Caravan"
          ],
          [
           4715000,
           "Corolla"
          ],
          [
           4305000,
           "Sienna"
          ],
          [
           3990000,
           "Yaris"
          ],
          [
           4725000,
           "Journey"
          ],
          [
           3045000,
           "E320"
          ],
          [
           2625000,
           "406"
          ],
          [
           2940000,
           "RAV4"
          ],
          [
           3675000,
           "Matrix"
          ],
          [
           3150000,
           "S-Class"
          ],
          [
           4160000,
           "Camry"
          ],
          [
           4935000,
           "Verso"
          ],
          [
           4725000,
           "Corolla"
          ],
          [
           4935000,
           "RAV4"
          ],
          [
           3780000,
           "Sienna"
          ],
          [
           1260000,
           "Sunny"
          ],
          [
           3150000,
           "Camry"
          ],
          [
           4200000,
           "Matrix"
          ],
          [
           4935000,
           "Sienna"
          ],
          [
           3675000,
           "Avalon"
          ],
          [
           1890000,
           "Corolla"
          ],
          [
           3848000,
           "Camry"
          ],
          [
           3150000,
           "Laguna"
          ],
          [
           3675000,
           "525i"
          ],
          [
           2600000,
           "Accord"
          ],
          [
           2730000,
           "407"
          ],
          [
           3003000,
           "Accord"
          ],
          [
           1942500,
           "406"
          ],
          [
           2310000,
           "406"
          ],
          [
           4725000,
           "Optima"
          ],
          [
           3360000,
           "Pilot"
          ],
          [
           4914000,
           "RAV4"
          ],
          [
           4700200,
           "Odyssey"
          ],
          [
           4830000,
           "Matrix"
          ],
          [
           4725000,
           "IS"
          ],
          [
           3150000,
           "Accord"
          ],
          [
           4725000,
           "Santa Fe"
          ],
          [
           3150000,
           "Camry"
          ],
          [
           4410000,
           "Avensis"
          ],
          [
           3465000,
           "Corolla"
          ],
          [
           3150000,
           "280E"
          ],
          [
           4200000,
           "G35"
          ],
          [
           3150000,
           "Galant"
          ],
          [
           3675000,
           "Corolla"
          ],
          [
           2600000,
           "Accord"
          ],
          [
           2835000,
           "Odyssey"
          ],
          [
           2310000,
           "Accord"
          ],
          [
           3150000,
           "Santa Fe"
          ],
          [
           4725000,
           "Murano"
          ],
          [
           2600000,
           "Camry"
          ],
          [
           4284000,
           "Camry"
          ],
          [
           4160000,
           "Camry"
          ],
          [
           3328000,
           "Camry"
          ],
          [
           4042500,
           "Corolla"
          ],
          [
           4200000,
           "Civic"
          ],
          [
           4725000,
           "C30"
          ],
          [
           2625000,
           "C320"
          ],
          [
           2940000,
           "Verna"
          ],
          [
           2940000,
           "Sienna"
          ],
          [
           1890000,
           "Primera"
          ],
          [
           3570000,
           "Camry"
          ],
          [
           4620000,
           "Camry"
          ],
          [
           3150000,
           "Sienna"
          ],
          [
           4200000,
           "Murano"
          ],
          [
           3675000,
           "Sorento"
          ],
          [
           3360000,
           "Pathfinder"
          ],
          [
           4160000,
           "Accord"
          ],
          [
           3622500,
           "RX 300"
          ],
          [
           3150000,
           "Cerato"
          ],
          [
           4410000,
           "Corolla"
          ],
          [
           3640000,
           "Camry"
          ],
          [
           3885000,
           "Accord"
          ],
          [
           3150000,
           "Maxima"
          ],
          [
           2392000,
           "Accord"
          ],
          [
           4160000,
           "Corolla"
          ],
          [
           3675000,
           "Corolla"
          ],
          [
           3465000,
           "M Class"
          ],
          [
           3675000,
           "Pilot"
          ],
          [
           3150000,
           "I10"
          ],
          [
           1995000,
           "CR-V"
          ],
          [
           4258800,
           "C300"
          ],
          [
           2625000,
           "206"
          ],
          [
           4200000,
           "Maxima"
          ],
          [
           4410000,
           "Avalon"
          ],
          [
           4410000,
           "MDX"
          ],
          [
           2835000,
           "Accord"
          ],
          [
           4200000,
           "RX 300"
          ],
          [
           2625000,
           "MPV"
          ],
          [
           3990000,
           "RX"
          ],
          [
           4410000,
           "Pilot"
          ],
          [
           1575000,
           "Galant"
          ],
          [
           2835000,
           "MPV"
          ],
          [
           4410000,
           "Sienna"
          ],
          [
           4725000,
           "Corolla"
          ],
          [
           3255000,
           "Civic"
          ],
          [
           3780000,
           "Vibe"
          ],
          [
           3990000,
           "Sienna"
          ],
          [
           2205000,
           "Tiida"
          ],
          [
           3990000,
           "Edge"
          ],
          [
           2625000,
           "Pilot"
          ],
          [
           4368000,
           "Camry"
          ],
          [
           4368000,
           "Corolla"
          ],
          [
           2625000,
           "Camry"
          ],
          [
           3150000,
           "RAV4"
          ],
          [
           1785000,
           "Corolla"
          ],
          [
           4305000,
           "E350"
          ],
          [
           3675000,
           "Grandeur"
          ],
          [
           4515000,
           "Edge"
          ],
          [
           3360000,
           "Almera"
          ],
          [
           2625000,
           "Sienna"
          ],
          [
           4200000,
           "Matrix"
          ],
          [
           3318000,
           "Accord"
          ],
          [
           3150000,
           "Pathfinder"
          ],
          [
           2205000,
           "Armada"
          ],
          [
           4200000,
           "5"
          ],
          [
           3360000,
           "RAV4"
          ],
          [
           2100000,
           "Cordoba"
          ],
          [
           3650000,
           "Camry"
          ],
          [
           2835000,
           "Corolla"
          ],
          [
           3675000,
           "MDX"
          ],
          [
           3885000,
           "Civic"
          ],
          [
           3937500,
           "Sentra"
          ],
          [
           3975000,
           "Corolla"
          ],
          [
           4200000,
           "Edge"
          ],
          [
           3848000,
           "Camry"
          ],
          [
           4725000,
           "Camry"
          ],
          [
           4620000,
           "Rogue"
          ],
          [
           4200000,
           "MDX"
          ],
          [
           2625000,
           "CR-V"
          ],
          [
           4042500,
           "Entourage"
          ],
          [
           4147500,
           "Camry"
          ],
          [
           3990000,
           "Sienna"
          ],
          [
           2520000,
           "TSX"
          ],
          [
           4680000,
           "Pilot"
          ],
          [
           1365000,
           "V40"
          ],
          [
           2184000,
           "Accord"
          ],
          [
           2625000,
           "Accord"
          ],
          [
           4725000,
           "Corolla"
          ],
          [
           3780000,
           "LX"
          ],
          [
           3045000,
           "C180"
          ],
          [
           4725000,
           "Lr3"
          ],
          [
           3744000,
           "Camry"
          ],
          [
           3675000,
           "Edge"
          ],
          [
           3675000,
           "Matrix"
          ],
          [
           4987500,
           "Crosstour"
          ],
          [
           3744000,
           "Camry"
          ],
          [
           3034000,
           "Pathfinder"
          ],
          [
           4095000,
           "Avalon"
          ],
          [
           4160000,
           "Corolla"
          ],
          [
           2415000,
           "Passat"
          ],
          [
           3864000,
           "Corolla"
          ],
          [
           1995000,
           "Avalon"
          ],
          [
           4410000,
           "Corolla"
          ],
          [
           2288000,
           "Accord"
          ],
          [
           3150000,
           "ES"
          ],
          [
           2520000,
           "Galaxy"
          ],
          [
           3640000,
           "Camry"
          ],
          [
           1890000,
           "Corolla"
          ],
          [
           1995000,
           "Corolla"
          ],
          [
           2940000,
           "Edge"
          ],
          [
           3570000,
           "Explorer"
          ],
          [
           4725000,
           "Nitro"
          ],
          [
           3120000,
           "Sienna"
          ],
          [
           2625000,
           "CR-V"
          ],
          [
           3250000,
           "Civic"
          ],
          [
           2625000,
           "Accent"
          ],
          [
           3832500,
           "Sienna"
          ],
          [
           4680000,
           "Corolla"
          ],
          [
           4725000,
           "Cerato"
          ],
          [
           3150000,
           "Pathfinder"
          ],
          [
           3675000,
           "Corolla"
          ],
          [
           4200000,
           "Sienna"
          ],
          [
           3675000,
           "CR-V"
          ],
          [
           2730000,
           "Camry"
          ],
          [
           2940000,
           "Camry"
          ],
          [
           4725000,
           "Pilot"
          ],
          [
           3150000,
           "Camry"
          ],
          [
           1995000,
           "J3"
          ],
          [
           4888000,
           "Accord"
          ],
          [
           2100000,
           "Picnic"
          ],
          [
           2625000,
           "Jetta"
          ],
          [
           2257500,
           "Sunny"
          ],
          [
           2940000,
           "Xterra"
          ],
          [
           2080000,
           "Camry"
          ],
          [
           3150000,
           "Passat"
          ],
          [
           4725000,
           "CX-7"
          ],
          [
           1680000,
           "626"
          ],
          [
           4160000,
           "MDX"
          ],
          [
           4830000,
           "RAV4"
          ],
          [
           2625000,
           "Sienna"
          ],
          [
           4410000,
           "CX-9"
          ],
          [
           1732500,
           "Accent"
          ],
          [
           4725000,
           "Lr3"
          ],
          [
           3780000,
           "Sienna"
          ],
          [
           3465000,
           "Vectra"
          ],
          [
           1575000,
           "406"
          ],
          [
           1785000,
           "Sienna"
          ],
          [
           3328000,
           "Camry"
          ],
          [
           3255000,
           "407"
          ],
          [
           3640000,
           "Camry"
          ],
          [
           2730000,
           "Xterra"
          ],
          [
           4200000,
           "Altima"
          ],
          [
           4725000,
           "X3"
          ],
          [
           3885000,
           "Corolla"
          ],
          [
           4305000,
           "Avensis"
          ],
          [
           4680000,
           "4-Runner"
          ],
          [
           4200000,
           "Camry"
          ],
          [
           3465000,
           "Accord"
          ],
          [
           3780000,
           "Camry"
          ],
          [
           2912000,
           "Camry"
          ],
          [
           1155000,
           "Passat"
          ],
          [
           3780000,
           "Sienna"
          ],
          [
           4667250,
           "LS"
          ],
          [
           4410000,
           "Corolla"
          ],
          [
           3360000,
           "Camry"
          ],
          [
           4515000,
           "Sienna"
          ],
          [
           2992500,
           "Focus"
          ],
          [
           4987500,
           "GS"
          ],
          [
           1785000,
           "Rio"
          ],
          [
           3120000,
           "M Class"
          ],
          [
           3223500,
           "Edge"
          ],
          [
           4160000,
           "Pilot"
          ],
          [
           1890000,
           "Accord"
          ],
          [
           3780000,
           "Vaneo"
          ],
          [
           3952000,
           "Corolla"
          ],
          [
           2860000,
           "Zafira"
          ],
          [
           3120000,
           "Camry"
          ],
          [
           3640000,
           "Camry"
          ],
          [
           3848000,
           "Camry"
          ],
          [
           4410000,
           "Avalanche"
          ],
          [
           4410000,
           "City"
          ],
          [
           1522500,
           "Golf"
          ],
          [
           2600000,
           "Camry"
          ],
          [
           4160000,
           "RX 300"
          ],
          [
           3432000,
           "C240"
          ],
          [
           2520000,
           "C230"
          ],
          [
           3780000,
           "Vaneo"
          ],
          [
           3360000,
           "Avalon"
          ],
          [
           4515000,
           "Camry"
          ],
          [
           3870000,
           "Camry"
          ],
          [
           4160000,
           "Pilot"
          ],
          [
           4992000,
           "Accord"
          ],
          [
           4515000,
           "Camry"
          ]
         ],
         "hovertemplate": "price_range=0-5M<br>Car Make=%{x}<br>Condition=%{y}<br>price=%{customdata[0]}<br>model=%{customdata[1]}<extra></extra>",
         "legendgroup": "0-5M",
         "marker": {
          "color": "#00cc96",
          "opacity": 0.8,
          "size": 12,
          "symbol": "circle"
         },
         "mode": "markers",
         "name": "0-5M",
         "showlegend": true,
         "type": "scattergl",
         "x": [
          "Acura",
          "Toyota",
          "Honda",
          "Toyota",
          "Daihatsu",
          "Infiniti",
          "Honda",
          "Mercedes-Benz",
          "Toyota",
          "Acura",
          "Volkswagen",
          "Toyota",
          "Honda",
          "Ford",
          "Hyundai",
          "Peugeot",
          "Honda",
          "Volkswagen",
          "Honda",
          "Toyota",
          "Kia",
          "Honda",
          "Honda",
          "Honda",
          "Toyota",
          "Peugeot",
          "Toyota",
          "Toyota",
          "Toyota",
          "Honda",
          "Nissan",
          "Toyota",
          "Honda",
          "Toyota",
          "Peugeot",
          "Toyota",
          "Chrysler",
          "Toyota",
          "Toyota",
          "Toyota",
          "Toyota",
          "Honda",
          "Hyundai",
          "Chrysler",
          "Mitsubishi",
          "Mazda",
          "Acura",
          "BMW",
          "Honda",
          "Nissan",
          "Acura",
          "Honda",
          "Nissan",
          "Toyota",
          "Toyota",
          "Honda",
          "Toyota",
          "Toyota",
          "Toyota",
          "Nissan",
          "Nissan",
          "Toyota",
          "Honda",
          "Volkswagen",
          "Hyundai",
          "Honda",
          "Volkswagen",
          "Toyota",
          "Hyundai",
          "Honda",
          "Peugeot",
          "Toyota",
          "Toyota",
          "Toyota",
          "Ford",
          "Toyota",
          "Toyota",
          "Toyota",
          "Honda",
          "Nissan",
          "Toyota",
          "Toyota",
          "Toyota",
          "Toyota",
          "Jeep",
          "Changan",
          "Toyota",
          "Toyota",
          "Nissan",
          "Honda",
          "Lexus",
          "Toyota",
          "Mercedes-Benz",
          "Mercedes-Benz",
          "Lexus",
          "Lexus",
          "Toyota",
          "Toyota",
          "Mazda",
          "Toyota",
          "Honda",
          "Toyota",
          "Honda",
          "Toyota",
          "Acura",
          "Honda",
          "Toyota",
          "Nissan",
          "Dacia",
          "Mercedes-Benz",
          "Toyota",
          "Toyota",
          "Toyota",
          "Honda",
          "Toyota",
          "Acura",
          "Honda",
          "Honda",
          "Nissan",
          "Toyota",
          "Peugeot",
          "Toyota",
          "Toyota",
          "Toyota",
          "Toyota",
          "Nissan",
          "Toyota",
          "Volkswagen",
          "Toyota",
          "Toyota",
          "Audi",
          "Toyota",
          "Toyota",
          "Toyota",
          "Toyota",
          "Toyota",
          "Honda",
          "Peugeot",
          "Toyota",
          "Honda",
          "Volvo",
          "Volkswagen",
          "Toyota",
          "Nissan",
          "Toyota",
          "Toyota",
          "Toyota",
          "Honda",
          "Toyota",
          "Mercury",
          "Toyota",
          "Honda",
          "Toyota",
          "Lexus",
          "Mercedes-Benz",
          "Chevrolet",
          "Toyota",
          "Toyota",
          "Nissan",
          "Honda",
          "Honda",
          "Toyota",
          "Ford",
          "Mercedes-Benz",
          "Volkswagen",
          "Toyota",
          "Honda",
          "Acura",
          "Kia",
          "Hyundai",
          "Toyota",
          "Honda",
          "Honda",
          "Toyota",
          "Honda",
          "Toyota",
          "Kia",
          "Toyota",
          "Toyota",
          "Volkswagen",
          "Honda",
          "Toyota",
          "Honda",
          "Honda",
          "Honda",
          "Toyota",
          "Honda",
          "Acura",
          "Lexus",
          "Acura",
          "Nissan",
          "Mercedes-Benz",
          "Hyundai",
          "Infiniti",
          "Toyota",
          "Toyota",
          "Honda",
          "Honda",
          "Toyota",
          "Nissan",
          "Toyota",
          "Subaru",
          "Honda",
          "Toyota",
          "Honda",
          "Toyota",
          "Toyota",
          "Lexus",
          "Hyundai",
          "Mazda",
          "Honda",
          "Mazda",
          "Toyota",
          "Chevrolet",
          "Acura",
          "Mercedes-Benz",
          "Honda",
          "Toyota",
          "Honda",
          "Toyota",
          "Toyota",
          "Toyota",
          "Honda",
          "Toyota",
          "Daihatsu",
          "Toyota",
          "Toyota",
          "Toyota",
          "Toyota",
          "Ford",
          "Toyota",
          "Honda",
          "Nissan",
          "Toyota",
          "Toyota",
          "Acura",
          "Nissan",
          "Toyota",
          "Toyota",
          "Toyota",
          "Toyota",
          "Honda",
          "Mazda",
          "Kia",
          "Opel",
          "Nissan",
          "Toyota",
          "Peugeot",
          "Toyota",
          "Honda",
          "Hyundai",
          "Hyundai",
          "Mitsubishi",
          "Honda",
          "Pontiac",
          "Honda",
          "Toyota",
          "Toyota",
          "Toyota",
          "Ford",
          "Kia",
          "Mazda",
          "Peugeot",
          "Opel",
          "Toyota",
          "Honda",
          "Mazda",
          "Nissan",
          "Toyota",
          "Nissan",
          "Toyota",
          "Lexus",
          "Toyota",
          "Opel",
          "Toyota",
          "Honda",
          "Honda",
          "Honda",
          "Hyundai",
          "Honda",
          "Toyota",
          "Nissan",
          "Audi",
          "Peugeot",
          "Honda",
          "Toyota",
          "Toyota",
          "Ford",
          "Ford",
          "Honda",
          "Opel",
          "Volkswagen",
          "Honda",
          "Honda",
          "Ford",
          "Nissan",
          "Toyota",
          "Honda",
          "Toyota",
          "Toyota",
          "Toyota",
          "Peugeot",
          "Toyota",
          "Toyota",
          "Kia",
          "Infiniti",
          "Honda",
          "Honda",
          "Honda",
          "Mercedes-Benz",
          "Toyota",
          "Toyota",
          "Toyota",
          "Honda",
          "Hyundai",
          "Toyota",
          "Mercedes-Benz",
          "Mercedes-Benz",
          "Saturn",
          "Honda",
          "Kia",
          "Toyota",
          "Hyundai",
          "Volkswagen",
          "Mercedes-Benz",
          "Honda",
          "Toyota",
          "Honda",
          "Nissan",
          "Mazda",
          "Toyota",
          "Hyundai",
          "Pontiac",
          "Mitsubishi",
          "Toyota",
          "Toyota",
          "Daihatsu",
          "Toyota",
          "Infiniti",
          "Toyota",
          "Ford",
          "Toyota",
          "Lexus",
          "BMW",
          "Toyota",
          "Toyota",
          "Honda",
          "Toyota",
          "Toyota",
          "Ford",
          "Nissan",
          "Toyota",
          "Toyota",
          "Toyota",
          "Peugeot",
          "Toyota",
          "Mazda",
          "Hyundai",
          "Toyota",
          "Toyota",
          "Honda",
          "Toyota",
          "Lexus",
          "Honda",
          "Kia",
          "Toyota",
          "Toyota",
          "Ford",
          "Toyota",
          "Toyota",
          "Toyota",
          "Honda",
          "Honda",
          "Volkswagen",
          "Kia",
          "Kia",
          "Toyota",
          "Acura",
          "Toyota",
          "Hyundai",
          "Toyota",
          "Honda",
          "Toyota",
          "Nissan",
          "Toyota",
          "Toyota",
          "Peugeot",
          "Honda",
          "Honda",
          "Toyota",
          "Honda",
          "Toyota",
          "Toyota",
          "Kia",
          "Acura",
          "Toyota",
          "Toyota",
          "Ford",
          "BMW",
          "Toyota",
          "Honda",
          "Toyota",
          "Porsche",
          "Mazda",
          "Honda",
          "Peugeot",
          "Kia",
          "Honda",
          "Toyota",
          "Hyundai",
          "Toyota",
          "Toyota",
          "Toyota",
          "Kia",
          "Toyota",
          "Honda",
          "Volkswagen",
          "Toyota",
          "Peugeot",
          "Infiniti",
          "Nissan",
          "Nissan",
          "Acura",
          "Jaguar",
          "Mazda",
          "Kia",
          "Toyota",
          "Dodge",
          "Nissan",
          "Mitsubishi",
          "Honda",
          "BMW",
          "Kia",
          "Honda",
          "Volkswagen",
          "Toyota",
          "Ford",
          "Hyundai",
          "Toyota",
          "Mitsubishi",
          "Toyota",
          "Toyota",
          "Toyota",
          "Honda",
          "Toyota",
          "Lexus",
          "Lexus",
          "Toyota",
          "Mercedes-Benz",
          "Honda",
          "Nissan",
          "Hyundai",
          "Dodge",
          "Toyota",
          "Toyota",
          "Toyota",
          "Dodge",
          "Mercedes-Benz",
          "Peugeot",
          "Toyota",
          "Toyota",
          "Mercedes-Benz",
          "Toyota",
          "Toyota",
          "Toyota",
          "Toyota",
          "Toyota",
          "Nissan",
          "Toyota",
          "Toyota",
          "Toyota",
          "Toyota",
          "Toyota",
          "Toyota",
          "Renault",
          "BMW",
          "Honda",
          "Peugeot",
          "Honda",
          "Peugeot",
          "Peugeot",
          "Kia",
          "Honda",
          "Toyota",
          "Honda",
          "Toyota",
          "Lexus",
          "Honda",
          "Hyundai",
          "Toyota",
          "Toyota",
          "Toyota",
          "Mercedes-Benz",
          "Infiniti",
          "Mitsubishi",
          "Toyota",
          "Honda",
          "Honda",
          "Honda",
          "Hyundai",
          "Nissan",
          "Toyota",
          "Toyota",
          "Toyota",
          "Toyota",
          "Toyota",
          "Honda",
          "Volvo",
          "Mercedes-Benz",
          "Hyundai",
          "Toyota",
          "Nissan",
          "Toyota",
          "Toyota",
          "Toyota",
          "Nissan",
          "Kia",
          "Nissan",
          "Honda",
          "Lexus",
          "Kia",
          "Toyota",
          "Toyota",
          "Honda",
          "Nissan",
          "Honda",
          "Toyota",
          "Toyota",
          "Mercedes-Benz",
          "Honda",
          "Hyundai",
          "Honda",
          "Mercedes-Benz",
          "Peugeot",
          "Nissan",
          "Toyota",
          "Acura",
          "Honda",
          "Lexus",
          "Mazda",
          "Lexus",
          "Honda",
          "Mitsubishi",
          "Mazda",
          "Toyota",
          "Toyota",
          "Honda",
          "Pontiac",
          "Toyota",
          "Nissan",
          "Ford",
          "Honda",
          "Toyota",
          "Toyota",
          "Toyota",
          "Toyota",
          "Toyota",
          "Mercedes-Benz",
          "Hyundai",
          "Ford",
          "Nissan",
          "Toyota",
          "Toyota",
          "Honda",
          "Nissan",
          "Nissan",
          "Mazda",
          "Toyota",
          "Seat",
          "Toyota",
          "Toyota",
          "Acura",
          "Honda",
          "Nissan",
          "Toyota",
          "Ford",
          "Toyota",
          "Toyota",
          "Nissan",
          "Acura",
          "Honda",
          "Hyundai",
          "Toyota",
          "Toyota",
          "Acura",
          "Honda",
          "Volvo",
          "Honda",
          "Honda",
          "Toyota",
          "Lexus",
          "Mercedes-Benz",
          "Land Rover",
          "Toyota",
          "Ford",
          "Toyota",
          "Honda",
          "Toyota",
          "Nissan",
          "Toyota",
          "Toyota",
          "Volkswagen",
          "Toyota",
          "Toyota",
          "Toyota",
          "Honda",
          "Lexus",
          "Ford",
          "Toyota",
          "Toyota",
          "Toyota",
          "Ford",
          "Ford",
          "Dodge",
          "Toyota",
          "Honda",
          "Honda",
          "Hyundai",
          "Toyota",
          "Toyota",
          "Kia",
          "Nissan",
          "Toyota",
          "Toyota",
          "Honda",
          "Toyota",
          "Toyota",
          "Honda",
          "Toyota",
          "JAC",
          "Honda",
          "Toyota",
          "Volkswagen",
          "Nissan",
          "Nissan",
          "Toyota",
          "Volkswagen",
          "Mazda",
          "Mazda",
          "Acura",
          "Toyota",
          "Toyota",
          "Mazda",
          "Hyundai",
          "Land Rover",
          "Toyota",
          "Opel",
          "Peugeot",
          "Toyota",
          "Toyota",
          "Peugeot",
          "Toyota",
          "Nissan",
          "Nissan",
          "BMW",
          "Toyota",
          "Toyota",
          "Toyota",
          "Toyota",
          "Honda",
          "Toyota",
          "Toyota",
          "Volkswagen",
          "Toyota",
          "Lexus",
          "Toyota",
          "Toyota",
          "Toyota",
          "Ford",
          "Lexus",
          "Kia",
          "Mercedes-Benz",
          "Ford",
          "Honda",
          "Honda",
          "Mercedes-Benz",
          "Toyota",
          "Opel",
          "Toyota",
          "Toyota",
          "Toyota",
          "Chevrolet",
          "Honda",
          "Volkswagen",
          "Toyota",
          "Lexus",
          "Mercedes-Benz",
          "Mercedes-Benz",
          "Mercedes-Benz",
          "Toyota",
          "Toyota",
          "Toyota",
          "Honda",
          "Honda",
          "Toyota"
         ],
         "xaxis": "x",
         "y": [
          "Nigerian Used",
          "Nigerian Used",
          "Nigerian Used",
          "Nigerian Used",
          "Nigerian Used",
          "Nigerian Used",
          "Nigerian Used",
          "Nigerian Used",
          "Nigerian Used",
          "Nigerian Used",
          "Nigerian Used",
          "Nigerian Used",
          "Nigerian Used",
          "Nigerian Used",
          "Nigerian Used",
          "Nigerian Used",
          "Nigerian Used",
          "Nigerian Used",
          "Nigerian Used",
          "Nigerian Used",
          "Nigerian Used",
          "Nigerian Used",
          "Nigerian Used",
          "Nigerian Used",
          "Nigerian Used",
          "Nigerian Used",
          "Nigerian Used",
          "Nigerian Used",
          "Nigerian Used",
          "Nigerian Used",
          "Nigerian Used",
          "Nigerian Used",
          "Nigerian Used",
          "Nigerian Used",
          "Nigerian Used",
          "Nigerian Used",
          "Nigerian Used",
          "Nigerian Used",
          "Nigerian Used",
          "Nigerian Used",
          "Nigerian Used",
          "Nigerian Used",
          "Nigerian Used",
          "Nigerian Used",
          "Nigerian Used",
          "Nigerian Used",
          "Nigerian Used",
          "Nigerian Used",
          "Nigerian Used",
          "Nigerian Used",
          "Nigerian Used",
          "Nigerian Used",
          "Nigerian Used",
          "Nigerian Used",
          "Nigerian Used",
          "Nigerian Used",
          "Nigerian Used",
          "Nigerian Used",
          "Nigerian Used",
          "Nigerian Used",
          "Nigerian Used",
          "Nigerian Used",
          "Nigerian Used",
          "Nigerian Used",
          "Nigerian Used",
          "Nigerian Used",
          "Nigerian Used",
          "Nigerian Used",
          "Nigerian Used",
          "Nigerian Used",
          "Nigerian Used",
          "Nigerian Used",
          "Nigerian Used",
          "Nigerian Used",
          "Nigerian Used",
          "Nigerian Used",
          "Nigerian Used",
          "Nigerian Used",
          "Nigerian Used",
          "Nigerian Used",
          "Nigerian Used",
          "Nigerian Used",
          "Nigerian Used",
          "Nigerian Used",
          "Nigerian Used",
          "Nigerian Used",
          "Nigerian Used",
          "Nigerian Used",
          "Nigerian Used",
          "Nigerian Used",
          "Nigerian Used",
          "Nigerian Used",
          "Foreign Used",
          "Nigerian Used",
          "Nigerian Used",
          "Nigerian Used",
          "Nigerian Used",
          "Nigerian Used",
          "Nigerian Used",
          "Nigerian Used",
          "Nigerian Used",
          "Nigerian Used",
          "Nigerian Used",
          "Nigerian Used",
          "Nigerian Used",
          "Nigerian Used",
          "Nigerian Used",
          "Nigerian Used",
          "Foreign Used",
          "Nigerian Used",
          "Nigerian Used",
          "Nigerian Used",
          "Nigerian Used",
          "Nigerian Used",
          "Nigerian Used",
          "Nigerian Used",
          "Nigerian Used",
          "Nigerian Used",
          "Nigerian Used",
          "Nigerian Used",
          "Foreign Used",
          "Nigerian Used",
          "Nigerian Used",
          "Nigerian Used",
          "Nigerian Used",
          "Nigerian Used",
          "Nigerian Used",
          "Nigerian Used",
          "Nigerian Used",
          "Foreign Used",
          "Nigerian Used",
          "Nigerian Used",
          "Nigerian Used",
          "Nigerian Used",
          "Foreign Used",
          "Nigerian Used",
          "Nigerian Used",
          "Nigerian Used",
          "Nigerian Used",
          "Nigerian Used",
          "Nigerian Used",
          "Foreign Used",
          "Nigerian Used",
          "Nigerian Used",
          "Foreign Used",
          "Nigerian Used",
          "Nigerian Used",
          "Nigerian Used",
          "Nigerian Used",
          "Nigerian Used",
          "Nigerian Used",
          "Nigerian Used",
          "Nigerian Used",
          "Nigerian Used",
          "Nigerian Used",
          "Nigerian Used",
          "Nigerian Used",
          "Nigerian Used",
          "Foreign Used",
          "Nigerian Used",
          "Nigerian Used",
          "Nigerian Used",
          "Nigerian Used",
          "Nigerian Used",
          "Nigerian Used",
          "Nigerian Used",
          "Nigerian Used",
          "Nigerian Used",
          "Nigerian Used",
          "Nigerian Used",
          "Nigerian Used",
          "Nigerian Used",
          "Nigerian Used",
          "Nigerian Used",
          "Nigerian Used",
          "Nigerian Used",
          "Nigerian Used",
          "Nigerian Used",
          "Nigerian Used",
          "Nigerian Used",
          "Nigerian Used",
          "Nigerian Used",
          "Nigerian Used",
          "Nigerian Used",
          "Nigerian Used",
          "Nigerian Used",
          "Nigerian Used",
          "Nigerian Used",
          "Nigerian Used",
          "Nigerian Used",
          "Nigerian Used",
          "Foreign Used",
          "Nigerian Used",
          "Nigerian Used",
          "Nigerian Used",
          "Nigerian Used",
          "Nigerian Used",
          "Nigerian Used",
          "Nigerian Used",
          "Nigerian Used",
          "Nigerian Used",
          "Nigerian Used",
          "Nigerian Used",
          "Nigerian Used",
          "Nigerian Used",
          "Nigerian Used",
          "Nigerian Used",
          "Nigerian Used",
          "Nigerian Used",
          "Nigerian Used",
          "Nigerian Used",
          "Nigerian Used",
          "Nigerian Used",
          "Nigerian Used",
          "Nigerian Used",
          "Nigerian Used",
          "Nigerian Used",
          "Nigerian Used",
          "Nigerian Used",
          "Nigerian Used",
          "Nigerian Used",
          "Nigerian Used",
          "Nigerian Used",
          "Nigerian Used",
          "Nigerian Used",
          "Nigerian Used",
          "Nigerian Used",
          "Nigerian Used",
          "Nigerian Used",
          "Foreign Used",
          "Nigerian Used",
          "Nigerian Used",
          "Nigerian Used",
          "Nigerian Used",
          "Nigerian Used",
          "Nigerian Used",
          "Nigerian Used",
          "Nigerian Used",
          "Nigerian Used",
          "Nigerian Used",
          "Nigerian Used",
          "Nigerian Used",
          "Nigerian Used",
          "Nigerian Used",
          "Foreign Used",
          "Nigerian Used",
          "Nigerian Used",
          "Nigerian Used",
          "Nigerian Used",
          "Nigerian Used",
          "Nigerian Used",
          "Nigerian Used",
          "Nigerian Used",
          "Nigerian Used",
          "Nigerian Used",
          "Nigerian Used",
          "Nigerian Used",
          "Nigerian Used",
          "Nigerian Used",
          "Nigerian Used",
          "Nigerian Used",
          "Nigerian Used",
          "Nigerian Used",
          "Foreign Used",
          "Nigerian Used",
          "Nigerian Used",
          "Nigerian Used",
          "Nigerian Used",
          "Nigerian Used",
          "Foreign Used",
          "Nigerian Used",
          "Nigerian Used",
          "Nigerian Used",
          "Nigerian Used",
          "Nigerian Used",
          "Nigerian Used",
          "Nigerian Used",
          "Nigerian Used",
          "Nigerian Used",
          "Nigerian Used",
          "Nigerian Used",
          "Nigerian Used",
          "Nigerian Used",
          "Nigerian Used",
          "Nigerian Used",
          "Nigerian Used",
          "Nigerian Used",
          "Nigerian Used",
          "Nigerian Used",
          "Nigerian Used",
          "Nigerian Used",
          "Nigerian Used",
          "Nigerian Used",
          "Nigerian Used",
          "Nigerian Used",
          "Nigerian Used",
          "Nigerian Used",
          "Nigerian Used",
          "Nigerian Used",
          "Nigerian Used",
          "Nigerian Used",
          "Nigerian Used",
          "Nigerian Used",
          "Nigerian Used",
          "Nigerian Used",
          "Nigerian Used",
          "Nigerian Used",
          "Nigerian Used",
          "Nigerian Used",
          "Nigerian Used",
          "Nigerian Used",
          "Foreign Used",
          "Nigerian Used",
          "Nigerian Used",
          "Nigerian Used",
          "Nigerian Used",
          "Nigerian Used",
          "Nigerian Used",
          "Nigerian Used",
          "Nigerian Used",
          "Nigerian Used",
          "Nigerian Used",
          "Nigerian Used",
          "Nigerian Used",
          "Nigerian Used",
          "Nigerian Used",
          "Nigerian Used",
          "Nigerian Used",
          "Nigerian Used",
          "Nigerian Used",
          "Nigerian Used",
          "Nigerian Used",
          "Nigerian Used",
          "Nigerian Used",
          "Nigerian Used",
          "Nigerian Used",
          "Nigerian Used",
          "Nigerian Used",
          "Nigerian Used",
          "Nigerian Used",
          "Nigerian Used",
          "Nigerian Used",
          "Nigerian Used",
          "Nigerian Used",
          "Nigerian Used",
          "Nigerian Used",
          "Nigerian Used",
          "Nigerian Used",
          "Nigerian Used",
          "Nigerian Used",
          "Nigerian Used",
          "Nigerian Used",
          "Nigerian Used",
          "Nigerian Used",
          "Nigerian Used",
          "Nigerian Used",
          "Nigerian Used",
          "Nigerian Used",
          "Nigerian Used",
          "Nigerian Used",
          "Nigerian Used",
          "Nigerian Used",
          "Nigerian Used",
          "Nigerian Used",
          "Nigerian Used",
          "Nigerian Used",
          "Nigerian Used",
          "Nigerian Used",
          "Nigerian Used",
          "Nigerian Used",
          "Nigerian Used",
          "Nigerian Used",
          "Nigerian Used",
          "Nigerian Used",
          "Nigerian Used",
          "Nigerian Used",
          "Nigerian Used",
          "Nigerian Used",
          "Nigerian Used",
          "Nigerian Used",
          "Nigerian Used",
          "Nigerian Used",
          "Nigerian Used",
          "Nigerian Used",
          "Nigerian Used",
          "Nigerian Used",
          "Nigerian Used",
          "Nigerian Used",
          "Nigerian Used",
          "Nigerian Used",
          "Nigerian Used",
          "Nigerian Used",
          "Nigerian Used",
          "Nigerian Used",
          "Nigerian Used",
          "Nigerian Used",
          "Nigerian Used",
          "Nigerian Used",
          "Nigerian Used",
          "Nigerian Used",
          "Nigerian Used",
          "Nigerian Used",
          "Nigerian Used",
          "Nigerian Used",
          "Nigerian Used",
          "Nigerian Used",
          "Nigerian Used",
          "Nigerian Used",
          "Nigerian Used",
          "Nigerian Used",
          "Nigerian Used",
          "Nigerian Used",
          "Nigerian Used",
          "Nigerian Used",
          "Nigerian Used",
          "Nigerian Used",
          "Nigerian Used",
          "Nigerian Used",
          "Nigerian Used",
          "Nigerian Used",
          "Nigerian Used",
          "Nigerian Used",
          "Nigerian Used",
          "Nigerian Used",
          "Nigerian Used",
          "Nigerian Used",
          "Nigerian Used",
          "Nigerian Used",
          "Nigerian Used",
          "Nigerian Used",
          "Nigerian Used",
          "Nigerian Used",
          "Nigerian Used",
          "Nigerian Used",
          "Nigerian Used",
          "Nigerian Used",
          "Nigerian Used",
          "Nigerian Used",
          "Nigerian Used",
          "Nigerian Used",
          "Nigerian Used",
          "Nigerian Used",
          "Nigerian Used",
          "Nigerian Used",
          "Nigerian Used",
          "Nigerian Used",
          "Nigerian Used",
          "Nigerian Used",
          "Nigerian Used",
          "Nigerian Used",
          "Nigerian Used",
          "Nigerian Used",
          "Nigerian Used",
          "Nigerian Used",
          "Nigerian Used",
          "Nigerian Used",
          "Nigerian Used",
          "Nigerian Used",
          "Nigerian Used",
          "Nigerian Used",
          "Nigerian Used",
          "Nigerian Used",
          "Nigerian Used",
          "Foreign Used",
          "Foreign Used",
          "Nigerian Used",
          "Nigerian Used",
          "Nigerian Used",
          "Nigerian Used",
          "Foreign Used",
          "Nigerian Used",
          "Nigerian Used",
          "Nigerian Used",
          "Nigerian Used",
          "Nigerian Used",
          "Nigerian Used",
          "Nigerian Used",
          "Nigerian Used",
          "Nigerian Used",
          "Nigerian Used",
          "Nigerian Used",
          "Nigerian Used",
          "Nigerian Used",
          "Nigerian Used",
          "Nigerian Used",
          "Nigerian Used",
          "Nigerian Used",
          "Nigerian Used",
          "Nigerian Used",
          "Nigerian Used",
          "Nigerian Used",
          "Nigerian Used",
          "Nigerian Used",
          "Foreign Used",
          "Foreign Used",
          "Nigerian Used",
          "Nigerian Used",
          "Nigerian Used",
          "Nigerian Used",
          "Nigerian Used",
          "Nigerian Used",
          "Nigerian Used",
          "Nigerian Used",
          "Nigerian Used",
          "Nigerian Used",
          "Nigerian Used",
          "Nigerian Used",
          "Nigerian Used",
          "Nigerian Used",
          "Nigerian Used",
          "Nigerian Used",
          "Nigerian Used",
          "Nigerian Used",
          "Nigerian Used",
          "Nigerian Used",
          "Nigerian Used",
          "Nigerian Used",
          "Nigerian Used",
          "Nigerian Used",
          "Nigerian Used",
          "Nigerian Used",
          "Nigerian Used",
          "Nigerian Used",
          "Nigerian Used",
          "Nigerian Used",
          "Nigerian Used",
          "Nigerian Used",
          "Nigerian Used",
          "Nigerian Used",
          "Nigerian Used",
          "Nigerian Used",
          "Nigerian Used",
          "Nigerian Used",
          "Nigerian Used",
          "Nigerian Used",
          "Nigerian Used",
          "Nigerian Used",
          "Nigerian Used",
          "Nigerian Used",
          "Nigerian Used",
          "Nigerian Used",
          "Nigerian Used",
          "Nigerian Used",
          "Nigerian Used",
          "Nigerian Used",
          "Nigerian Used",
          "Nigerian Used",
          "Nigerian Used",
          "Nigerian Used",
          "Nigerian Used",
          "Nigerian Used",
          "Nigerian Used",
          "Nigerian Used",
          "Nigerian Used",
          "Nigerian Used",
          "Nigerian Used",
          "Nigerian Used",
          "Nigerian Used",
          "Nigerian Used",
          "Nigerian Used",
          "Nigerian Used",
          "Nigerian Used",
          "Nigerian Used",
          "Local Used",
          "Nigerian Used",
          "Nigerian Used",
          "Foreign Used",
          "Local Used",
          "Local Used",
          "Nigerian Used",
          "Local Used",
          "Nigerian Used",
          "Nigerian Used",
          "Local Used",
          "Nigerian Used",
          "Nigerian Used",
          "Nigerian Used",
          "Nigerian Used",
          "Local Used",
          "Nigerian Used",
          "Nigerian Used",
          "Nigerian Used",
          "Local Used",
          "Local Used",
          "Local Used",
          "Local Used",
          "Nigerian Used",
          "Nigerian Used",
          "Nigerian Used",
          "Nigerian Used",
          "Nigerian Used",
          "Local Used",
          "Nigerian Used",
          "Local Used",
          "Nigerian Used",
          "Nigerian Used",
          "Nigerian Used",
          "Nigerian Used",
          "Local Used",
          "Nigerian Used",
          "Local Used",
          "Nigerian Used",
          "Nigerian Used",
          "Nigerian Used",
          "Nigerian Used",
          "Local Used",
          "Nigerian Used",
          "Local Used",
          "Local Used",
          "Nigerian Used",
          "Nigerian Used",
          "Local Used",
          "Local Used",
          "Nigerian Used",
          "Local Used",
          "Nigerian Used",
          "Local Used",
          "Local Used",
          "Nigerian Used",
          "Nigerian Used",
          "Local Used",
          "Nigerian Used",
          "Nigerian Used",
          "Nigerian Used",
          "Nigerian Used",
          "Nigerian Used",
          "Nigerian Used",
          "Nigerian Used",
          "Nigerian Used",
          "Nigerian Used",
          "Local Used",
          "Nigerian Used",
          "Local Used",
          "Nigerian Used",
          "Nigerian Used",
          "Nigerian Used",
          "Nigerian Used",
          "Nigerian Used",
          "Nigerian Used",
          "Local Used",
          "Nigerian Used",
          "Nigerian Used",
          "Nigerian Used",
          "Nigerian Used",
          "Local Used",
          "Local Used",
          "Local Used",
          "Local Used",
          "Local Used",
          "Local Used",
          "Local Used",
          "Local Used",
          "Local Used",
          "Local Used",
          "Local Used",
          "Local Used",
          "Local Used",
          "Local Used",
          "Local Used",
          "Local Used",
          "Local Used",
          "Local Used",
          "Nigerian Used",
          "Local Used",
          "Local Used",
          "Local Used",
          "Local Used",
          "Local Used",
          "Local Used",
          "Foreign Used",
          "Local Used",
          "Nigerian Used",
          "Local Used",
          "Local Used",
          "Local Used",
          "Foreign Used",
          "Local Used",
          "Local Used",
          "Local Used",
          "Local Used",
          "Local Used",
          "Foreign Used",
          "Local Used",
          "Local Used",
          "Local Used",
          "Local Used",
          "Local Used",
          "Local Used",
          "Foreign Used",
          "Local Used",
          "Local Used",
          "Local Used",
          "Local Used",
          "Local Used",
          "Local Used"
         ],
         "yaxis": "y"
        },
        {
         "customdata": [
          [
           13500000,
           "Venza"
          ],
          [
           10125000,
           "Camry"
          ],
          [
           14625000,
           "Sienna"
          ],
          [
           12375000,
           "Camry"
          ],
          [
           12937500,
           "Tacoma"
          ],
          [
           10687500,
           "Camry"
          ],
          [
           14625000,
           "Highlander"
          ],
          [
           14400000,
           "Camry"
          ],
          [
           10575000,
           "Camry"
          ],
          [
           10687500,
           "RX 350"
          ],
          [
           11250000,
           "Sportage"
          ],
          [
           10125000,
           "RX 350"
          ],
          [
           14625000,
           "X-Trail"
          ],
          [
           12937500,
           "Almera"
          ],
          [
           13612500,
           "Corolla"
          ],
          [
           10125000,
           "Corolla"
          ],
          [
           14062500,
           "Corolla"
          ],
          [
           13500000,
           "Accord"
          ],
          [
           13500000,
           "Range Rover Sport"
          ],
          [
           13500000,
           "Highlander"
          ],
          [
           12390000,
           "LS"
          ],
          [
           10125000,
           "M Class"
          ],
          [
           12375000,
           "Escape"
          ],
          [
           10687500,
           "Corolla"
          ],
          [
           12150000,
           "Corolla"
          ],
          [
           11250000,
           "Vibe"
          ],
          [
           10350000,
           "Venza"
          ],
          [
           10500000,
           "C300"
          ],
          [
           10125000,
           "Highlander"
          ],
          [
           13500000,
           "Challenger"
          ],
          [
           12881250,
           "Camry"
          ],
          [
           10920000,
           "Corolla"
          ],
          [
           10500000,
           "Camry"
          ],
          [
           12600000,
           "Pajero"
          ],
          [
           10920000,
           "Corolla"
          ],
          [
           11232000,
           "Highlander"
          ],
          [
           10500000,
           "Corolla"
          ],
          [
           12937500,
           "CR-V"
          ],
          [
           10712000,
           "Corolla"
          ],
          [
           12075000,
           "Corolla"
          ],
          [
           14726250,
           "Venza"
          ],
          [
           11550000,
           "Sienna"
          ],
          [
           10500000,
           "Sienna"
          ],
          [
           14625000,
           "Tacoma"
          ],
          [
           10500000,
           "Corolla"
          ],
          [
           10290000,
           "Corolla"
          ],
          [
           14560000,
           "Sienna"
          ],
          [
           14175000,
           "Sonata"
          ],
          [
           14175000,
           "L200"
          ],
          [
           12600000,
           "Corolla"
          ],
          [
           13650000,
           "Corolla"
          ],
          [
           13500000,
           "Accord"
          ],
          [
           10400000,
           "Corolla"
          ],
          [
           12600000,
           "Accord"
          ],
          [
           13965000,
           "RAV4"
          ],
          [
           10500000,
           "Corolla"
          ],
          [
           11235000,
           "Avalon"
          ],
          [
           12256650,
           "Camry"
          ],
          [
           13650000,
           "Camry"
          ],
          [
           13650000,
           "Venza"
          ],
          [
           14280000,
           "Camry"
          ],
          [
           10500000,
           "Tacoma"
          ],
          [
           12600000,
           "GL-Class"
          ],
          [
           14700000,
           "CR-V"
          ],
          [
           12075000,
           "ZDX"
          ],
          [
           12075000,
           "Highlander"
          ],
          [
           12600000,
           "Escape"
          ],
          [
           14560000,
           "RAV4"
          ],
          [
           11550000,
           "Highlander"
          ],
          [
           14700000,
           "RAV4"
          ],
          [
           10605000,
           "Highlander"
          ],
          [
           14700000,
           "Transit"
          ],
          [
           12405750,
           "Accord"
          ],
          [
           13650000,
           "RC"
          ],
          [
           12075000,
           "E350"
          ],
          [
           13520000,
           "Edge"
          ],
          [
           13650000,
           "Venza"
          ],
          [
           13125000,
           "Highlander"
          ],
          [
           13500000,
           "Camry"
          ],
          [
           13650000,
           "Creta"
          ],
          [
           11440000,
           "Quest"
          ],
          [
           13440000,
           "535i"
          ],
          [
           12075000,
           "Sienna"
          ],
          [
           10296000,
           "Highlander"
          ],
          [
           13650000,
           "Corolla"
          ],
          [
           11440000,
           "Corolla"
          ],
          [
           11550000,
           "Venza"
          ],
          [
           12915000,
           "Explorer"
          ],
          [
           13650000,
           "Explorer"
          ],
          [
           12480000,
           "Camry"
          ],
          [
           12272000,
           "Camry"
          ],
          [
           11025000,
           "Accord"
          ],
          [
           14700000,
           "Corolla"
          ],
          [
           13125000,
           "328i"
          ],
          [
           14040000,
           "Camry"
          ],
          [
           10500000,
           "LS"
          ],
          [
           11760000,
           "Sienna"
          ],
          [
           11550000,
           "Tundra"
          ],
          [
           13965000,
           "Corolla"
          ],
          [
           10710000,
           "Lr2"
          ],
          [
           12075000,
           "RAV4"
          ],
          [
           14700000,
           "Venza"
          ],
          [
           11025000,
           "Corolla"
          ],
          [
           10605000,
           "RX 350"
          ],
          [
           13125000,
           "Camry"
          ],
          [
           12600000,
           "Corolla"
          ],
          [
           10500000,
           "Hilux"
          ],
          [
           14700000,
           "Range Rover"
          ],
          [
           13650000,
           "Camaro"
          ],
          [
           14700000,
           "GL-Class"
          ],
          [
           14700000,
           "GLK-Class"
          ],
          [
           11025000,
           "Venza"
          ],
          [
           13000000,
           "RX 330"
          ],
          [
           10400000,
           "Focus"
          ],
          [
           11960000,
           "Camry"
          ],
          [
           11440000,
           "Sienna"
          ],
          [
           10080000,
           "Pathfinder"
          ],
          [
           14700000,
           "LS"
          ],
          [
           13000000,
           "GL-Class"
          ],
          [
           11550000,
           "Civic"
          ],
          [
           13650000,
           "Fortuner"
          ],
          [
           11550000,
           "Sonata"
          ],
          [
           13520000,
           "E350"
          ],
          [
           10400000,
           "Accord"
          ],
          [
           13125000,
           "RAV4"
          ],
          [
           12480000,
           "Accord"
          ],
          [
           13650000,
           "TLX"
          ],
          [
           13335000,
           "Santa Fe"
          ],
          [
           14175000,
           "Camry"
          ],
          [
           13650000,
           "Camry"
          ],
          [
           11235000,
           "Venza"
          ],
          [
           11550000,
           "Escape"
          ],
          [
           14175000,
           "C300"
          ],
          [
           14700000,
           "RX 350"
          ],
          [
           10400000,
           "Camry"
          ],
          [
           10500000,
           "CX-9"
          ],
          [
           10500000,
           "GLK-Class"
          ],
          [
           13650000,
           "GX"
          ],
          [
           11550000,
           "Taurus"
          ],
          [
           12600000,
           "Lr4"
          ],
          [
           12584250,
           "Sienna"
          ],
          [
           10500000,
           "Accord"
          ],
          [
           13020000,
           "Pathfinder"
          ],
          [
           11025000,
           "Corolla"
          ],
          [
           14040000,
           "M Class"
          ],
          [
           14700000,
           "X6"
          ],
          [
           13520000,
           "Accord"
          ],
          [
           14560000,
           "Camry"
          ],
          [
           14700000,
           "L200"
          ],
          [
           10500000,
           "ES"
          ],
          [
           12075000,
           "Avalon"
          ],
          [
           13650000,
           "Highlander"
          ],
          [
           14150000,
           "Corolla"
          ],
          [
           13650000,
           "LS"
          ],
          [
           14352000,
           "Camry"
          ],
          [
           13125000,
           "GL-Class"
          ],
          [
           14175000,
           "Pathfinder"
          ],
          [
           10290000,
           "5 Series"
          ],
          [
           10500000,
           "Venza"
          ],
          [
           10500000,
           "Patrol"
          ],
          [
           10500000,
           "Pajero"
          ],
          [
           12390000,
           "Sonata"
          ],
          [
           14175000,
           "Grandeur"
          ],
          [
           10400000,
           "RAV4"
          ],
          [
           13125000,
           "RAV4"
          ],
          [
           11550000,
           "GL-Class"
          ],
          [
           11340000,
           "Corolla"
          ],
          [
           14456000,
           "Corolla"
          ],
          [
           14490000,
           "320i"
          ],
          [
           14700000,
           "Sienna"
          ],
          [
           11440000,
           "Camry"
          ],
          [
           11232000,
           "IS"
          ],
          [
           14700000,
           "GLK-Class"
          ],
          [
           12600000,
           "Highlander"
          ],
          [
           10500000,
           "E350"
          ],
          [
           14175000,
           "Tundra"
          ],
          [
           10237500,
           "Pilot"
          ],
          [
           14175000,
           "Range Rover Evoque"
          ],
          [
           14175000,
           "Hilux"
          ],
          [
           12075000,
           "Range Rover Evoque"
          ],
          [
           11445000,
           "Corolla"
          ],
          [
           10500000,
           "RAV4"
          ],
          [
           12600000,
           "Edge"
          ],
          [
           11468625,
           "Venza"
          ],
          [
           10500000,
           "F-150"
          ],
          [
           14175000,
           "Corolla"
          ],
          [
           10500000,
           "Venza"
          ],
          [
           14700000,
           "RAV4"
          ],
          [
           14175000,
           "GLK-Class"
          ],
          [
           10500000,
           "Xterra"
          ],
          [
           13832000,
           "Camry"
          ],
          [
           14560000,
           "Camry"
          ],
          [
           14700000,
           "Range Rover Vogue"
          ],
          [
           12022500,
           "RAV4"
          ],
          [
           14175000,
           "Camry"
          ],
          [
           14070000,
           "Pathfinder"
          ],
          [
           14175000,
           "MKX"
          ],
          [
           14560000,
           "Sienna"
          ],
          [
           14175000,
           "Range Rover"
          ],
          [
           10710000,
           "M Class"
          ],
          [
           13650000,
           "Mustang"
          ],
          [
           13440000,
           "Camry"
          ],
          [
           14560000,
           "Sienna"
          ],
          [
           13440000,
           "RX 350"
          ],
          [
           10500000,
           "F-150"
          ],
          [
           10710000,
           "Range Rover Sport"
          ],
          [
           13650000,
           "Accord Crosstour"
          ],
          [
           12480000,
           "Ridgeline"
          ],
          [
           13125000,
           "Explorer"
          ],
          [
           12600000,
           "Accord"
          ],
          [
           14560000,
           "Corolla"
          ],
          [
           12075000,
           "Camry"
          ],
          [
           10500000,
           "Yaris"
          ],
          [
           10608000,
           "GX"
          ],
          [
           11440000,
           "Explorer"
          ],
          [
           11707500,
           "Explorer"
          ],
          [
           11550000,
           "Tacoma"
          ],
          [
           13000000,
           "Camry"
          ],
          [
           13020000,
           "S-Class"
          ],
          [
           10290000,
           "Venza"
          ],
          [
           11232000,
           "RAV4"
          ],
          [
           13000000,
           "RAV4"
          ],
          [
           10290000,
           "Accord"
          ],
          [
           14700000,
           "RX 350"
          ],
          [
           12480000,
           "GX"
          ],
          [
           12500000,
           "Accord"
          ],
          [
           10080000,
           "RAV4"
          ],
          [
           12600000,
           "Frontier"
          ],
          [
           10500000,
           "RAV4"
          ]
         ],
         "hovertemplate": "price_range=10-15M<br>Car Make=%{x}<br>Condition=%{y}<br>price=%{customdata[0]}<br>model=%{customdata[1]}<extra></extra>",
         "legendgroup": "10-15M",
         "marker": {
          "color": "#ab63fa",
          "opacity": 0.8,
          "size": 12,
          "symbol": "circle"
         },
         "mode": "markers",
         "name": "10-15M",
         "showlegend": true,
         "type": "scattergl",
         "x": [
          "Toyota",
          "Toyota",
          "Toyota",
          "Toyota",
          "Toyota",
          "Toyota",
          "Toyota",
          "Toyota",
          "Toyota",
          "Lexus",
          "Kia",
          "Lexus",
          "Nissan",
          "Nissan",
          "Toyota",
          "Toyota",
          "Toyota",
          "Honda",
          "Land Rover",
          "Toyota",
          "Lexus",
          "Mercedes-Benz",
          "Ford",
          "Toyota",
          "Toyota",
          "Pontiac",
          "Toyota",
          "Mercedes-Benz",
          "Toyota",
          "Dodge",
          "Toyota",
          "Toyota",
          "Toyota",
          "Mitsubishi",
          "Toyota",
          "Toyota",
          "Toyota",
          "Honda",
          "Toyota",
          "Toyota",
          "Toyota",
          "Toyota",
          "Toyota",
          "Toyota",
          "Toyota",
          "Toyota",
          "Toyota",
          "Hyundai",
          "Mitsubishi",
          "Toyota",
          "Toyota",
          "Honda",
          "Toyota",
          "Honda",
          "Toyota",
          "Toyota",
          "Toyota",
          "Toyota",
          "Toyota",
          "Toyota",
          "Toyota",
          "Toyota",
          "Mercedes-Benz",
          "Honda",
          "Acura",
          "Toyota",
          "Ford",
          "Toyota",
          "Toyota",
          "Toyota",
          "Toyota",
          "Ford",
          "Honda",
          "Lexus",
          "Mercedes-Benz",
          "Ford",
          "Toyota",
          "Toyota",
          "Toyota",
          "Hyundai",
          "Nissan",
          "BMW",
          "Toyota",
          "Toyota",
          "Toyota",
          "Toyota",
          "Toyota",
          "Ford",
          "Ford",
          "Toyota",
          "Toyota",
          "Honda",
          "Toyota",
          "BMW",
          "Toyota",
          "Lexus",
          "Toyota",
          "Toyota",
          "Toyota",
          "Land Rover",
          "Toyota",
          "Toyota",
          "Toyota",
          "Lexus",
          "Toyota",
          "Toyota",
          "Toyota",
          "Land Rover",
          "Chevrolet",
          "Mercedes-Benz",
          "Mercedes-Benz",
          "Toyota",
          "Lexus",
          "Ford",
          "Toyota",
          "Toyota",
          "Nissan",
          "Lexus",
          "Mercedes-Benz",
          "Honda",
          "Toyota",
          "Hyundai",
          "Mercedes-Benz",
          "Honda",
          "Toyota",
          "Honda",
          "Acura",
          "Hyundai",
          "Toyota",
          "Toyota",
          "Toyota",
          "Ford",
          "Mercedes-Benz",
          "Lexus",
          "Toyota",
          "Mazda",
          "Mercedes-Benz",
          "Lexus",
          "Ford",
          "Land Rover",
          "Toyota",
          "Honda",
          "Nissan",
          "Toyota",
          "Mercedes-Benz",
          "BMW",
          "Honda",
          "Toyota",
          "Mitsubishi",
          "Lexus",
          "Toyota",
          "Toyota",
          "Toyota",
          "Lexus",
          "Toyota",
          "Mercedes-Benz",
          "Nissan",
          "BMW",
          "Toyota",
          "Nissan",
          "Mitsubishi",
          "Hyundai",
          "Hyundai",
          "Toyota",
          "Toyota",
          "Mercedes-Benz",
          "Toyota",
          "Toyota",
          "BMW",
          "Toyota",
          "Toyota",
          "Lexus",
          "Mercedes-Benz",
          "Toyota",
          "Mercedes-Benz",
          "Toyota",
          "Honda",
          "Land Rover",
          "Toyota",
          "Land Rover",
          "Toyota",
          "Toyota",
          "Ford",
          "Toyota",
          "Ford",
          "Toyota",
          "Toyota",
          "Toyota",
          "Mercedes-Benz",
          "Nissan",
          "Toyota",
          "Toyota",
          "Land Rover",
          "Toyota",
          "Toyota",
          "Nissan",
          "Lincoln",
          "Toyota",
          "Land Rover",
          "Mercedes-Benz",
          "Ford",
          "Toyota",
          "Toyota",
          "Lexus",
          "Ford",
          "Land Rover",
          "Honda",
          "Honda",
          "Ford",
          "Honda",
          "Toyota",
          "Toyota",
          "Toyota",
          "Lexus",
          "Ford",
          "Ford",
          "Toyota",
          "Toyota",
          "Mercedes-Benz",
          "Toyota",
          "Toyota",
          "Toyota",
          "Honda",
          "Lexus",
          "Lexus",
          "Honda",
          "Toyota",
          "Nissan",
          "Toyota"
         ],
         "xaxis": "x",
         "y": [
          "Nigerian Used",
          "Nigerian Used",
          "Nigerian Used",
          "Nigerian Used",
          "Nigerian Used",
          "Nigerian Used",
          "Nigerian Used",
          "Nigerian Used",
          "Nigerian Used",
          "Nigerian Used",
          "Nigerian Used",
          "Nigerian Used",
          "Nigerian Used",
          "Foreign Used",
          "Foreign Used",
          "Nigerian Used",
          "Foreign Used",
          "Nigerian Used",
          "Nigerian Used",
          "Nigerian Used",
          "Nigerian Used",
          "Nigerian Used",
          "Nigerian Used",
          "Nigerian Used",
          "Nigerian Used",
          "Foreign Used",
          "Nigerian Used",
          "Nigerian Used",
          "Nigerian Used",
          "Nigerian Used",
          "Foreign Used",
          "Foreign Used",
          "Nigerian Used",
          "Nigerian Used",
          "Foreign Used",
          "Nigerian Used",
          "Foreign Used",
          "Nigerian Used",
          "Foreign Used",
          "Nigerian Used",
          "Foreign Used",
          "Nigerian Used",
          "Nigerian Used",
          "Nigerian Used",
          "Foreign Used",
          "Nigerian Used",
          "Foreign Used",
          "Foreign Used",
          "Nigerian Used",
          "Nigerian Used",
          "Foreign Used",
          "Nigerian Used",
          "Foreign Used",
          "Foreign Used",
          "Nigerian Used",
          "Foreign Used",
          "Nigerian Used",
          "Foreign Used",
          "Nigerian Used",
          "Foreign Used",
          "Foreign Used",
          "Nigerian Used",
          "Nigerian Used",
          "Foreign Used",
          "Foreign Used",
          "Nigerian Used",
          "Nigerian Used",
          "Foreign Used",
          "Nigerian Used",
          "Nigerian Used",
          "Nigerian Used",
          "Nigerian Used",
          "Foreign Used",
          "Nigerian Used",
          "Nigerian Used",
          "Foreign Used",
          "Foreign Used",
          "Foreign Used",
          "Foreign Used",
          "Nigerian Used",
          "Foreign Used",
          "Nigerian Used",
          "Nigerian Used",
          "Nigerian Used",
          "Foreign Used",
          "Foreign Used",
          "Nigerian Used",
          "Foreign Used",
          "Foreign Used",
          "Nigerian Used",
          "Nigerian Used",
          "Nigerian Used",
          "Foreign Used",
          "Foreign Used",
          "Foreign Used",
          "Nigerian Used",
          "Foreign Used",
          "Nigerian Used",
          "Nigerian Used",
          "Foreign Used",
          "Nigerian Used",
          "Nigerian Used",
          "Foreign Used",
          "Nigerian Used",
          "Nigerian Used",
          "Nigerian Used",
          "Nigerian Used",
          "Nigerian Used",
          "Nigerian Used",
          "Nigerian Used",
          "Nigerian Used",
          "Nigerian Used",
          "Foreign Used",
          "Foreign Used",
          "Foreign Used",
          "Foreign Used",
          "Nigerian Used",
          "Nigerian Used",
          "Foreign Used",
          "Nigerian Used",
          "Nigerian Used",
          "Nigerian Used",
          "Foreign Used",
          "Nigerian Used",
          "Nigerian Used",
          "Nigerian Used",
          "Foreign Used",
          "Nigerian Used",
          "Nigerian Used",
          "Nigerian Used",
          "Nigerian Used",
          "Nigerian Used",
          "Nigerian Used",
          "Nigerian Used",
          "Foreign Used",
          "Nigerian Used",
          "Nigerian Used",
          "Nigerian Used",
          "Nigerian Used",
          "Nigerian Used",
          "Foreign Used",
          "Nigerian Used",
          "Nigerian Used",
          "Nigerian Used",
          "Foreign Used",
          "Foreign Used",
          "Foreign Used",
          "Foreign Used",
          "Nigerian Used",
          "Foreign Used",
          "Foreign Used",
          "Nigerian Used",
          "Foreign Used",
          "Nigerian Used",
          "Foreign Used",
          "Foreign Used",
          "Foreign Used",
          "Nigerian Used",
          "Nigerian Used",
          "Nigerian Used",
          "Nigerian Used",
          "Nigerian Used",
          "Foreign Used",
          "Foreign Used",
          "Nigerian Used",
          "Nigerian Used",
          "Nigerian Used",
          "Foreign Used",
          "Foreign Used",
          "Nigerian Used",
          "Foreign Used",
          "Foreign Used",
          "Foreign Used",
          "Foreign Used",
          "Nigerian Used",
          "Nigerian Used",
          "Foreign Used",
          "Nigerian Used",
          "Nigerian Used",
          "Nigerian Used",
          "Foreign Used",
          "Foreign Used",
          "Nigerian Used",
          "Nigerian Used",
          "Nigerian Used",
          "Nigerian Used",
          "Nigerian Used",
          "Nigerian Used",
          "Nigerian Used",
          "Nigerian Used",
          "Foreign Used",
          "Foreign Used",
          "Nigerian Used",
          "Local Used",
          "Foreign Used",
          "Foreign Used",
          "Foreign Used",
          "Foreign Used",
          "Local Used",
          "Nigerian Used",
          "Foreign Used",
          "Nigerian Used",
          "Foreign Used",
          "Nigerian Used",
          "Nigerian Used",
          "Foreign Used",
          "Foreign Used",
          "Foreign Used",
          "Local Used",
          "Foreign Used",
          "Foreign Used",
          "Local Used",
          "Nigerian Used",
          "Local Used",
          "Local Used",
          "Foreign Used",
          "Foreign Used",
          "Foreign Used",
          "Local Used",
          "Local Used",
          "Local Used",
          "Foreign Used",
          "Local Used",
          "Nigerian Used",
          "Local Used",
          "Foreign Used",
          "Foreign Used",
          "Local Used",
          "Foreign Used"
         ],
         "yaxis": "y"
        },
        {
         "customdata": [
          [
           42750000,
           "GLE-Class"
          ],
          [
           42000000,
           "Range Rover"
          ],
          [
           41600000,
           "Tundra"
          ],
          [
           45000000,
           "Arrizo 5"
          ],
          [
           40950000,
           "Highlander"
          ],
          [
           42000000,
           "S-Class"
          ],
          [
           41600000,
           "RAV4"
          ],
          [
           49350000,
           "Howo"
          ],
          [
           49088000,
           "4-Runner"
          ],
          [
           43680000,
           "RAV4"
          ],
          [
           46200000,
           "A6"
          ],
          [
           45150000,
           "GLE-Class"
          ],
          [
           42000000,
           "GLE-Class"
          ],
          [
           44100000,
           "RX 350"
          ],
          [
           45150000,
           "RX 350"
          ],
          [
           49920000,
           "GLE-Class"
          ],
          [
           49920000,
           "GLE-Class"
          ],
          [
           49920000,
           "RX 350"
          ],
          [
           48300000,
           "LX"
          ],
          [
           47840000,
           "RX 350"
          ],
          [
           45150000,
           "RX 350"
          ],
          [
           41475000,
           "QX80"
          ]
         ],
         "hovertemplate": "price_range=40-50M<br>Car Make=%{x}<br>Condition=%{y}<br>price=%{customdata[0]}<br>model=%{customdata[1]}<extra></extra>",
         "legendgroup": "40-50M",
         "marker": {
          "color": "#19d3f3",
          "opacity": 0.8,
          "size": 12,
          "symbol": "circle"
         },
         "mode": "markers",
         "name": "40-50M",
         "showlegend": true,
         "type": "scattergl",
         "x": [
          "Mercedes-Benz",
          "Land Rover",
          "Toyota",
          "Chery",
          "Toyota",
          "Mercedes-Benz",
          "Toyota",
          "Sinotruk",
          "Toyota",
          "Toyota",
          "Audi",
          "Mercedes-Benz",
          "Mercedes-Benz",
          "Lexus",
          "Lexus",
          "Mercedes-Benz",
          "Mercedes-Benz",
          "Lexus",
          "Lexus",
          "Lexus",
          "Lexus",
          "Infiniti"
         ],
         "xaxis": "x",
         "y": [
          "Nigerian Used",
          "Nigerian Used",
          "Foreign Used",
          "Brand New",
          "Foreign Used",
          "Nigerian Used",
          "Foreign Used",
          "Foreign Used",
          "Foreign Used",
          "Foreign Used",
          "Nigerian Used",
          "Foreign Used",
          "Nigerian Used",
          "Foreign Used",
          "Foreign Used",
          "Foreign Used",
          "Foreign Used",
          "Foreign Used",
          "Nigerian Used",
          "Foreign Used",
          "Foreign Used",
          "Local Used"
         ],
         "yaxis": "y"
        },
        {
         "customdata": [
          [
           39375000,
           "RX"
          ],
          [
           35437500,
           "4-Runner"
          ],
          [
           37485000,
           "GLE-Class"
          ],
          [
           36750000,
           "Cayenne"
          ],
          [
           36750000,
           "Almera"
          ],
          [
           36750000,
           "RAV4"
          ],
          [
           38850000,
           "GX"
          ],
          [
           36750000,
           "GLE-Class"
          ],
          [
           35700000,
           "Tunland"
          ],
          [
           38850000,
           "XF"
          ],
          [
           39000000,
           "Highlander"
          ],
          [
           36750000,
           "XF"
          ],
          [
           36750000,
           "E250"
          ],
          [
           39690000,
           "X1"
          ],
          [
           39900000,
           "Land Cruiser Prado"
          ],
          [
           35000000,
           "Tacoma"
          ],
          [
           39520000,
           "Tacoma"
          ],
          [
           36750000,
           "GLC-Class"
          ],
          [
           37960000,
           "Camry"
          ],
          [
           39900000,
           "UX"
          ]
         ],
         "hovertemplate": "price_range=35-40M<br>Car Make=%{x}<br>Condition=%{y}<br>price=%{customdata[0]}<br>model=%{customdata[1]}<extra></extra>",
         "legendgroup": "35-40M",
         "marker": {
          "color": "#FF6692",
          "opacity": 0.8,
          "size": 12,
          "symbol": "circle"
         },
         "mode": "markers",
         "name": "35-40M",
         "showlegend": true,
         "type": "scattergl",
         "x": [
          "Lexus",
          "Toyota",
          "Mercedes-Benz",
          "Porsche",
          "Nissan",
          "Toyota",
          "Lexus",
          "Mercedes-Benz",
          "Foton",
          "DAF",
          "Toyota",
          "DAF",
          "Mercedes-Benz",
          "BMW",
          "Toyota",
          "Toyota",
          "Toyota",
          "Mercedes-Benz",
          "Toyota",
          "Lexus"
         ],
         "xaxis": "x",
         "y": [
          "Nigerian Used",
          "Foreign Used",
          "Foreign Used",
          "Nigerian Used",
          "Nigerian Used",
          "Foreign Used",
          "Nigerian Used",
          "Foreign Used",
          "Brand New",
          "Foreign Used",
          "Foreign Used",
          "Foreign Used",
          "Nigerian Used",
          "Nigerian Used",
          "Nigerian Used",
          "Foreign Used",
          "Foreign Used",
          "Foreign Used",
          "Foreign Used",
          "Local Used"
         ],
         "yaxis": "y"
        },
        {
         "customdata": [
          [
           33750000,
           "3008"
          ],
          [
           33750000,
           "C300"
          ],
          [
           31500000,
           "Highlander"
          ],
          [
           31200000,
           "M Class"
          ],
          [
           33600000,
           "GLC-Class"
          ],
          [
           31200000,
           "Highlander"
          ],
          [
           31500000,
           "Hilux"
          ],
          [
           31500000,
           "GX"
          ],
          [
           34650000,
           "Highlander"
          ],
          [
           32550000,
           "CS35"
          ],
          [
           31500000,
           "Land Cruiser"
          ],
          [
           31500000,
           "Highlander"
          ],
          [
           30160000,
           "RX 350"
          ],
          [
           33600000,
           "S-Class"
          ],
          [
           31750000,
           "Wrangler"
          ],
          [
           32550000,
           "Tundra"
          ],
          [
           34125000,
           "C300"
          ],
          [
           30160000,
           "Accord"
          ],
          [
           33600000,
           "RX 350"
          ]
         ],
         "hovertemplate": "price_range=30-35M<br>Car Make=%{x}<br>Condition=%{y}<br>price=%{customdata[0]}<br>model=%{customdata[1]}<extra></extra>",
         "legendgroup": "30-35M",
         "marker": {
          "color": "#B6E880",
          "opacity": 0.8,
          "size": 12,
          "symbol": "circle"
         },
         "mode": "markers",
         "name": "30-35M",
         "showlegend": true,
         "type": "scattergl",
         "x": [
          "Peugeot",
          "Mercedes-Benz",
          "Toyota",
          "Mercedes-Benz",
          "Mercedes-Benz",
          "Toyota",
          "Toyota",
          "Lexus",
          "Toyota",
          "Changan",
          "Toyota",
          "Toyota",
          "Lexus",
          "Mercedes-Benz",
          "Jeep",
          "Toyota",
          "Mercedes-Benz",
          "Honda",
          "Lexus"
         ],
         "xaxis": "x",
         "y": [
          "Nigerian Used",
          "Nigerian Used",
          "Foreign Used",
          "Foreign Used",
          "Nigerian Used",
          "Foreign Used",
          "Nigerian Used",
          "Nigerian Used",
          "Foreign Used",
          "Nigerian Used",
          "Nigerian Used",
          "Foreign Used",
          "Foreign Used",
          "Nigerian Used",
          "Nigerian Used",
          "Foreign Used",
          "Foreign Used",
          "Foreign Used",
          "Foreign Used"
         ],
         "yaxis": "y"
        },
        {
         "customdata": [
          [
           24862500,
           "C300"
          ],
          [
           20250000,
           "Hilux"
          ],
          [
           20812500,
           "M Class"
          ],
          [
           21375000,
           "GLK-Class"
          ],
          [
           21150000,
           "RX 350"
          ],
          [
           21525000,
           "Pilot"
          ],
          [
           22880000,
           "M Class"
          ],
          [
           24150000,
           "Hilux"
          ],
          [
           23100000,
           "CLA-Class"
          ],
          [
           23100000,
           "M Class"
          ],
          [
           21000000,
           "L200"
          ],
          [
           24150000,
           "Highlander"
          ],
          [
           21525000,
           "M Class"
          ],
          [
           22050000,
           "Rush"
          ],
          [
           21525000,
           "RAV4"
          ],
          [
           20160000,
           "Venza"
          ],
          [
           24150000,
           "Wrangler"
          ],
          [
           24150000,
           "Tacoma"
          ],
          [
           23625000,
           "Corolla"
          ],
          [
           21525000,
           "RX"
          ],
          [
           23100000,
           "4-Runner"
          ],
          [
           24675000,
           "Discovery Sport"
          ],
          [
           21997500,
           "4-Runner"
          ],
          [
           20800000,
           "Corolla"
          ],
          [
           21525000,
           "Range Rover"
          ],
          [
           23400000,
           "ES"
          ],
          [
           24150000,
           "Highlander"
          ],
          [
           21840000,
           "Venza"
          ],
          [
           21000000,
           "7 Series"
          ],
          [
           21000000,
           "RX 350"
          ],
          [
           20800000,
           "Santa Fe"
          ],
          [
           23920000,
           "ES"
          ],
          [
           21840000,
           "RX 350"
          ],
          [
           21000000,
           "Vigus"
          ],
          [
           20800000,
           "GX"
          ],
          [
           20592000,
           "F-150"
          ],
          [
           21000000,
           "ES"
          ],
          [
           22050000,
           "MDX"
          ],
          [
           24150000,
           "CR-V"
          ],
          [
           20800000,
           "RX 350"
          ],
          [
           20475000,
           "Rio"
          ],
          [
           21000000,
           "Beetle"
          ],
          [
           22360000,
           "Edge"
          ]
         ],
         "hovertemplate": "price_range=20-25M<br>Car Make=%{x}<br>Condition=%{y}<br>price=%{customdata[0]}<br>model=%{customdata[1]}<extra></extra>",
         "legendgroup": "20-25M",
         "marker": {
          "color": "#FF97FF",
          "opacity": 0.8,
          "size": 12,
          "symbol": "circle"
         },
         "mode": "markers",
         "name": "20-25M",
         "showlegend": true,
         "type": "scattergl",
         "x": [
          "Mercedes-Benz",
          "Toyota",
          "Mercedes-Benz",
          "Mercedes-Benz",
          "Lexus",
          "Honda",
          "Mercedes-Benz",
          "Toyota",
          "Mercedes-Benz",
          "Mercedes-Benz",
          "Mitsubishi",
          "Toyota",
          "Mercedes-Benz",
          "Toyota",
          "Toyota",
          "Toyota",
          "Jeep",
          "Toyota",
          "Toyota",
          "Lexus",
          "Toyota",
          "Land Rover",
          "Toyota",
          "Toyota",
          "Land Rover",
          "Lexus",
          "Toyota",
          "Toyota",
          "BMW",
          "Lexus",
          "Hyundai",
          "Lexus",
          "Lexus",
          "JMC",
          "Lexus",
          "Ford",
          "Lexus",
          "Acura",
          "Honda",
          "Lexus",
          "Kia",
          "Volkswagen",
          "Ford"
         ],
         "xaxis": "x",
         "y": [
          "Foreign Used",
          "Nigerian Used",
          "Nigerian Used",
          "Foreign Used",
          "Foreign Used",
          "Nigerian Used",
          "Foreign Used",
          "Nigerian Used",
          "Foreign Used",
          "Foreign Used",
          "Nigerian Used",
          "Nigerian Used",
          "Nigerian Used",
          "Nigerian Used",
          "Foreign Used",
          "Nigerian Used",
          "Nigerian Used",
          "Nigerian Used",
          "Nigerian Used",
          "Foreign Used",
          "Nigerian Used",
          "Nigerian Used",
          "Foreign Used",
          "Foreign Used",
          "Foreign Used",
          "Foreign Used",
          "Nigerian Used",
          "Foreign Used",
          "Foreign Used",
          "Foreign Used",
          "Foreign Used",
          "Foreign Used",
          "Foreign Used",
          "Foreign Used",
          "Foreign Used",
          "Foreign Used",
          "Foreign Used",
          "Foreign Used",
          "Local Used",
          "Foreign Used",
          "Local Used",
          "Foreign Used",
          "Foreign Used"
         ],
         "yaxis": "y"
        },
        {
         "customdata": [
          [
           25312500,
           "RX 350"
          ],
          [
           26250000,
           "M Class"
          ],
          [
           29640000,
           "M Class"
          ],
          [
           26250000,
           "Pajero"
          ],
          [
           29120000,
           "Highlander"
          ],
          [
           26250000,
           "M Class"
          ],
          [
           28350000,
           "LX"
          ],
          [
           29400000,
           "GLE-Class"
          ],
          [
           26250000,
           "Range Rover"
          ],
          [
           29640000,
           "Highlander"
          ],
          [
           29400000,
           "C300"
          ],
          [
           29120000,
           "RX 350"
          ],
          [
           26250000,
           "Highlander"
          ],
          [
           27300000,
           "Camry"
          ],
          [
           26250000,
           "GX"
          ],
          [
           28350000,
           "C300"
          ],
          [
           29120000,
           "RX 350"
          ],
          [
           28035000,
           "Highlander"
          ],
          [
           26250000,
           "CR-V"
          ],
          [
           25725000,
           "Highlander"
          ],
          [
           26250000,
           "F-250"
          ],
          [
           27040000,
           "RX 350"
          ],
          [
           28600000,
           "Camry"
          ],
          [
           26250000,
           "GX"
          ],
          [
           26250000,
           "RAM"
          ],
          [
           27300000,
           "Highlander"
          ],
          [
           28350000,
           "Highlander"
          ],
          [
           28800000,
           "Corvette"
          ],
          [
           29120000,
           "ES"
          ],
          [
           25200000,
           "M Class"
          ],
          [
           28350000,
           "GX"
          ],
          [
           26000000,
           "Camry"
          ],
          [
           26250000,
           "QX80"
          ],
          [
           29400000,
           "Highlander"
          ],
          [
           25550000,
           "M Class"
          ],
          [
           27300000,
           "Highlander"
          ],
          [
           25725000,
           "Corolla"
          ],
          [
           26000000,
           "M Class"
          ],
          [
           28350000,
           "GL-Class"
          ],
          [
           27300000,
           "A8"
          ],
          [
           26250000,
           "CS95"
          ],
          [
           26250000,
           "Lr4"
          ],
          [
           26250000,
           "Corolla"
          ],
          [
           29400000,
           "Range Rover"
          ],
          [
           27300000,
           "Discovery Sport"
          ],
          [
           26000000,
           "GL-Class"
          ],
          [
           28080000,
           "M Class"
          ]
         ],
         "hovertemplate": "price_range=25-30M<br>Car Make=%{x}<br>Condition=%{y}<br>price=%{customdata[0]}<br>model=%{customdata[1]}<extra></extra>",
         "legendgroup": "25-30M",
         "marker": {
          "color": "#FECB52",
          "opacity": 0.8,
          "size": 12,
          "symbol": "circle"
         },
         "mode": "markers",
         "name": "25-30M",
         "showlegend": true,
         "type": "scattergl",
         "x": [
          "Lexus",
          "Mercedes-Benz",
          "Mercedes-Benz",
          "Mitsubishi",
          "Toyota",
          "Mercedes-Benz",
          "Lexus",
          "Mercedes-Benz",
          "Land Rover",
          "Toyota",
          "Mercedes-Benz",
          "Lexus",
          "Toyota",
          "Toyota",
          "Lexus",
          "Mercedes-Benz",
          "Lexus",
          "Toyota",
          "Honda",
          "Toyota",
          "Ford",
          "Lexus",
          "Toyota",
          "Lexus",
          "Dodge",
          "Toyota",
          "Toyota",
          "Chevrolet",
          "Lexus",
          "Mercedes-Benz",
          "Lexus",
          "Toyota",
          "Infiniti",
          "Toyota",
          "Mercedes-Benz",
          "Toyota",
          "Toyota",
          "Mercedes-Benz",
          "Mercedes-Benz",
          "Audi",
          "Changan",
          "Land Rover",
          "Toyota",
          "Land Rover",
          "Land Rover",
          "Mercedes-Benz",
          "Mercedes-Benz"
         ],
         "xaxis": "x",
         "y": [
          "Foreign Used",
          "Nigerian Used",
          "Foreign Used",
          "Nigerian Used",
          "Foreign Used",
          "Foreign Used",
          "Nigerian Used",
          "Nigerian Used",
          "Nigerian Used",
          "Foreign Used",
          "Nigerian Used",
          "Foreign Used",
          "Nigerian Used",
          "Foreign Used",
          "Nigerian Used",
          "Nigerian Used",
          "Foreign Used",
          "Foreign Used",
          "Nigerian Used",
          "Nigerian Used",
          "Nigerian Used",
          "Foreign Used",
          "Foreign Used",
          "Nigerian Used",
          "Nigerian Used",
          "Foreign Used",
          "Foreign Used",
          "Foreign Used",
          "Foreign Used",
          "Nigerian Used",
          "Foreign Used",
          "Foreign Used",
          "Nigerian Used",
          "Nigerian Used",
          "Foreign Used",
          "Nigerian Used",
          "Foreign Used",
          "Foreign Used",
          "Nigerian Used",
          "Foreign Used",
          "Local Used",
          "Local Used",
          "Local Used",
          "Local Used",
          "Local Used",
          "Foreign Used",
          "Foreign Used"
         ],
         "yaxis": "y"
        }
       ],
       "layout": {
        "legend": {
         "title": {
          "text": "price_range"
         },
         "tracegroupgap": 0
        },
        "template": {
         "data": {
          "bar": [
           {
            "error_x": {
             "color": "#2a3f5f"
            },
            "error_y": {
             "color": "#2a3f5f"
            },
            "marker": {
             "line": {
              "color": "#E5ECF6",
              "width": 0.5
             },
             "pattern": {
              "fillmode": "overlay",
              "size": 10,
              "solidity": 0.2
             }
            },
            "type": "bar"
           }
          ],
          "barpolar": [
           {
            "marker": {
             "line": {
              "color": "#E5ECF6",
              "width": 0.5
             },
             "pattern": {
              "fillmode": "overlay",
              "size": 10,
              "solidity": 0.2
             }
            },
            "type": "barpolar"
           }
          ],
          "carpet": [
           {
            "aaxis": {
             "endlinecolor": "#2a3f5f",
             "gridcolor": "white",
             "linecolor": "white",
             "minorgridcolor": "white",
             "startlinecolor": "#2a3f5f"
            },
            "baxis": {
             "endlinecolor": "#2a3f5f",
             "gridcolor": "white",
             "linecolor": "white",
             "minorgridcolor": "white",
             "startlinecolor": "#2a3f5f"
            },
            "type": "carpet"
           }
          ],
          "choropleth": [
           {
            "colorbar": {
             "outlinewidth": 0,
             "ticks": ""
            },
            "type": "choropleth"
           }
          ],
          "contour": [
           {
            "colorbar": {
             "outlinewidth": 0,
             "ticks": ""
            },
            "colorscale": [
             [
              0,
              "#0d0887"
             ],
             [
              0.1111111111111111,
              "#46039f"
             ],
             [
              0.2222222222222222,
              "#7201a8"
             ],
             [
              0.3333333333333333,
              "#9c179e"
             ],
             [
              0.4444444444444444,
              "#bd3786"
             ],
             [
              0.5555555555555556,
              "#d8576b"
             ],
             [
              0.6666666666666666,
              "#ed7953"
             ],
             [
              0.7777777777777778,
              "#fb9f3a"
             ],
             [
              0.8888888888888888,
              "#fdca26"
             ],
             [
              1,
              "#f0f921"
             ]
            ],
            "type": "contour"
           }
          ],
          "contourcarpet": [
           {
            "colorbar": {
             "outlinewidth": 0,
             "ticks": ""
            },
            "type": "contourcarpet"
           }
          ],
          "heatmap": [
           {
            "colorbar": {
             "outlinewidth": 0,
             "ticks": ""
            },
            "colorscale": [
             [
              0,
              "#0d0887"
             ],
             [
              0.1111111111111111,
              "#46039f"
             ],
             [
              0.2222222222222222,
              "#7201a8"
             ],
             [
              0.3333333333333333,
              "#9c179e"
             ],
             [
              0.4444444444444444,
              "#bd3786"
             ],
             [
              0.5555555555555556,
              "#d8576b"
             ],
             [
              0.6666666666666666,
              "#ed7953"
             ],
             [
              0.7777777777777778,
              "#fb9f3a"
             ],
             [
              0.8888888888888888,
              "#fdca26"
             ],
             [
              1,
              "#f0f921"
             ]
            ],
            "type": "heatmap"
           }
          ],
          "heatmapgl": [
           {
            "colorbar": {
             "outlinewidth": 0,
             "ticks": ""
            },
            "colorscale": [
             [
              0,
              "#0d0887"
             ],
             [
              0.1111111111111111,
              "#46039f"
             ],
             [
              0.2222222222222222,
              "#7201a8"
             ],
             [
              0.3333333333333333,
              "#9c179e"
             ],
             [
              0.4444444444444444,
              "#bd3786"
             ],
             [
              0.5555555555555556,
              "#d8576b"
             ],
             [
              0.6666666666666666,
              "#ed7953"
             ],
             [
              0.7777777777777778,
              "#fb9f3a"
             ],
             [
              0.8888888888888888,
              "#fdca26"
             ],
             [
              1,
              "#f0f921"
             ]
            ],
            "type": "heatmapgl"
           }
          ],
          "histogram": [
           {
            "marker": {
             "pattern": {
              "fillmode": "overlay",
              "size": 10,
              "solidity": 0.2
             }
            },
            "type": "histogram"
           }
          ],
          "histogram2d": [
           {
            "colorbar": {
             "outlinewidth": 0,
             "ticks": ""
            },
            "colorscale": [
             [
              0,
              "#0d0887"
             ],
             [
              0.1111111111111111,
              "#46039f"
             ],
             [
              0.2222222222222222,
              "#7201a8"
             ],
             [
              0.3333333333333333,
              "#9c179e"
             ],
             [
              0.4444444444444444,
              "#bd3786"
             ],
             [
              0.5555555555555556,
              "#d8576b"
             ],
             [
              0.6666666666666666,
              "#ed7953"
             ],
             [
              0.7777777777777778,
              "#fb9f3a"
             ],
             [
              0.8888888888888888,
              "#fdca26"
             ],
             [
              1,
              "#f0f921"
             ]
            ],
            "type": "histogram2d"
           }
          ],
          "histogram2dcontour": [
           {
            "colorbar": {
             "outlinewidth": 0,
             "ticks": ""
            },
            "colorscale": [
             [
              0,
              "#0d0887"
             ],
             [
              0.1111111111111111,
              "#46039f"
             ],
             [
              0.2222222222222222,
              "#7201a8"
             ],
             [
              0.3333333333333333,
              "#9c179e"
             ],
             [
              0.4444444444444444,
              "#bd3786"
             ],
             [
              0.5555555555555556,
              "#d8576b"
             ],
             [
              0.6666666666666666,
              "#ed7953"
             ],
             [
              0.7777777777777778,
              "#fb9f3a"
             ],
             [
              0.8888888888888888,
              "#fdca26"
             ],
             [
              1,
              "#f0f921"
             ]
            ],
            "type": "histogram2dcontour"
           }
          ],
          "mesh3d": [
           {
            "colorbar": {
             "outlinewidth": 0,
             "ticks": ""
            },
            "type": "mesh3d"
           }
          ],
          "parcoords": [
           {
            "line": {
             "colorbar": {
              "outlinewidth": 0,
              "ticks": ""
             }
            },
            "type": "parcoords"
           }
          ],
          "pie": [
           {
            "automargin": true,
            "type": "pie"
           }
          ],
          "scatter": [
           {
            "fillpattern": {
             "fillmode": "overlay",
             "size": 10,
             "solidity": 0.2
            },
            "type": "scatter"
           }
          ],
          "scatter3d": [
           {
            "line": {
             "colorbar": {
              "outlinewidth": 0,
              "ticks": ""
             }
            },
            "marker": {
             "colorbar": {
              "outlinewidth": 0,
              "ticks": ""
             }
            },
            "type": "scatter3d"
           }
          ],
          "scattercarpet": [
           {
            "marker": {
             "colorbar": {
              "outlinewidth": 0,
              "ticks": ""
             }
            },
            "type": "scattercarpet"
           }
          ],
          "scattergeo": [
           {
            "marker": {
             "colorbar": {
              "outlinewidth": 0,
              "ticks": ""
             }
            },
            "type": "scattergeo"
           }
          ],
          "scattergl": [
           {
            "marker": {
             "colorbar": {
              "outlinewidth": 0,
              "ticks": ""
             }
            },
            "type": "scattergl"
           }
          ],
          "scattermapbox": [
           {
            "marker": {
             "colorbar": {
              "outlinewidth": 0,
              "ticks": ""
             }
            },
            "type": "scattermapbox"
           }
          ],
          "scatterpolar": [
           {
            "marker": {
             "colorbar": {
              "outlinewidth": 0,
              "ticks": ""
             }
            },
            "type": "scatterpolar"
           }
          ],
          "scatterpolargl": [
           {
            "marker": {
             "colorbar": {
              "outlinewidth": 0,
              "ticks": ""
             }
            },
            "type": "scatterpolargl"
           }
          ],
          "scatterternary": [
           {
            "marker": {
             "colorbar": {
              "outlinewidth": 0,
              "ticks": ""
             }
            },
            "type": "scatterternary"
           }
          ],
          "surface": [
           {
            "colorbar": {
             "outlinewidth": 0,
             "ticks": ""
            },
            "colorscale": [
             [
              0,
              "#0d0887"
             ],
             [
              0.1111111111111111,
              "#46039f"
             ],
             [
              0.2222222222222222,
              "#7201a8"
             ],
             [
              0.3333333333333333,
              "#9c179e"
             ],
             [
              0.4444444444444444,
              "#bd3786"
             ],
             [
              0.5555555555555556,
              "#d8576b"
             ],
             [
              0.6666666666666666,
              "#ed7953"
             ],
             [
              0.7777777777777778,
              "#fb9f3a"
             ],
             [
              0.8888888888888888,
              "#fdca26"
             ],
             [
              1,
              "#f0f921"
             ]
            ],
            "type": "surface"
           }
          ],
          "table": [
           {
            "cells": {
             "fill": {
              "color": "#EBF0F8"
             },
             "line": {
              "color": "white"
             }
            },
            "header": {
             "fill": {
              "color": "#C8D4E3"
             },
             "line": {
              "color": "white"
             }
            },
            "type": "table"
           }
          ]
         },
         "layout": {
          "annotationdefaults": {
           "arrowcolor": "#2a3f5f",
           "arrowhead": 0,
           "arrowwidth": 1
          },
          "autotypenumbers": "strict",
          "coloraxis": {
           "colorbar": {
            "outlinewidth": 0,
            "ticks": ""
           }
          },
          "colorscale": {
           "diverging": [
            [
             0,
             "#8e0152"
            ],
            [
             0.1,
             "#c51b7d"
            ],
            [
             0.2,
             "#de77ae"
            ],
            [
             0.3,
             "#f1b6da"
            ],
            [
             0.4,
             "#fde0ef"
            ],
            [
             0.5,
             "#f7f7f7"
            ],
            [
             0.6,
             "#e6f5d0"
            ],
            [
             0.7,
             "#b8e186"
            ],
            [
             0.8,
             "#7fbc41"
            ],
            [
             0.9,
             "#4d9221"
            ],
            [
             1,
             "#276419"
            ]
           ],
           "sequential": [
            [
             0,
             "#0d0887"
            ],
            [
             0.1111111111111111,
             "#46039f"
            ],
            [
             0.2222222222222222,
             "#7201a8"
            ],
            [
             0.3333333333333333,
             "#9c179e"
            ],
            [
             0.4444444444444444,
             "#bd3786"
            ],
            [
             0.5555555555555556,
             "#d8576b"
            ],
            [
             0.6666666666666666,
             "#ed7953"
            ],
            [
             0.7777777777777778,
             "#fb9f3a"
            ],
            [
             0.8888888888888888,
             "#fdca26"
            ],
            [
             1,
             "#f0f921"
            ]
           ],
           "sequentialminus": [
            [
             0,
             "#0d0887"
            ],
            [
             0.1111111111111111,
             "#46039f"
            ],
            [
             0.2222222222222222,
             "#7201a8"
            ],
            [
             0.3333333333333333,
             "#9c179e"
            ],
            [
             0.4444444444444444,
             "#bd3786"
            ],
            [
             0.5555555555555556,
             "#d8576b"
            ],
            [
             0.6666666666666666,
             "#ed7953"
            ],
            [
             0.7777777777777778,
             "#fb9f3a"
            ],
            [
             0.8888888888888888,
             "#fdca26"
            ],
            [
             1,
             "#f0f921"
            ]
           ]
          },
          "colorway": [
           "#636efa",
           "#EF553B",
           "#00cc96",
           "#ab63fa",
           "#FFA15A",
           "#19d3f3",
           "#FF6692",
           "#B6E880",
           "#FF97FF",
           "#FECB52"
          ],
          "font": {
           "color": "#2a3f5f"
          },
          "geo": {
           "bgcolor": "white",
           "lakecolor": "white",
           "landcolor": "#E5ECF6",
           "showlakes": true,
           "showland": true,
           "subunitcolor": "white"
          },
          "hoverlabel": {
           "align": "left"
          },
          "hovermode": "closest",
          "mapbox": {
           "style": "light"
          },
          "paper_bgcolor": "white",
          "plot_bgcolor": "#E5ECF6",
          "polar": {
           "angularaxis": {
            "gridcolor": "white",
            "linecolor": "white",
            "ticks": ""
           },
           "bgcolor": "#E5ECF6",
           "radialaxis": {
            "gridcolor": "white",
            "linecolor": "white",
            "ticks": ""
           }
          },
          "scene": {
           "xaxis": {
            "backgroundcolor": "#E5ECF6",
            "gridcolor": "white",
            "gridwidth": 2,
            "linecolor": "white",
            "showbackground": true,
            "ticks": "",
            "zerolinecolor": "white"
           },
           "yaxis": {
            "backgroundcolor": "#E5ECF6",
            "gridcolor": "white",
            "gridwidth": 2,
            "linecolor": "white",
            "showbackground": true,
            "ticks": "",
            "zerolinecolor": "white"
           },
           "zaxis": {
            "backgroundcolor": "#E5ECF6",
            "gridcolor": "white",
            "gridwidth": 2,
            "linecolor": "white",
            "showbackground": true,
            "ticks": "",
            "zerolinecolor": "white"
           }
          },
          "shapedefaults": {
           "line": {
            "color": "#2a3f5f"
           }
          },
          "ternary": {
           "aaxis": {
            "gridcolor": "white",
            "linecolor": "white",
            "ticks": ""
           },
           "baxis": {
            "gridcolor": "white",
            "linecolor": "white",
            "ticks": ""
           },
           "bgcolor": "#E5ECF6",
           "caxis": {
            "gridcolor": "white",
            "linecolor": "white",
            "ticks": ""
           }
          },
          "title": {
           "x": 0.05
          },
          "xaxis": {
           "automargin": true,
           "gridcolor": "white",
           "linecolor": "white",
           "ticks": "",
           "title": {
            "standoff": 15
           },
           "zerolinecolor": "white",
           "zerolinewidth": 2
          },
          "yaxis": {
           "automargin": true,
           "gridcolor": "white",
           "linecolor": "white",
           "ticks": "",
           "title": {
            "standoff": 15
           },
           "zerolinecolor": "white",
           "zerolinewidth": 2
          }
         }
        },
        "title": {
         "text": "Car Make and Condition Analysis by Price Range"
        },
        "xaxis": {
         "anchor": "y",
         "categoryorder": "total descending",
         "domain": [
          0,
          1
         ],
         "title": {
          "text": "Car Make"
         }
        },
        "yaxis": {
         "anchor": "x",
         "categoryarray": [
          "Fair",
          "Good",
          "Excellent"
         ],
         "categoryorder": "array",
         "domain": [
          0,
          1
         ],
         "title": {
          "text": "Condition"
         }
        }
       }
      }
     },
     "metadata": {},
     "output_type": "display_data"
    }
   ],
   "source": [
    "# Binning car prices into predefined ranges\n",
    "bins = [0, 5000000, 10000000, 15000000, 20000000, 25000000, 30000000, 35000000, 40000000, 50000000]\n",
    "labels = ['0-5M', '5-10M', '10-15M', '15-20M', '20-25M', '25-30M', '30-35M', '35-40M', '40-50M']\n",
    "df['price_range'] = pd.cut(df['price'], bins=bins, labels=labels, right=False)\n",
    "\n",
    "# Creating a scatter plot using Plotly\n",
    "fig = px.scatter(df, x='make', y='condition', color='price_range',\n",
    "                 title='Car Make and Condition Analysis by Price Range',\n",
    "                 hover_data=['make', 'condition', 'price','model'],\n",
    "                 category_orders={'condition': ['Excellent', 'Good', 'Fair']},\n",
    "                 labels={'make': 'Car Make', 'condition': 'Condition'})\n",
    "\n",
    "# Customize layout\n",
    "fig.update_layout(xaxis={'categoryorder':'total descending'})\n",
    "fig.update_traces(marker=dict(size=12, opacity=0.8))\n",
    "\n",
    "# Show top 10 and bottom 10 makes by condition\n",
    "top_10 = df.groupby('make')['price'].value_counts().unstack().fillna(0).sum(axis=1).nlargest(10).index\n",
    "bottom_10 = df.groupby('make')['price'].value_counts().unstack().fillna(0).sum(axis=1).nsmallest(10).index\n",
    "\n",
    "top_bottom_10 = pd.concat([df[df['make'].isin(top_10)], df[df['make'].isin(bottom_10)]])\n",
    "\n",
    "fig.show()"
   ]
  }
 ],
 "metadata": {
  "kernelspec": {
   "display_name": "Python 3",
   "language": "python",
   "name": "python3"
  },
  "language_info": {
   "codemirror_mode": {
    "name": "ipython",
    "version": 3
   },
   "file_extension": ".py",
   "mimetype": "text/x-python",
   "name": "python",
   "nbconvert_exporter": "python",
   "pygments_lexer": "ipython3",
   "version": "3.12.3"
  }
 },
 "nbformat": 4,
 "nbformat_minor": 2
}
